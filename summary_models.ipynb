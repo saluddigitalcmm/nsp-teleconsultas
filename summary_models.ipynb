{
 "cells": [
  {
   "cell_type": "markdown",
   "metadata": {
    "ExecuteTime": {
     "end_time": "2021-10-30T14:50:33.021344Z",
     "start_time": "2021-10-30T14:50:31.742481Z"
    }
   },
   "source": [
    "# Ejemplo de modelos utilizando 80/20 un año completo"
   ]
  },
  {
   "cell_type": "code",
   "execution_count": 2,
   "metadata": {
    "ExecuteTime": {
     "end_time": "2021-11-03T00:11:35.950249Z",
     "start_time": "2021-11-03T00:11:35.945238Z"
    }
   },
   "outputs": [],
   "source": [
    "import pandas as pd\n",
    "import numpy as np\n",
    "\n",
    "from collections import Counter\n",
    "\n",
    "from sklearn.model_selection import train_test_split\n",
    "from sklearn.model_selection import RandomizedSearchCV\n",
    "\n",
    "from sklearn.preprocessing import MinMaxScaler\n",
    "from sklearn.preprocessing import StandardScaler\n",
    "\n",
    "from sklearn.ensemble import RandomForestClassifier\n",
    "\n",
    "from sklearn.metrics import precision_score\n",
    "from sklearn.metrics import recall_score\n",
    "from sklearn.metrics import roc_auc_score\n",
    "from sklearn.metrics import f1_score\n",
    "from sklearn.metrics import accuracy_score\n",
    "\n",
    "pd.options.mode.chained_assignment = None  # default='warn'"
   ]
  },
  {
   "cell_type": "code",
   "execution_count": 3,
   "metadata": {
    "ExecuteTime": {
     "end_time": "2021-11-03T00:11:45.148924Z",
     "start_time": "2021-11-03T00:11:36.698076Z"
    }
   },
   "outputs": [],
   "source": [
    "df = pd.read_csv('export_TRAINSET_FILTERED_2018_20211016.csv')"
   ]
  },
  {
   "cell_type": "code",
   "execution_count": 4,
   "metadata": {
    "ExecuteTime": {
     "end_time": "2021-11-03T00:11:46.139740Z",
     "start_time": "2021-11-03T00:11:45.150869Z"
    }
   },
   "outputs": [
    {
     "name": "stdout",
     "output_type": "stream",
     "text": [
      "<class 'pandas.core.frame.DataFrame'>\n",
      "RangeIndex: 1452117 entries, 0 to 1452116\n",
      "Data columns (total 54 columns):\n",
      " #   Column                   Non-Null Count    Dtype  \n",
      "---  ------                   --------------    -----  \n",
      " 0   IDPACIENTE               1452117 non-null  int64  \n",
      " 1   EDAD                     1452117 non-null  int64  \n",
      " 2   SEXO                     1452117 non-null  object \n",
      " 3   PUEBLO_ORIGINARIO        785218 non-null   object \n",
      " 4   PREVISION                1449888 non-null  object \n",
      " 5   NACIONALIDAD             1452114 non-null  object \n",
      " 6   IDCITA                   1452117 non-null  object \n",
      " 7   TIPO_PROFESIONAL         1220199 non-null  object \n",
      " 8   PRESTACION               1452117 non-null  object \n",
      " 9   DATE_CITA                1452117 non-null  object \n",
      " 10  DATE_OF_WEEK             1452117 non-null  int64  \n",
      " 11  DATE_OF_MONTH            1452117 non-null  int64  \n",
      " 12  DAYOFYEAR                1452117 non-null  int64  \n",
      " 13  DAYOFMONTH               1452117 non-null  int64  \n",
      " 14  COMUNA                   1451986 non-null  object \n",
      " 15  ESPECIALIDAD             968296 non-null   object \n",
      " 16  DESCRIPCION_CITA         82988 non-null    object \n",
      " 17  ESTABLECIMIENTO          1452117 non-null  object \n",
      " 18  MINUTE_DAY               1452117 non-null  int64  \n",
      " 19  ATENCION_EN_PANDEMIA     1452117 non-null  bool   \n",
      " 20  DIFF_FECHA_CITA_AG       1452117 non-null  int64  \n",
      " 21  COMUNA_ESTABLECIMIENTO   1452117 non-null  object \n",
      " 22  SAME_LOCALITY            1452117 non-null  int64  \n",
      " 23  PREVIOUS_APP_30D         1452117 non-null  int64  \n",
      " 24  PREVIOUS_APP_60D         1452117 non-null  int64  \n",
      " 25  PREVIOUS_APP_90D         1452117 non-null  int64  \n",
      " 26  PREVIOUS_APP_120D        1452117 non-null  int64  \n",
      " 27  PREVIOUS_APP_365D        1452117 non-null  int64  \n",
      " 28  NSP_30D                  951038 non-null   float64\n",
      " 29  NSP_60D                  1099534 non-null  float64\n",
      " 30  NSP_90D                  1146708 non-null  float64\n",
      " 31  NSP_120D                 1172599 non-null  float64\n",
      " 32  NSP_365D                 1207797 non-null  float64\n",
      " 33  PREV_ESPC_SAME_APP_30D   1452117 non-null  int64  \n",
      " 34  PREV_ESPC_SAME_APP_60D   1452117 non-null  int64  \n",
      " 35  PREV_ESPC_SAME_APP_90D   1452117 non-null  int64  \n",
      " 36  PREV_ESPC_SAME_APP_120D  1452117 non-null  int64  \n",
      " 37  PREV_ESPC_SAME_APP_365D  1452117 non-null  int64  \n",
      " 38  NSP_ESPC_SAME_30D        366351 non-null   float64\n",
      " 39  NSP_ESPC_SAME_60D        499005 non-null   float64\n",
      " 40  NSP_ESPC_SAME_90D        548301 non-null   float64\n",
      " 41  NSP_ESPC_SAME_120D       582549 non-null   float64\n",
      " 42  NSP_ESPC_SAME_365D       630490 non-null   float64\n",
      " 43  PREV_TP_SAME_APP_30D     1452117 non-null  int64  \n",
      " 44  PREV_TP_SAME_APP_60D     1452117 non-null  int64  \n",
      " 45  PREV_TP_SAME_APP_90D     1452117 non-null  int64  \n",
      " 46  PREV_TP_SAME_APP_120D    1452117 non-null  int64  \n",
      " 47  PREV_TP_SAME_APP_365D    1452117 non-null  int64  \n",
      " 48  NSP_TP_SAME_30D          579936 non-null   float64\n",
      " 49  NSP_TP_SAME_60D          739078 non-null   float64\n",
      " 50  NSP_TP_SAME_90D          795180 non-null   float64\n",
      " 51  NSP_TP_SAME_120D         829014 non-null   float64\n",
      " 52  NSP_TP_SAME_365D         874385 non-null   float64\n",
      " 53  TARGET                   1452117 non-null  int64  \n",
      "dtypes: bool(1), float64(15), int64(25), object(13)\n",
      "memory usage: 588.6+ MB\n"
     ]
    }
   ],
   "source": [
    "df.info()"
   ]
  },
  {
   "cell_type": "code",
   "execution_count": 5,
   "metadata": {
    "ExecuteTime": {
     "end_time": "2021-11-03T00:11:46.459856Z",
     "start_time": "2021-11-03T00:11:46.141657Z"
    }
   },
   "outputs": [],
   "source": [
    "# Solo columnas númerica y el TARGET\n",
    "df = df[['EDAD', 'NSP_30D', 'MINUTE_DAY', 'DATE_OF_WEEK', \n",
    "         'NSP_60D', 'NSP_90D', 'NSP_120D', 'NSP_365D', \n",
    "         'PREVIOUS_APP_30D', 'PREVIOUS_APP_60D', 'PREVIOUS_APP_90D', 'PREVIOUS_APP_120D', 'PREVIOUS_APP_365D', \n",
    "         'TARGET']]\n",
    "\n",
    "# Nos quedamos con 10k ejemplo para poder probar más rápido\n",
    "df = df.sample(100000, random_state=45)\n",
    "\n",
    "# Imputamos -1 a los pacientes que no tienen NSP pasado\n",
    "df = df.fillna(-1)"
   ]
  },
  {
   "cell_type": "code",
   "execution_count": 5,
   "metadata": {
    "ExecuteTime": {
     "end_time": "2021-10-30T14:50:41.976484Z",
     "start_time": "2021-10-30T14:50:41.974301Z"
    }
   },
   "outputs": [],
   "source": [
    "# Probamos pero no tiene mejor resultado\n",
    "#scaler = StandardScaler()\n",
    "#df[df.columns[:-1]] = scaler.fit_transform(df[df.columns[:-1]])"
   ]
  },
  {
   "cell_type": "code",
   "execution_count": 6,
   "metadata": {
    "ExecuteTime": {
     "end_time": "2021-10-30T14:50:42.003261Z",
     "start_time": "2021-10-30T14:50:41.978210Z"
    }
   },
   "outputs": [
    {
     "data": {
      "text/html": [
       "<div>\n",
       "<style scoped>\n",
       "    .dataframe tbody tr th:only-of-type {\n",
       "        vertical-align: middle;\n",
       "    }\n",
       "\n",
       "    .dataframe tbody tr th {\n",
       "        vertical-align: top;\n",
       "    }\n",
       "\n",
       "    .dataframe thead th {\n",
       "        text-align: right;\n",
       "    }\n",
       "</style>\n",
       "<table border=\"1\" class=\"dataframe\">\n",
       "  <thead>\n",
       "    <tr style=\"text-align: right;\">\n",
       "      <th></th>\n",
       "      <th>EDAD</th>\n",
       "      <th>NSP_30D</th>\n",
       "      <th>MINUTE_DAY</th>\n",
       "      <th>DATE_OF_WEEK</th>\n",
       "      <th>NSP_60D</th>\n",
       "      <th>NSP_90D</th>\n",
       "      <th>NSP_120D</th>\n",
       "      <th>NSP_365D</th>\n",
       "      <th>PREVIOUS_APP_30D</th>\n",
       "      <th>PREVIOUS_APP_60D</th>\n",
       "      <th>PREVIOUS_APP_90D</th>\n",
       "      <th>PREVIOUS_APP_120D</th>\n",
       "      <th>PREVIOUS_APP_365D</th>\n",
       "      <th>TARGET</th>\n",
       "    </tr>\n",
       "  </thead>\n",
       "  <tbody>\n",
       "    <tr>\n",
       "      <th>1065778</th>\n",
       "      <td>74</td>\n",
       "      <td>-1.0</td>\n",
       "      <td>840</td>\n",
       "      <td>5</td>\n",
       "      <td>-1.000000</td>\n",
       "      <td>-1.000000</td>\n",
       "      <td>-1.000</td>\n",
       "      <td>-1.000</td>\n",
       "      <td>0</td>\n",
       "      <td>0</td>\n",
       "      <td>0</td>\n",
       "      <td>0</td>\n",
       "      <td>0</td>\n",
       "      <td>0</td>\n",
       "    </tr>\n",
       "    <tr>\n",
       "      <th>180813</th>\n",
       "      <td>4</td>\n",
       "      <td>-1.0</td>\n",
       "      <td>695</td>\n",
       "      <td>5</td>\n",
       "      <td>0.000000</td>\n",
       "      <td>0.000000</td>\n",
       "      <td>0.000</td>\n",
       "      <td>0.000</td>\n",
       "      <td>0</td>\n",
       "      <td>1</td>\n",
       "      <td>1</td>\n",
       "      <td>1</td>\n",
       "      <td>8</td>\n",
       "      <td>0</td>\n",
       "    </tr>\n",
       "    <tr>\n",
       "      <th>79959</th>\n",
       "      <td>5</td>\n",
       "      <td>0.0</td>\n",
       "      <td>1200</td>\n",
       "      <td>5</td>\n",
       "      <td>0.166667</td>\n",
       "      <td>0.142857</td>\n",
       "      <td>0.125</td>\n",
       "      <td>0.125</td>\n",
       "      <td>4</td>\n",
       "      <td>6</td>\n",
       "      <td>7</td>\n",
       "      <td>8</td>\n",
       "      <td>8</td>\n",
       "      <td>0</td>\n",
       "    </tr>\n",
       "    <tr>\n",
       "      <th>1250552</th>\n",
       "      <td>13</td>\n",
       "      <td>0.0</td>\n",
       "      <td>570</td>\n",
       "      <td>2</td>\n",
       "      <td>0.000000</td>\n",
       "      <td>0.000000</td>\n",
       "      <td>0.000</td>\n",
       "      <td>0.000</td>\n",
       "      <td>1</td>\n",
       "      <td>2</td>\n",
       "      <td>2</td>\n",
       "      <td>4</td>\n",
       "      <td>4</td>\n",
       "      <td>1</td>\n",
       "    </tr>\n",
       "    <tr>\n",
       "      <th>1051480</th>\n",
       "      <td>46</td>\n",
       "      <td>0.0</td>\n",
       "      <td>645</td>\n",
       "      <td>5</td>\n",
       "      <td>0.000000</td>\n",
       "      <td>0.000000</td>\n",
       "      <td>0.000</td>\n",
       "      <td>0.000</td>\n",
       "      <td>7</td>\n",
       "      <td>18</td>\n",
       "      <td>19</td>\n",
       "      <td>19</td>\n",
       "      <td>19</td>\n",
       "      <td>0</td>\n",
       "    </tr>\n",
       "  </tbody>\n",
       "</table>\n",
       "</div>"
      ],
      "text/plain": [
       "         EDAD  NSP_30D  MINUTE_DAY  DATE_OF_WEEK   NSP_60D   NSP_90D  \\\n",
       "1065778    74     -1.0         840             5 -1.000000 -1.000000   \n",
       "180813      4     -1.0         695             5  0.000000  0.000000   \n",
       "79959       5      0.0        1200             5  0.166667  0.142857   \n",
       "1250552    13      0.0         570             2  0.000000  0.000000   \n",
       "1051480    46      0.0         645             5  0.000000  0.000000   \n",
       "\n",
       "         NSP_120D  NSP_365D  PREVIOUS_APP_30D  PREVIOUS_APP_60D  \\\n",
       "1065778    -1.000    -1.000                 0                 0   \n",
       "180813      0.000     0.000                 0                 1   \n",
       "79959       0.125     0.125                 4                 6   \n",
       "1250552     0.000     0.000                 1                 2   \n",
       "1051480     0.000     0.000                 7                18   \n",
       "\n",
       "         PREVIOUS_APP_90D  PREVIOUS_APP_120D  PREVIOUS_APP_365D  TARGET  \n",
       "1065778                 0                  0                  0       0  \n",
       "180813                  1                  1                  8       0  \n",
       "79959                   7                  8                  8       0  \n",
       "1250552                 2                  4                  4       1  \n",
       "1051480                19                 19                 19       0  "
      ]
     },
     "execution_count": 6,
     "metadata": {},
     "output_type": "execute_result"
    }
   ],
   "source": [
    "df.sample(5)"
   ]
  },
  {
   "cell_type": "code",
   "execution_count": 7,
   "metadata": {
    "ExecuteTime": {
     "end_time": "2021-10-30T14:50:42.029133Z",
     "start_time": "2021-10-30T14:50:42.004599Z"
    }
   },
   "outputs": [
    {
     "name": "stdout",
     "output_type": "stream",
     "text": [
      "len(X_train): 80000 - len(X_test): 20000\n"
     ]
    }
   ],
   "source": [
    "# Separamos un 80-20\n",
    "X_train, X_test, y_train, y_test = \\\n",
    "    train_test_split(df.drop(['TARGET'], axis='columns'),\n",
    "                     df['TARGET'], \n",
    "                     test_size=0.2, \n",
    "                     random_state=42)\n",
    "\n",
    "print(f\"len(X_train): {len(X_train)} - len(X_test): {len(X_test)}\")"
   ]
  },
  {
   "cell_type": "markdown",
   "metadata": {
    "ExecuteTime": {
     "end_time": "2021-10-30T10:35:05.928757Z",
     "start_time": "2021-10-30T10:35:05.926391Z"
    }
   },
   "source": [
    "## Misc functions"
   ]
  },
  {
   "cell_type": "code",
   "execution_count": 22,
   "metadata": {
    "ExecuteTime": {
     "end_time": "2021-11-03T00:15:07.090141Z",
     "start_time": "2021-11-03T00:15:07.084718Z"
    }
   },
   "outputs": [],
   "source": [
    "def basic_metrics(y_pred, y):\n",
    "    \"\"\"\n",
    "    \"\"\"\n",
    "    # Calculo ROC\n",
    "    roc = roc_auc_score(y, y_pred[:, 1])\n",
    "    \n",
    "    # Cambio las probabilidades a 1/0\n",
    "    predictions = [1 if x[1] >= 0.5 else 0 for x in y_pred]\n",
    "    counter = Counter(predictions)\n",
    "    perc_postivie = counter[1]/len(predictions)\n",
    "\n",
    "    precision = precision_score(y_test, predictions)\n",
    "    f1score = f1_score(y_test, predictions)\n",
    "    \n",
    "    return f\"ROC: {roc} - Precision: {precision} - % Positivos: {perc_postivie} - % f1score: {f1score}\""
   ]
  },
  {
   "cell_type": "markdown",
   "metadata": {
    "ExecuteTime": {
     "end_time": "2021-10-30T10:29:26.747175Z",
     "start_time": "2021-10-30T10:29:26.744864Z"
    }
   },
   "source": [
    "## Xgboost"
   ]
  },
  {
   "cell_type": "code",
   "execution_count": 24,
   "metadata": {
    "ExecuteTime": {
     "end_time": "2021-11-03T00:15:13.662852Z",
     "start_time": "2021-11-03T00:15:12.981719Z"
    }
   },
   "outputs": [],
   "source": [
    "import xgboost as xgb"
   ]
  },
  {
   "cell_type": "markdown",
   "metadata": {},
   "source": [
    "### Todos los parámetros por defecto"
   ]
  },
  {
   "cell_type": "code",
   "execution_count": 10,
   "metadata": {
    "ExecuteTime": {
     "end_time": "2021-10-30T14:50:44.349667Z",
     "start_time": "2021-10-30T14:50:42.580294Z"
    }
   },
   "outputs": [
    {
     "name": "stdout",
     "output_type": "stream",
     "text": [
      "XGBClassifier(base_score=0.5, booster='gbtree', colsample_bylevel=1,\n",
      "              colsample_bynode=1, colsample_bytree=1, eval_metric='logloss',\n",
      "              gamma=0, gpu_id=-1, importance_type='gain',\n",
      "              interaction_constraints='', learning_rate=0.300000012,\n",
      "              max_delta_step=0, max_depth=6, min_child_weight=1, missing=nan,\n",
      "              monotone_constraints='()', n_estimators=100, n_jobs=0,\n",
      "              num_parallel_tree=1, random_state=42, reg_alpha=0, reg_lambda=1,\n",
      "              scale_pos_weight=1, seed=42, subsample=1, tree_method='exact',\n",
      "              validate_parameters=1, verbosity=0)\n"
     ]
    },
    {
     "data": {
      "text/plain": [
       "'ROC: 0.6706812753139082 - Precision: 0.3815789473684211 - % Positivos: 0.0038 - % f1score: 0.021129326047358832'"
      ]
     },
     "execution_count": 10,
     "metadata": {},
     "output_type": "execute_result"
    }
   ],
   "source": [
    "classifier = xgb.XGBClassifier(eval_metric='logloss', \n",
    "                               verbosity=0, \n",
    "                               seed=42)\n",
    "\n",
    "parameters_used = classifier.fit(X_train, y_train)\n",
    "print(parameters_used)\n",
    "\n",
    "y_pred = classifier.predict_proba(X_test)\n",
    "basic_metrics(y_pred, y_test)"
   ]
  },
  {
   "cell_type": "code",
   "execution_count": 11,
   "metadata": {
    "ExecuteTime": {
     "end_time": "2021-10-30T14:50:44.406669Z",
     "start_time": "2021-10-30T14:50:44.351282Z"
    }
   },
   "outputs": [
    {
     "data": {
      "text/plain": [
       "{'NSP_365D': 15.277752713903626,\n",
       " 'MINUTE_DAY': 4.518742304902786,\n",
       " 'EDAD': 3.9962387071068775,\n",
       " 'DATE_OF_WEEK': 2.9589736774755546,\n",
       " 'PREVIOUS_APP_120D': 3.7023144652,\n",
       " 'NSP_30D': 3.5507099270418943,\n",
       " 'NSP_60D': 3.386514626041885,\n",
       " 'PREVIOUS_APP_60D': 3.641642121348938,\n",
       " 'PREVIOUS_APP_365D': 6.296601197211078,\n",
       " 'PREVIOUS_APP_30D': 3.194221166021302,\n",
       " 'PREVIOUS_APP_90D': 3.147657079385964,\n",
       " 'NSP_120D': 3.9218731543951684,\n",
       " 'NSP_90D': 3.8896090429386514}"
      ]
     },
     "execution_count": 11,
     "metadata": {},
     "output_type": "execute_result"
    }
   ],
   "source": [
    "classifier._Booster.get_score(importance_type='gain')"
   ]
  },
  {
   "cell_type": "markdown",
   "metadata": {
    "ExecuteTime": {
     "end_time": "2021-10-30T11:49:58.669490Z",
     "start_time": "2021-10-30T11:49:58.666937Z"
    }
   },
   "source": [
    "### Utilizando el peso de la clase dado el desbalance"
   ]
  },
  {
   "cell_type": "code",
   "execution_count": 12,
   "metadata": {
    "ExecuteTime": {
     "end_time": "2021-10-30T14:50:46.301053Z",
     "start_time": "2021-10-30T14:50:44.408273Z"
    }
   },
   "outputs": [
    {
     "name": "stdout",
     "output_type": "stream",
     "text": [
      "XGBClassifier(base_score=0.5, booster='gbtree', colsample_bylevel=1,\n",
      "              colsample_bynode=1, colsample_bytree=1, eval_metric='logloss',\n",
      "              gamma=0, gpu_id=-1, importance_type='gain',\n",
      "              interaction_constraints='', learning_rate=0.300000012,\n",
      "              max_delta_step=0, max_depth=6, min_child_weight=1, missing=nan,\n",
      "              monotone_constraints='()', n_estimators=100, n_jobs=0,\n",
      "              num_parallel_tree=1, random_state=42, reg_alpha=0, reg_lambda=1,\n",
      "              scale_pos_weight=6.624275693809088, seed=42, subsample=1,\n",
      "              tree_method='exact', validate_parameters=1, verbosity=0)\n"
     ]
    },
    {
     "data": {
      "text/plain": [
       "'ROC: 0.6655149135020965 - Precision: 0.20752200586823152 - % Positivos: 0.3749 - % f1score: 0.3060883249729517'"
      ]
     },
     "execution_count": 12,
     "metadata": {},
     "output_type": "execute_result"
    }
   ],
   "source": [
    "# Utilizando el peso de la clase postivia\n",
    "classifier = xgb.XGBClassifier(eval_metric='logloss', \n",
    "                               verbosity=0,\n",
    "                               scale_pos_weight=df['TARGET'].value_counts().max()/df['TARGET'].value_counts().min(),\n",
    "                               seed=42)\n",
    "\n",
    "parameters_used = classifier.fit(X_train, y_train)\n",
    "print(parameters_used)\n",
    "\n",
    "y_pred = classifier.predict_proba(X_test)\n",
    "basic_metrics(y_pred, y_test)"
   ]
  },
  {
   "cell_type": "code",
   "execution_count": 13,
   "metadata": {
    "ExecuteTime": {
     "end_time": "2021-10-30T14:50:46.363858Z",
     "start_time": "2021-10-30T14:50:46.302700Z"
    }
   },
   "outputs": [
    {
     "data": {
      "text/plain": [
       "{'NSP_365D': 53.9627955662045,\n",
       " 'PREVIOUS_APP_365D': 29.363313520531005,\n",
       " 'MINUTE_DAY': 19.423126082108226,\n",
       " 'EDAD': 15.362211423522707,\n",
       " 'DATE_OF_WEEK': 13.684064221485157,\n",
       " 'PREVIOUS_APP_60D': 15.017289811324883,\n",
       " 'NSP_30D': 13.287485224880186,\n",
       " 'PREVIOUS_APP_120D': 14.335378116461527,\n",
       " 'NSP_90D': 14.80039466185102,\n",
       " 'NSP_60D': 12.196711582321859,\n",
       " 'PREVIOUS_APP_90D': 12.097701567605617,\n",
       " 'NSP_120D': 14.304550086290856,\n",
       " 'PREVIOUS_APP_30D': 11.997551911428241}"
      ]
     },
     "execution_count": 13,
     "metadata": {},
     "output_type": "execute_result"
    }
   ],
   "source": [
    "classifier._Booster.get_score(importance_type='gain')"
   ]
  },
  {
   "cell_type": "markdown",
   "metadata": {},
   "source": [
    "### Probando Hyper-parámetros"
   ]
  },
  {
   "cell_type": "code",
   "execution_count": 14,
   "metadata": {
    "ExecuteTime": {
     "end_time": "2021-10-30T16:12:36.617764Z",
     "start_time": "2021-10-30T14:50:46.365767Z"
    }
   },
   "outputs": [
    {
     "name": "stdout",
     "output_type": "stream",
     "text": [
      "Fitting 3 folds for each of 50 candidates, totalling 150 fits\n"
     ]
    },
    {
     "name": "stderr",
     "output_type": "stream",
     "text": [
      "[Parallel(n_jobs=-1)]: Using backend LokyBackend with 12 concurrent workers.\n",
      "[Parallel(n_jobs=-1)]: Done   1 tasks      | elapsed:   21.9s\n",
      "[Parallel(n_jobs=-1)]: Done   8 tasks      | elapsed:  1.8min\n",
      "[Parallel(n_jobs=-1)]: Done  17 tasks      | elapsed:  2.5min\n",
      "[Parallel(n_jobs=-1)]: Done  26 tasks      | elapsed:  5.9min\n",
      "[Parallel(n_jobs=-1)]: Done  37 tasks      | elapsed: 10.4min\n",
      "[Parallel(n_jobs=-1)]: Done  48 tasks      | elapsed: 14.4min\n",
      "[Parallel(n_jobs=-1)]: Done  61 tasks      | elapsed: 17.6min\n",
      "[Parallel(n_jobs=-1)]: Done  74 tasks      | elapsed: 18.7min\n",
      "[Parallel(n_jobs=-1)]: Done  89 tasks      | elapsed: 21.3min\n",
      "[Parallel(n_jobs=-1)]: Done 104 tasks      | elapsed: 24.6min\n",
      "[Parallel(n_jobs=-1)]: Done 121 tasks      | elapsed: 28.6min\n",
      "[Parallel(n_jobs=-1)]: Done 143 out of 150 | elapsed: 81.1min remaining:  4.0min\n",
      "[Parallel(n_jobs=-1)]: Done 150 out of 150 | elapsed: 81.6min finished\n"
     ]
    },
    {
     "name": "stdout",
     "output_type": "stream",
     "text": [
      "{'tree_method': 'auto', 'subsample': 1.0, 'scale_pos_weight': 6.624275693809088, 'n_estimators': 2000, 'min_child_weight': 10, 'max_depth': 2, 'lambda': 0.05555555555555555, 'gamma': 0.0, 'eval_metric': 'logloss', 'eta': 0.30000000000000004, 'colsample_bytree': 0.7, 'alpha': 0.0}\n"
     ]
    },
    {
     "data": {
      "text/plain": [
       "'ROC: 0.6690182311699351 - Precision: 0.20576233461110424 - % Positivos: 0.40435 - % f1score: 0.3094087021197471'"
      ]
     },
     "execution_count": 14,
     "metadata": {},
     "output_type": "execute_result"
    }
   ],
   "source": [
    "# Probando hyper-parámetros\n",
    "# https://xgboost.readthedocs.io/en/latest/parameter.html\n",
    "\n",
    "distributions_xgb = {'max_depth': [int(x) for x in np.linspace(2, 20, 10)],\n",
    "                    'min_child_weight': [int(x) for x in np.linspace(1, 10, 10)],\n",
    "                    'gamma': [x for x in np.linspace(0, 0.5, 6)],\n",
    "                    'eta': [x for x in np.linspace(0.1, 0.6, 6)],\n",
    "                    'n_estimators': [int(x) for x in np.linspace(200, 2000, 10)],\n",
    "                    'tree_method': ['auto', 'exact', 'approx', 'hist'],\n",
    "                    'alpha': [x for x in np.linspace(0, 0.5, 10)],\n",
    "                    'lambda':[x for x in np.linspace(0, 0.5, 10)],\n",
    "                    'subsample': [x for x in np.linspace(0.4, 1, 7)],\n",
    "                    'colsample_bytree': [x for x in np.linspace(0.6, 1, 5)],\n",
    "                    'scale_pos_weight': [df['TARGET'].value_counts().max()/df['TARGET'].value_counts().min(), 1],\n",
    "                    'eval_metric': ['logloss', 'auc', 'aucpr']\n",
    "                    }\n",
    "\n",
    "classifier = xgb.XGBClassifier(verbosity=0, seed=42)\n",
    "\n",
    "grid_search_cv_clf_xgb = RandomizedSearchCV(classifier, \n",
    "                                            distributions_xgb, \n",
    "                                            n_iter=50, \n",
    "                                            scoring='f1', \n",
    "                                            n_jobs=-1,\n",
    "                                            verbose=10,\n",
    "                                            cv=3, \n",
    "                                            random_state=0)  \n",
    "\n",
    "grid_search_cv_clf_xgb.fit(X_train, y_train)\n",
    "print(grid_search_cv_clf_xgb.best_params_)\n",
    "\n",
    "y_pred = grid_search_cv_clf_xgb.predict_proba(X_test)\n",
    "basic_metrics(y_pred, y_test)"
   ]
  },
  {
   "cell_type": "code",
   "execution_count": 15,
   "metadata": {
    "ExecuteTime": {
     "end_time": "2021-10-30T16:12:36.724302Z",
     "start_time": "2021-10-30T16:12:36.621191Z"
    }
   },
   "outputs": [
    {
     "data": {
      "text/plain": [
       "{'NSP_365D': 33.472023401929846,\n",
       " 'PREVIOUS_APP_365D': 8.079973574394778,\n",
       " 'PREVIOUS_APP_120D': 7.251809213843507,\n",
       " 'EDAD': 8.958400968626323,\n",
       " 'MINUTE_DAY': 10.56304993550288,\n",
       " 'NSP_30D': 7.781779807265562,\n",
       " 'PREVIOUS_APP_60D': 5.7276777008601645,\n",
       " 'NSP_60D': 5.823028758065934,\n",
       " 'PREVIOUS_APP_30D': 5.023899639262432,\n",
       " 'NSP_90D': 6.816893198585755,\n",
       " 'NSP_120D': 6.970883682948812,\n",
       " 'DATE_OF_WEEK': 7.008241409089823,\n",
       " 'PREVIOUS_APP_90D': 3.327888087333334}"
      ]
     },
     "execution_count": 15,
     "metadata": {},
     "output_type": "execute_result"
    }
   ],
   "source": [
    "grid_search_cv_clf_xgb.best_estimator_._Booster.get_score(importance_type='gain')"
   ]
  },
  {
   "cell_type": "code",
   "execution_count": 6,
   "metadata": {
    "ExecuteTime": {
     "end_time": "2021-11-03T00:12:09.357390Z",
     "start_time": "2021-11-03T00:12:09.355422Z"
    }
   },
   "outputs": [],
   "source": [
    "# Caso especial para la variable DIFF Agendamiento"
   ]
  },
  {
   "cell_type": "code",
   "execution_count": 16,
   "metadata": {
    "ExecuteTime": {
     "end_time": "2021-11-03T00:14:39.462448Z",
     "start_time": "2021-11-03T00:14:31.541870Z"
    }
   },
   "outputs": [],
   "source": [
    "df = pd.read_csv('export_TRAINSET_FILTERED_2018_20211016.csv')"
   ]
  },
  {
   "cell_type": "code",
   "execution_count": 17,
   "metadata": {
    "ExecuteTime": {
     "end_time": "2021-11-03T00:14:39.766283Z",
     "start_time": "2021-11-03T00:14:39.464398Z"
    }
   },
   "outputs": [],
   "source": [
    "# Solo columnas númerica y el TARGET\n",
    "df = df[['EDAD', 'NSP_30D', 'MINUTE_DAY', 'DATE_OF_WEEK', \n",
    "         'NSP_60D', 'NSP_90D', 'NSP_120D', 'NSP_365D', \n",
    "         'PREVIOUS_APP_30D', 'PREVIOUS_APP_60D', 'PREVIOUS_APP_90D', 'PREVIOUS_APP_120D', 'PREVIOUS_APP_365D', \n",
    "         'DIFF_FECHA_CITA_AG',\n",
    "         'TARGET']]\n",
    "\n",
    "# Nos quedamos con 10k ejemplo para poder probar más rápido\n",
    "df = df.sample(100000, random_state=45)\n",
    "\n",
    "# Imputamos -1 a los pacientes que no tienen NSP pasado\n",
    "df = df.fillna(-1)"
   ]
  },
  {
   "cell_type": "code",
   "execution_count": 18,
   "metadata": {
    "ExecuteTime": {
     "end_time": "2021-11-03T00:14:39.775267Z",
     "start_time": "2021-11-03T00:14:39.768290Z"
    }
   },
   "outputs": [
    {
     "data": {
      "text/plain": [
       "4019"
      ]
     },
     "execution_count": 18,
     "metadata": {},
     "output_type": "execute_result"
    }
   ],
   "source": [
    "len(df[df['DIFF_FECHA_CITA_AG'] > 0])"
   ]
  },
  {
   "cell_type": "code",
   "execution_count": 19,
   "metadata": {
    "ExecuteTime": {
     "end_time": "2021-11-03T00:14:39.827469Z",
     "start_time": "2021-11-03T00:14:39.777238Z"
    }
   },
   "outputs": [],
   "source": [
    "df['DIFF_FECHA_CITA_AG'] = df['DIFF_FECHA_CITA_AG'].apply(lambda x: 0 if x > 0 else x)"
   ]
  },
  {
   "cell_type": "code",
   "execution_count": 20,
   "metadata": {
    "ExecuteTime": {
     "end_time": "2021-11-03T00:14:56.746540Z",
     "start_time": "2021-11-03T00:14:56.718259Z"
    }
   },
   "outputs": [
    {
     "name": "stdout",
     "output_type": "stream",
     "text": [
      "len(X_train): 80000 - len(X_test): 20000\n"
     ]
    }
   ],
   "source": [
    "# Separamos un 80-20\n",
    "X_train, X_test, y_train, y_test = \\\n",
    "    train_test_split(df.drop(['TARGET'], axis='columns'),\n",
    "                     df['TARGET'], \n",
    "                     test_size=0.2, \n",
    "                     random_state=42)\n",
    "\n",
    "print(f\"len(X_train): {len(X_train)} - len(X_test): {len(X_test)}\")"
   ]
  },
  {
   "cell_type": "code",
   "execution_count": 25,
   "metadata": {
    "ExecuteTime": {
     "end_time": "2021-11-03T00:15:19.601527Z",
     "start_time": "2021-11-03T00:15:17.428606Z"
    }
   },
   "outputs": [
    {
     "name": "stdout",
     "output_type": "stream",
     "text": [
      "XGBClassifier(base_score=0.5, booster='gbtree', colsample_bylevel=1,\n",
      "              colsample_bynode=1, colsample_bytree=1, eval_metric='logloss',\n",
      "              gamma=0, gpu_id=-1, importance_type='gain',\n",
      "              interaction_constraints='', learning_rate=0.300000012,\n",
      "              max_delta_step=0, max_depth=6, min_child_weight=1, missing=nan,\n",
      "              monotone_constraints='()', n_estimators=100, n_jobs=0,\n",
      "              num_parallel_tree=1, random_state=42, reg_alpha=0, reg_lambda=1,\n",
      "              scale_pos_weight=6.624275693809088, seed=42, subsample=1,\n",
      "              tree_method='exact', validate_parameters=1, verbosity=0)\n"
     ]
    },
    {
     "data": {
      "text/plain": [
       "'ROC: 0.7191199802475068 - Precision: 0.22531969309462915 - % Positivos: 0.391 - % f1score: 0.3359710172561732'"
      ]
     },
     "execution_count": 25,
     "metadata": {},
     "output_type": "execute_result"
    }
   ],
   "source": [
    "# Utilizando el peso de la clase postivia\n",
    "classifier = xgb.XGBClassifier(eval_metric='logloss', \n",
    "                               verbosity=0,\n",
    "                               scale_pos_weight=df['TARGET'].value_counts().max()/df['TARGET'].value_counts().min(),\n",
    "                               seed=42)\n",
    "\n",
    "parameters_used = classifier.fit(X_train, y_train)\n",
    "print(parameters_used)\n",
    "\n",
    "y_pred = classifier.predict_proba(X_test)\n",
    "basic_metrics(y_pred, y_test)"
   ]
  },
  {
   "cell_type": "code",
   "execution_count": 27,
   "metadata": {
    "ExecuteTime": {
     "end_time": "2021-11-03T00:16:29.474984Z",
     "start_time": "2021-11-03T00:16:29.407287Z"
    }
   },
   "outputs": [
    {
     "data": {
      "text/plain": [
       "{'DIFF_FECHA_CITA_AG': 75.85803413489998,\n",
       " 'NSP_365D': 42.62306914775828,\n",
       " 'PREVIOUS_APP_365D': 22.00686830756428,\n",
       " 'EDAD': 15.96158606651231,\n",
       " 'DATE_OF_WEEK': 11.776131957269227,\n",
       " 'PREVIOUS_APP_120D': 15.332583479293014,\n",
       " 'NSP_90D': 15.92213115928273,\n",
       " 'NSP_30D': 12.51155123052712,\n",
       " 'MINUTE_DAY': 13.588530218480884,\n",
       " 'PREVIOUS_APP_90D': 12.703682773552634,\n",
       " 'PREVIOUS_APP_60D': 12.637106353245093,\n",
       " 'NSP_120D': 12.919015118260875,\n",
       " 'PREVIOUS_APP_30D': 11.15941163689532,\n",
       " 'NSP_60D': 14.088530551585356}"
      ]
     },
     "execution_count": 27,
     "metadata": {},
     "output_type": "execute_result"
    }
   ],
   "source": [
    "classifier.get_booster().get_score(importance_type='gain')"
   ]
  },
  {
   "cell_type": "markdown",
   "metadata": {
    "ExecuteTime": {
     "end_time": "2021-10-30T11:18:34.824691Z",
     "start_time": "2021-10-30T11:18:34.819533Z"
    }
   },
   "source": [
    "## Random forest"
   ]
  },
  {
   "cell_type": "code",
   "execution_count": 16,
   "metadata": {
    "ExecuteTime": {
     "end_time": "2021-10-30T16:12:45.216242Z",
     "start_time": "2021-10-30T16:12:36.725693Z"
    }
   },
   "outputs": [
    {
     "data": {
      "text/plain": [
       "'ROC: 0.6142182064641856 - Precision: 0.25834542815674894 - % Positivos: 0.03445 - % f1score: 0.10601548540798095'"
      ]
     },
     "execution_count": 16,
     "metadata": {},
     "output_type": "execute_result"
    }
   ],
   "source": [
    "clf = RandomForestClassifier(random_state=42)\n",
    "clf.fit(X_train, y_train)\n",
    "\n",
    "y_pred = clf.predict_proba(X_test)\n",
    "basic_metrics(y_pred, y_test)"
   ]
  },
  {
   "cell_type": "code",
   "execution_count": 17,
   "metadata": {
    "ExecuteTime": {
     "end_time": "2021-10-30T16:12:54.428540Z",
     "start_time": "2021-10-30T16:12:45.217481Z"
    }
   },
   "outputs": [
    {
     "data": {
      "text/plain": [
       "'ROC: 0.6099344569087993 - Precision: 0.251896813353566 - % Positivos: 0.03295 - % f1score: 0.09975961538461539'"
      ]
     },
     "execution_count": 17,
     "metadata": {},
     "output_type": "execute_result"
    }
   ],
   "source": [
    "clf = RandomForestClassifier(random_state=42, class_weight=Counter(df['TARGET']))\n",
    "clf.fit(X_train, y_train)\n",
    "\n",
    "y_pred = clf.predict_proba(X_test)\n",
    "basic_metrics(y_pred, y_test)"
   ]
  },
  {
   "cell_type": "code",
   "execution_count": 18,
   "metadata": {
    "ExecuteTime": {
     "end_time": "2021-10-30T16:26:58.862117Z",
     "start_time": "2021-10-30T16:12:54.429815Z"
    }
   },
   "outputs": [
    {
     "name": "stdout",
     "output_type": "stream",
     "text": [
      "Fitting 3 folds for each of 50 candidates, totalling 150 fits\n"
     ]
    },
    {
     "name": "stderr",
     "output_type": "stream",
     "text": [
      "[Parallel(n_jobs=-1)]: Using backend LokyBackend with 12 concurrent workers.\n",
      "[Parallel(n_jobs=-1)]: Done   1 tasks      | elapsed:    5.7s\n",
      "[Parallel(n_jobs=-1)]: Done   8 tasks      | elapsed:   19.3s\n",
      "[Parallel(n_jobs=-1)]: Done  17 tasks      | elapsed:  1.5min\n",
      "[Parallel(n_jobs=-1)]: Done  26 tasks      | elapsed:  2.5min\n",
      "[Parallel(n_jobs=-1)]: Done  37 tasks      | elapsed:  3.1min\n",
      "[Parallel(n_jobs=-1)]: Done  48 tasks      | elapsed:  4.8min\n",
      "[Parallel(n_jobs=-1)]: Done  61 tasks      | elapsed:  5.3min\n",
      "[Parallel(n_jobs=-1)]: Done  74 tasks      | elapsed:  5.9min\n",
      "[Parallel(n_jobs=-1)]: Done  89 tasks      | elapsed:  7.7min\n",
      "[Parallel(n_jobs=-1)]: Done 104 tasks      | elapsed:  9.1min\n",
      "[Parallel(n_jobs=-1)]: Done 121 tasks      | elapsed: 10.8min\n",
      "[Parallel(n_jobs=-1)]: Done 143 out of 150 | elapsed: 12.6min remaining:   36.9s\n",
      "[Parallel(n_jobs=-1)]: Done 150 out of 150 | elapsed: 12.9min finished\n"
     ]
    },
    {
     "name": "stdout",
     "output_type": "stream",
     "text": [
      "{'n_estimators': 800, 'min_samples_split': 2, 'min_samples_leaf': 1, 'max_depth': 30}\n"
     ]
    },
    {
     "data": {
      "text/plain": [
       "'ROC: 0.6176191491956395 - Precision: 0.25811965811965815 - % Positivos: 0.02925 - % f1score: 0.09280885064535956'"
      ]
     },
     "execution_count": 18,
     "metadata": {},
     "output_type": "execute_result"
    }
   ],
   "source": [
    "distributions_forest = {'n_estimators': [100, 300, 500, 800, 1200],\n",
    "                        'max_depth': [5, 8, 15, 25, 30],\n",
    "                        'min_samples_split': [2, 5, 10, 15, 100],\n",
    "                        'min_samples_leaf': [1, 2, 5, 10] ,\n",
    "                        }\n",
    "\n",
    "clf = RandomForestClassifier(random_state=42, class_weight=Counter(df['TARGET']))\n",
    "\n",
    "gridF = RandomizedSearchCV(clf, \n",
    "                           distributions_forest, \n",
    "                           cv = 3, \n",
    "                           scoring='f1',\n",
    "                           n_iter=50,\n",
    "                           verbose = 10, \n",
    "                           random_state=0,\n",
    "                           n_jobs = -1)\n",
    "                                            \n",
    "\n",
    "bestF = gridF.fit(X_train, y_train)\n",
    "print(bestF.best_params_)\n",
    "\n",
    "y_pred = bestF.predict_proba(X_test)\n",
    "basic_metrics(y_pred, y_test)"
   ]
  },
  {
   "cell_type": "markdown",
   "metadata": {
    "ExecuteTime": {
     "end_time": "2021-10-30T13:51:31.115680Z",
     "start_time": "2021-10-30T13:51:31.110276Z"
    }
   },
   "source": [
    "## Agregando variables categorícas"
   ]
  },
  {
   "cell_type": "code",
   "execution_count": 19,
   "metadata": {
    "ExecuteTime": {
     "end_time": "2021-10-30T16:27:06.647606Z",
     "start_time": "2021-10-30T16:26:58.865576Z"
    }
   },
   "outputs": [],
   "source": [
    "df = pd.read_csv('export_TRAINSET_FILTERED_2018_20211016.csv')"
   ]
  },
  {
   "cell_type": "code",
   "execution_count": 20,
   "metadata": {
    "ExecuteTime": {
     "end_time": "2021-10-30T16:27:07.093084Z",
     "start_time": "2021-10-30T16:27:06.649403Z"
    }
   },
   "outputs": [],
   "source": [
    "# Solo columnas númerica y el TARGET\n",
    "df = df[['EDAD', 'SEXO',\n",
    "         'MINUTE_DAY', 'DATE_OF_WEEK', \n",
    "         'NACIONALIDAD', 'TIPO_PROFESIONAL', 'PRESTACION', 'ESPECIALIDAD',\n",
    "         'NSP_30D', 'NSP_60D', 'NSP_90D', 'NSP_120D', 'NSP_365D', \n",
    "         'PREVIOUS_APP_30D', 'PREVIOUS_APP_60D', 'PREVIOUS_APP_90D', 'PREVIOUS_APP_120D', 'PREVIOUS_APP_365D', \n",
    "         'TARGET']]\n",
    "\n",
    "# Nos quedamos con 10k ejemplo para poder probar más rápido\n",
    "df = df.sample(100000, random_state=45)\n",
    "\n",
    "# Imputamos -1 a los pacientes que no tienen NSP pasado\n",
    "df = df.fillna(-1)"
   ]
  },
  {
   "cell_type": "code",
   "execution_count": 21,
   "metadata": {
    "ExecuteTime": {
     "end_time": "2021-10-30T16:27:07.449516Z",
     "start_time": "2021-10-30T16:27:07.094678Z"
    }
   },
   "outputs": [],
   "source": [
    "# https://medium.com/gett-engineering/handling-rare-categorical-values-in-pandas-d1e3f17475f0\n",
    "for cat in ['NACIONALIDAD', 'TIPO_PROFESIONAL', 'PRESTACION', 'ESPECIALIDAD']:\n",
    "    df[cat] = df[cat].str.replace(' ', '_')\n",
    "    df[cat] = df[cat].mask(df[cat].map(df[cat].value_counts(normalize=True)) < 0.01, 'Other')"
   ]
  },
  {
   "cell_type": "code",
   "execution_count": 22,
   "metadata": {
    "ExecuteTime": {
     "end_time": "2021-10-30T16:27:07.840698Z",
     "start_time": "2021-10-30T16:27:07.451158Z"
    }
   },
   "outputs": [],
   "source": [
    "# One hot encoder\n",
    "for cat in ['SEXO', 'NACIONALIDAD', 'TIPO_PROFESIONAL', 'PRESTACION', 'ESPECIALIDAD']:\n",
    "    df_dummies = pd.get_dummies(df[cat].str.upper(), prefix=cat[:3] + '_')\n",
    "    df = pd.concat([df, df_dummies], axis=1)"
   ]
  },
  {
   "cell_type": "code",
   "execution_count": 23,
   "metadata": {
    "ExecuteTime": {
     "end_time": "2021-10-30T16:27:07.899449Z",
     "start_time": "2021-10-30T16:27:07.850142Z"
    }
   },
   "outputs": [
    {
     "data": {
      "text/html": [
       "<div>\n",
       "<style scoped>\n",
       "    .dataframe tbody tr th:only-of-type {\n",
       "        vertical-align: middle;\n",
       "    }\n",
       "\n",
       "    .dataframe tbody tr th {\n",
       "        vertical-align: top;\n",
       "    }\n",
       "\n",
       "    .dataframe thead th {\n",
       "        text-align: right;\n",
       "    }\n",
       "</style>\n",
       "<table border=\"1\" class=\"dataframe\">\n",
       "  <thead>\n",
       "    <tr style=\"text-align: right;\">\n",
       "      <th></th>\n",
       "      <th>EDAD</th>\n",
       "      <th>SEXO</th>\n",
       "      <th>MINUTE_DAY</th>\n",
       "      <th>DATE_OF_WEEK</th>\n",
       "      <th>NACIONALIDAD</th>\n",
       "      <th>TIPO_PROFESIONAL</th>\n",
       "      <th>PRESTACION</th>\n",
       "      <th>ESPECIALIDAD</th>\n",
       "      <th>NSP_30D</th>\n",
       "      <th>NSP_60D</th>\n",
       "      <th>...</th>\n",
       "      <th>ESP__OTORRINOLARINGOLOGÍA</th>\n",
       "      <th>ESP__PERIODONCIA</th>\n",
       "      <th>ESP__PSIQUIATRÍA_ADULTO</th>\n",
       "      <th>ESP__PSIQUIATRÍA_INFANTIL</th>\n",
       "      <th>ESP__REHABILITACIÓN_PRÓTESIS_REMOVIBLE</th>\n",
       "      <th>ESP__REUMATOLOGÍA</th>\n",
       "      <th>ESP__TRAUMATOLOGÍA_Y_ORTOPEDIA_ADULTO</th>\n",
       "      <th>ESP__TRAUMATOLOGÍA_Y_ORTOPEDIA_PEDIÁTRICA</th>\n",
       "      <th>ESP__UNIDAD_DE_PATOLOGÍA_CERVICAL_</th>\n",
       "      <th>ESP__UROLOGÍA_ADULTO</th>\n",
       "    </tr>\n",
       "  </thead>\n",
       "  <tbody>\n",
       "    <tr>\n",
       "      <th>683478</th>\n",
       "      <td>78</td>\n",
       "      <td>Mujer</td>\n",
       "      <td>680</td>\n",
       "      <td>5</td>\n",
       "      <td>Chile</td>\n",
       "      <td>Médico</td>\n",
       "      <td>Consulta_Integral_De_Especialidades_En_Medic_I...</td>\n",
       "      <td>Neurología_Adulto</td>\n",
       "      <td>-1.000000</td>\n",
       "      <td>-1.000</td>\n",
       "      <td>...</td>\n",
       "      <td>0</td>\n",
       "      <td>0</td>\n",
       "      <td>0</td>\n",
       "      <td>0</td>\n",
       "      <td>0</td>\n",
       "      <td>0</td>\n",
       "      <td>0</td>\n",
       "      <td>0</td>\n",
       "      <td>0</td>\n",
       "      <td>0</td>\n",
       "    </tr>\n",
       "    <tr>\n",
       "      <th>1214723</th>\n",
       "      <td>29</td>\n",
       "      <td>Mujer</td>\n",
       "      <td>720</td>\n",
       "      <td>5</td>\n",
       "      <td>Chile</td>\n",
       "      <td>Médico</td>\n",
       "      <td>Other</td>\n",
       "      <td>NaN</td>\n",
       "      <td>0.000000</td>\n",
       "      <td>0.000</td>\n",
       "      <td>...</td>\n",
       "      <td>0</td>\n",
       "      <td>0</td>\n",
       "      <td>0</td>\n",
       "      <td>0</td>\n",
       "      <td>0</td>\n",
       "      <td>0</td>\n",
       "      <td>0</td>\n",
       "      <td>0</td>\n",
       "      <td>0</td>\n",
       "      <td>0</td>\n",
       "    </tr>\n",
       "    <tr>\n",
       "      <th>1114896</th>\n",
       "      <td>91</td>\n",
       "      <td>Mujer</td>\n",
       "      <td>930</td>\n",
       "      <td>5</td>\n",
       "      <td>Chile</td>\n",
       "      <td>Enfermera_(o)</td>\n",
       "      <td>Consulta_O_Control_Por_Enfermera,_Matrona_O_Nu...</td>\n",
       "      <td>NaN</td>\n",
       "      <td>0.000000</td>\n",
       "      <td>0.000</td>\n",
       "      <td>...</td>\n",
       "      <td>0</td>\n",
       "      <td>0</td>\n",
       "      <td>0</td>\n",
       "      <td>0</td>\n",
       "      <td>0</td>\n",
       "      <td>0</td>\n",
       "      <td>0</td>\n",
       "      <td>0</td>\n",
       "      <td>0</td>\n",
       "      <td>0</td>\n",
       "    </tr>\n",
       "    <tr>\n",
       "      <th>589534</th>\n",
       "      <td>11</td>\n",
       "      <td>Hombre</td>\n",
       "      <td>645</td>\n",
       "      <td>6</td>\n",
       "      <td>Chile</td>\n",
       "      <td>Psicólogo_(a)</td>\n",
       "      <td>Consulta_O_Control_Por_Psicologo_Clinico</td>\n",
       "      <td>Psiquiatría_Infantil</td>\n",
       "      <td>0.166667</td>\n",
       "      <td>0.125</td>\n",
       "      <td>...</td>\n",
       "      <td>0</td>\n",
       "      <td>0</td>\n",
       "      <td>0</td>\n",
       "      <td>1</td>\n",
       "      <td>0</td>\n",
       "      <td>0</td>\n",
       "      <td>0</td>\n",
       "      <td>0</td>\n",
       "      <td>0</td>\n",
       "      <td>0</td>\n",
       "    </tr>\n",
       "    <tr>\n",
       "      <th>1394536</th>\n",
       "      <td>87</td>\n",
       "      <td>Hombre</td>\n",
       "      <td>795</td>\n",
       "      <td>2</td>\n",
       "      <td>Chile</td>\n",
       "      <td>Médico</td>\n",
       "      <td>Consulta_Integral_Especialidad_Urologia,_Orl,_...</td>\n",
       "      <td>Dermatología</td>\n",
       "      <td>-1.000000</td>\n",
       "      <td>-1.000</td>\n",
       "      <td>...</td>\n",
       "      <td>0</td>\n",
       "      <td>0</td>\n",
       "      <td>0</td>\n",
       "      <td>0</td>\n",
       "      <td>0</td>\n",
       "      <td>0</td>\n",
       "      <td>0</td>\n",
       "      <td>0</td>\n",
       "      <td>0</td>\n",
       "      <td>0</td>\n",
       "    </tr>\n",
       "  </tbody>\n",
       "</table>\n",
       "<p>5 rows × 90 columns</p>\n",
       "</div>"
      ],
      "text/plain": [
       "         EDAD    SEXO  MINUTE_DAY  DATE_OF_WEEK NACIONALIDAD TIPO_PROFESIONAL  \\\n",
       "683478     78   Mujer         680             5        Chile           Médico   \n",
       "1214723    29   Mujer         720             5        Chile           Médico   \n",
       "1114896    91   Mujer         930             5        Chile    Enfermera_(o)   \n",
       "589534     11  Hombre         645             6        Chile    Psicólogo_(a)   \n",
       "1394536    87  Hombre         795             2        Chile           Médico   \n",
       "\n",
       "                                                PRESTACION  \\\n",
       "683478   Consulta_Integral_De_Especialidades_En_Medic_I...   \n",
       "1214723                                              Other   \n",
       "1114896  Consulta_O_Control_Por_Enfermera,_Matrona_O_Nu...   \n",
       "589534            Consulta_O_Control_Por_Psicologo_Clinico   \n",
       "1394536  Consulta_Integral_Especialidad_Urologia,_Orl,_...   \n",
       "\n",
       "                 ESPECIALIDAD   NSP_30D  NSP_60D  ...  \\\n",
       "683478      Neurología_Adulto -1.000000   -1.000  ...   \n",
       "1214723                   NaN  0.000000    0.000  ...   \n",
       "1114896                   NaN  0.000000    0.000  ...   \n",
       "589534   Psiquiatría_Infantil  0.166667    0.125  ...   \n",
       "1394536          Dermatología -1.000000   -1.000  ...   \n",
       "\n",
       "         ESP__OTORRINOLARINGOLOGÍA  ESP__PERIODONCIA  ESP__PSIQUIATRÍA_ADULTO  \\\n",
       "683478                           0                 0                        0   \n",
       "1214723                          0                 0                        0   \n",
       "1114896                          0                 0                        0   \n",
       "589534                           0                 0                        0   \n",
       "1394536                          0                 0                        0   \n",
       "\n",
       "         ESP__PSIQUIATRÍA_INFANTIL  ESP__REHABILITACIÓN_PRÓTESIS_REMOVIBLE  \\\n",
       "683478                           0                                       0   \n",
       "1214723                          0                                       0   \n",
       "1114896                          0                                       0   \n",
       "589534                           1                                       0   \n",
       "1394536                          0                                       0   \n",
       "\n",
       "         ESP__REUMATOLOGÍA  ESP__TRAUMATOLOGÍA_Y_ORTOPEDIA_ADULTO  \\\n",
       "683478                   0                                      0   \n",
       "1214723                  0                                      0   \n",
       "1114896                  0                                      0   \n",
       "589534                   0                                      0   \n",
       "1394536                  0                                      0   \n",
       "\n",
       "         ESP__TRAUMATOLOGÍA_Y_ORTOPEDIA_PEDIÁTRICA  \\\n",
       "683478                                           0   \n",
       "1214723                                          0   \n",
       "1114896                                          0   \n",
       "589534                                           0   \n",
       "1394536                                          0   \n",
       "\n",
       "         ESP__UNIDAD_DE_PATOLOGÍA_CERVICAL_  ESP__UROLOGÍA_ADULTO  \n",
       "683478                                    0                     0  \n",
       "1214723                                   0                     0  \n",
       "1114896                                   0                     0  \n",
       "589534                                    0                     0  \n",
       "1394536                                   0                     0  \n",
       "\n",
       "[5 rows x 90 columns]"
      ]
     },
     "execution_count": 23,
     "metadata": {},
     "output_type": "execute_result"
    }
   ],
   "source": [
    "df.sample(5)"
   ]
  },
  {
   "cell_type": "markdown",
   "metadata": {},
   "source": [
    "## Eliminamos las variables transformadas"
   ]
  },
  {
   "cell_type": "code",
   "execution_count": 24,
   "metadata": {
    "ExecuteTime": {
     "end_time": "2021-10-30T16:27:07.984335Z",
     "start_time": "2021-10-30T16:27:07.901284Z"
    }
   },
   "outputs": [
    {
     "name": "stdout",
     "output_type": "stream",
     "text": [
      "len(X_train): 80000 - len(X_test): 20000\n"
     ]
    }
   ],
   "source": [
    "# Separamos un 80-20\n",
    "X_train, X_test, y_train, y_test = \\\n",
    "    train_test_split(df.drop(['TARGET', 'SEXO', 'NACIONALIDAD', 'TIPO_PROFESIONAL', 'PRESTACION', 'ESPECIALIDAD'],\n",
    "                             axis='columns'),\n",
    "                     df['TARGET'], \n",
    "                     test_size=0.2, \n",
    "                     random_state=42)\n",
    "\n",
    "print(f\"len(X_train): {len(X_train)} - len(X_test): {len(X_test)}\")"
   ]
  },
  {
   "cell_type": "markdown",
   "metadata": {
    "ExecuteTime": {
     "end_time": "2021-10-30T14:24:20.727914Z",
     "start_time": "2021-10-30T14:24:20.725532Z"
    }
   },
   "source": [
    "### Todos los parámetros por defecto"
   ]
  },
  {
   "cell_type": "code",
   "execution_count": 25,
   "metadata": {
    "ExecuteTime": {
     "end_time": "2021-10-30T16:27:13.676596Z",
     "start_time": "2021-10-30T16:27:07.985829Z"
    }
   },
   "outputs": [
    {
     "name": "stdout",
     "output_type": "stream",
     "text": [
      "XGBClassifier(base_score=0.5, booster='gbtree', colsample_bylevel=1,\n",
      "              colsample_bynode=1, colsample_bytree=1, eval_metric='logloss',\n",
      "              gamma=0, gpu_id=-1, importance_type='gain',\n",
      "              interaction_constraints='', learning_rate=0.300000012,\n",
      "              max_delta_step=0, max_depth=6, min_child_weight=1, missing=nan,\n",
      "              monotone_constraints='()', n_estimators=100, n_jobs=0,\n",
      "              num_parallel_tree=1, random_state=42, reg_alpha=0, reg_lambda=1,\n",
      "              scale_pos_weight=1, seed=42, subsample=1, tree_method='exact',\n",
      "              validate_parameters=1, verbosity=0)\n"
     ]
    },
    {
     "data": {
      "text/plain": [
       "'ROC: 0.7250153973158201 - Precision: 0.5317460317460317 - % Positivos: 0.0126 - % f1score: 0.09174940089010612'"
      ]
     },
     "execution_count": 25,
     "metadata": {},
     "output_type": "execute_result"
    }
   ],
   "source": [
    "classifier = xgb.XGBClassifier(eval_metric='logloss', \n",
    "                               verbosity=0, \n",
    "                               seed=42)\n",
    "\n",
    "parameters_used = classifier.fit(X_train, y_train)\n",
    "print(parameters_used)\n",
    "\n",
    "y_pred = classifier.predict_proba(X_test)\n",
    "basic_metrics(y_pred, y_test)"
   ]
  },
  {
   "cell_type": "code",
   "execution_count": 26,
   "metadata": {
    "ExecuteTime": {
     "end_time": "2021-10-30T16:27:13.746534Z",
     "start_time": "2021-10-30T16:27:13.678315Z"
    },
    "scrolled": true
   },
   "outputs": [
    {
     "data": {
      "text/plain": [
       "{'NSP_365D': 17.09082959547211,\n",
       " 'PRE__ODONTOLOGIA_ESPECIALIDAD_PRIMERAS_CONSULTAS': 29.235071431,\n",
       " 'PRE__OTHER': 10.985361336799999,\n",
       " 'EDAD': 5.023758932756615,\n",
       " 'TIP__ODONTÓLOGO/DENTISTA': 19.988267645833332,\n",
       " 'ESP__REHABILITACIÓN_PRÓTESIS_REMOVIBLE': 14.206308927,\n",
       " 'ESP__OTHER': 5.226194516864865,\n",
       " 'MINUTE_DAY': 4.701476783680663,\n",
       " 'ESP__ORTODONCIA': 5.579380864545454,\n",
       " 'DATE_OF_WEEK': 3.2138874061030562,\n",
       " 'PREVIOUS_APP_365D': 6.636684643784978,\n",
       " 'ESP__HEMATOLOGÍA_ADULTO': 33.78441331995652,\n",
       " 'PREVIOUS_APP_60D': 4.304209944871036,\n",
       " 'NSP_90D': 4.800574286678833,\n",
       " 'TIP__PSICÓLOGO_(A)': 12.6660531465,\n",
       " 'TIP__TÉCNICO_PARAMÉDICO': 6.7857076354285715,\n",
       " 'NSP_120D': 5.739297938664384,\n",
       " 'NSP_60D': 3.9990282767575756,\n",
       " 'ESP__GINECOLOGÍA_ADULTO': 6.5553170755,\n",
       " 'NSP_30D': 5.093685061518518,\n",
       " 'PRE__VENOSA_EN_ADULTOS': 6.682030754,\n",
       " 'PRE__CONSULTA_O_CONTROL_POR_ENFERMERA,_MATRONA_O_NUTRICIONISTA': 8.431841537333334,\n",
       " 'TIP__TERAPEUTA_OCUPACIONAL': 5.945416338205883,\n",
       " 'ESP__MED._INTERNA': 13.356650353451611,\n",
       " 'TIP__NUTRICIONISTA': 13.350036896181821,\n",
       " 'SEX__HOMBRE': 3.0106928312753625,\n",
       " 'TIP__ENFERMERA_(O)': 18.558956464799998,\n",
       " 'ESP__ENFERMEDAD_RESPIRATORIA_PEDIÁTRICA_(BRONCOPULMONAR_INFANTIL)': 5.705623865,\n",
       " 'TIP__MÉDICO': 4.039148224694443,\n",
       " 'PREVIOUS_APP_120D': 4.995827009815541,\n",
       " 'PRE__ODONTOLOGIA_ESPECIALIDAD_CONSULTAS_REPETIDAS': 11.167995505210529,\n",
       " 'ESP__ENDODONCIA': 6.258258773333333,\n",
       " 'PREVIOUS_APP_90D': 3.788085110213223,\n",
       " 'ESP__PERIODONCIA': 8.033665260000001,\n",
       " 'ESP__OBSTETRICIA': 7.979196099499999,\n",
       " 'ESP__UNIDAD_DE_PATOLOGÍA_CERVICAL_': 5.893973010000001,\n",
       " 'PREVIOUS_APP_30D': 3.9485944110314657,\n",
       " 'TIP__TECNÓLOGO_MÉDICO': 5.9237161822,\n",
       " 'ESP__PSIQUIATRÍA_ADULTO': 5.558860888947367,\n",
       " 'PRE__CONSULTA_DE_PSIQUIATRIA': 4.136583270333333,\n",
       " 'PRE__CONSULTA_INTEGRAL_DE_ESPECIALIDAD_UROLOGIA,_ORL,_MED_FISICA_REHAB,_DERMATO,_PEDIATRIA_HOSPITAL_1_Y_2': 7.400083339249998,\n",
       " 'TIP__MATRÓN_(A)': 4.531205972833334,\n",
       " 'TIP__KINESIÓLOGO_(A)': 4.651311823454546,\n",
       " 'PRE__CONSULTA_MEDICA_INTEGRAL_EN_C.R.S.': 6.4024398387499994,\n",
       " 'ESP__TRAUMATOLOGÍA_Y_ORTOPEDIA_PEDIÁTRICA': 5.005782660275,\n",
       " 'PRE__CONSULTA_INTEGRAL_ESPECIALIDAD_UROLOGIA,_ORL,_MED_FISICA_Y_REH,_DERMATO,_PEDIATRIA_Y_SUBESPEC_EN_CDT': 7.150681932857142,\n",
       " 'TIP__CIRUJANO_DENTISTA': 10.1135140655,\n",
       " 'PRE__CONSULTA_POR_FONOAUDIOLOGO': 5.178923990875,\n",
       " 'NAC__HAITÍ': 8.463117115000001,\n",
       " 'TIP__OTHER': 6.794427263,\n",
       " 'TIP__FONOAUDIÓLOGO_(A)': 8.2817281,\n",
       " 'TIP__MÉDICO_CIRUJANO': 3.7857678714666667,\n",
       " 'PRE__CURACION_SIMPLE_AMBULATORIA': 17.328354991,\n",
       " 'PRE__CONSULTA_DE_SALUD_MENTAL_POR_OTROS_PROFESIONALES': 7.2859478438,\n",
       " 'ESP__DERMATOLOGÍA_ADULTO_': 7.034778946,\n",
       " 'ESP__DERMATOLOGÍA': 5.522560283333334,\n",
       " 'PRE__E.C.G._DE_REPOSO_(INCLUYE_MINIMO_12_DERIVACIONES_Y_4_COMPLEJOS_POR_DERIVACION)': 8.144720838000001,\n",
       " 'ESP__ONCOLOGÍA_ADULTO': 7.596567024142856,\n",
       " 'NAC__OTHER': 3.0587550990000003,\n",
       " 'PRE__CONSULTA_O_CONTROL_MÉDICO_(HOSP.TIPO_3)_': 8.254054759999999,\n",
       " 'ESP__CARDIOLOGÍA_ADULTO': 17.582265717999995,\n",
       " 'ESP__OTORRINOLARINGOLOGÍA': 6.016967868333334,\n",
       " 'ESP__OFTALMOLOGÍA': 8.2255354994,\n",
       " 'ESP__CIRUGÍA_PEDIÁTRICA': 4.2302649,\n",
       " 'ESP__TRAUMATOLOGÍA_Y_ORTOPEDIA_ADULTO': 4.234019756,\n",
       " 'ESP__ENFERMEDAD_RESPIRATORIA_DE_ADULTO_(BRONCOPULMONAR)': 4.3136783114999995,\n",
       " 'PRE__CONSULTA_INTEGRAL_DE_ESPECIALIDADES_EN_MEDIC_INTERNA_Y_SUBESP,_OFTALMO,_NEUROLO,_ONCOLOGIA_EN_CDT': 7.065705021666669,\n",
       " 'ESP__NEUROLOGÍA_ADULTO': 6.96013041,\n",
       " 'ESP__REUMATOLOGÍA': 2.804179478,\n",
       " 'ESP__ENDOCRINOLOGÍA_ADULTO': 3.1471796033333335,\n",
       " 'PRE__CONSULTA_INTEGRAL_DE_ESPECIALIDADES_EN_CIRUGIA,_GINE-OBSTETRICIA,_ORTOPEDIA_Y_TRAUMATOLOGIA_(EN_CDT)': 4.36422938125,\n",
       " 'PRE__CONSULTA_INTEGRAL_DE_ESPECIALIDADES_EN_MEDIC_INTERNA_Y_SUBESP,_OFTALMO,_NEURO,_ONCO_HOSPITAL_1_Y_2': 3.6893693499999998,\n",
       " 'PRE__ATENCIÓN_KINESIOLÓGICA_INTEGRAL_AMBULATORIA': 4.175698359999999,\n",
       " 'TIP__ASISTENTE_SOCIAL': 2.07498067,\n",
       " 'ESP__PSIQUIATRÍA_INFANTIL': 5.527995266666667,\n",
       " 'ESP__NEFROLOGÍA_ADULTO': 3.3611834833333334,\n",
       " 'NAC__CHILE': 1.3496542185000002,\n",
       " 'PRE__CONSULTA_INTEGRAL_DE_ESPECIALIDADES_EN_CIRUGIA,_GINE-OBSTETRICIA,_ORTOPEDIA_Y_TRAUMAT_HOSPITAL_1_Y_2': 3.9455279360000004,\n",
       " 'ESP__CIRUGÍA_ADULTO': 3.771290924,\n",
       " 'ESP__GASTROENTEROLOGÍA_ADULTO': 2.940717339666667,\n",
       " 'ESP__UROLOGÍA_ADULTO': 3.3560343374999997,\n",
       " 'ESP__NEUROLOGÍA_PEDIÁTRICA': 2.4162845600000002,\n",
       " 'PRE__CONSULTA_O_CONTROL_POR_PSICOLOGO_CLINICO': 1.4678179645}"
      ]
     },
     "execution_count": 26,
     "metadata": {},
     "output_type": "execute_result"
    }
   ],
   "source": [
    "classifier._Booster.get_score(importance_type='gain')"
   ]
  },
  {
   "cell_type": "markdown",
   "metadata": {
    "ExecuteTime": {
     "end_time": "2021-10-30T11:49:58.669490Z",
     "start_time": "2021-10-30T11:49:58.666937Z"
    }
   },
   "source": [
    "### Utilizando el peso de la clase dado el desbalance"
   ]
  },
  {
   "cell_type": "code",
   "execution_count": 27,
   "metadata": {
    "ExecuteTime": {
     "end_time": "2021-10-30T16:27:19.802789Z",
     "start_time": "2021-10-30T16:27:13.748170Z"
    }
   },
   "outputs": [
    {
     "name": "stdout",
     "output_type": "stream",
     "text": [
      "XGBClassifier(base_score=0.5, booster='gbtree', colsample_bylevel=1,\n",
      "              colsample_bynode=1, colsample_bytree=1, eval_metric='logloss',\n",
      "              gamma=0, gpu_id=-1, importance_type='gain',\n",
      "              interaction_constraints='', learning_rate=0.300000012,\n",
      "              max_delta_step=0, max_depth=6, min_child_weight=1, missing=nan,\n",
      "              monotone_constraints='()', n_estimators=100, n_jobs=0,\n",
      "              num_parallel_tree=1, random_state=42, reg_alpha=0, reg_lambda=1,\n",
      "              scale_pos_weight=6.624275693809088, seed=42, subsample=1,\n",
      "              tree_method='exact', validate_parameters=1, verbosity=0)\n"
     ]
    },
    {
     "data": {
      "text/plain": [
       "'ROC: 0.7212861651542177 - Precision: 0.240081979212414 - % Positivos: 0.34155 - % f1score: 0.3452631578947368'"
      ]
     },
     "execution_count": 27,
     "metadata": {},
     "output_type": "execute_result"
    }
   ],
   "source": [
    "# Utilizando el peso de la clase postivia\n",
    "classifier = xgb.XGBClassifier(eval_metric='logloss', \n",
    "                               verbosity=0,\n",
    "                               scale_pos_weight=df['TARGET'].value_counts().max()/df['TARGET'].value_counts().min(),\n",
    "                               seed=42)\n",
    "\n",
    "parameters_used = classifier.fit(X_train, y_train)\n",
    "print(parameters_used)\n",
    "\n",
    "y_pred = classifier.predict_proba(X_test)\n",
    "basic_metrics(y_pred, y_test)"
   ]
  },
  {
   "cell_type": "code",
   "execution_count": 28,
   "metadata": {
    "ExecuteTime": {
     "end_time": "2021-10-30T16:27:19.876496Z",
     "start_time": "2021-10-30T16:27:19.804444Z"
    },
    "scrolled": true
   },
   "outputs": [
    {
     "data": {
      "text/plain": [
       "{'NSP_365D': 64.20198569706244,\n",
       " 'PREVIOUS_APP_365D': 27.988003869157538,\n",
       " 'PRE__OTHER': 51.42097788205882,\n",
       " 'EDAD': 18.210367317621255,\n",
       " 'PRE__ODONTOLOGIA_ESPECIALIDAD_PRIMERAS_CONSULTAS': 54.005853726153845,\n",
       " 'TIP__ENFERMERA_(O)': 94.52199345938462,\n",
       " 'ESP__ORTODONCIA': 11.2083595175,\n",
       " 'ESP__HEMATOLOGÍA_ADULTO': 205.53984992571426,\n",
       " 'ESP__REHABILITACIÓN_PRÓTESIS_REMOVIBLE': 65.56690746166667,\n",
       " 'MINUTE_DAY': 18.360949590085415,\n",
       " 'ESP__OTHER': 20.248443490731717,\n",
       " 'ESP__GASTROENTEROLOGÍA_ADULTO': 15.586717104000002,\n",
       " 'TIP__ODONTÓLOGO/DENTISTA': 117.79052605000004,\n",
       " 'PREVIOUS_APP_120D': 16.39939546153109,\n",
       " 'TIP__MÉDICO': 21.57253842757576,\n",
       " 'PRE__ODONTOLOGIA_ESPECIALIDAD_CONSULTAS_REPETIDAS': 32.07140697142857,\n",
       " 'ESP__MED._INTERNA': 79.0895107005263,\n",
       " 'NSP_30D': 15.4247557262549,\n",
       " 'TIP__PSICÓLOGO_(A)': 54.442822590526305,\n",
       " 'PREVIOUS_APP_60D': 17.164459087772453,\n",
       " 'TIP__TERAPEUTA_OCUPACIONAL': 19.173351751666672,\n",
       " 'DATE_OF_WEEK': 11.540821960576762,\n",
       " 'PREVIOUS_APP_30D': 14.018957322305726,\n",
       " 'PREVIOUS_APP_90D': 12.74723405797403,\n",
       " 'NSP_90D': 17.597040268522797,\n",
       " 'PRE__CONSULTA_O_CONTROL_POR_ENFERMERA,_MATRONA_O_NUTRICIONISTA': 43.67720964809524,\n",
       " 'ESP__OFTALMOLOGÍA': 37.97646799294117,\n",
       " 'TIP__TECNÓLOGO_MÉDICO': 17.711897506375,\n",
       " 'PRE__CONSULTA_INTEGRAL_DE_ESPECIALIDADES_EN_CIRUGIA,_GINE-OBSTETRICIA,_ORTOPEDIA_Y_TRAUMAT_HOSPITAL_1_Y_2': 12.68260125,\n",
       " 'TIP__NUTRICIONISTA': 61.12094253312499,\n",
       " 'NSP_120D': 13.95290900032308,\n",
       " 'NSP_60D': 13.053822540399999,\n",
       " 'ESP__DERMATOLOGÍA_ADULTO_': 14.939431184615385,\n",
       " 'ESP__OBSTETRICIA': 23.802139906190476,\n",
       " 'NAC__HAITÍ': 19.60393525,\n",
       " 'ESP__REUMATOLOGÍA': 14.820931514615383,\n",
       " 'TIP__MATRÓN_(A)': 16.405693442727276,\n",
       " 'TIP__OTHER': 22.206854680625,\n",
       " 'PRE__CONSULTA_INTEGRAL_DE_ESPECIALIDADES_EN_MEDIC_INTERNA_Y_SUBESP,_OFTALMO,_NEUROLO,_ONCOLOGIA_EN_CDT': 22.983025664,\n",
       " 'PRE__CONSULTA_INTEGRAL_DE_ESPECIALIDAD_UROLOGIA,_ORL,_MED_FISICA_REHAB,_DERMATO,_PEDIATRIA_HOSPITAL_1_Y_2': 17.90044844111111,\n",
       " 'PRE__CURACION_SIMPLE_AMBULATORIA': 102.95216909999999,\n",
       " 'ESP__GINECOLOGÍA_ADULTO': 23.549645582500002,\n",
       " 'PRE__E.C.G._DE_REPOSO_(INCLUYE_MINIMO_12_DERIVACIONES_Y_4_COMPLEJOS_POR_DERIVACION)': 34.65974085882354,\n",
       " 'SEX__HOMBRE': 10.43399119957286,\n",
       " 'ESP__PSIQUIATRÍA_ADULTO': 20.369675841578946,\n",
       " 'TIP__MÉDICO_CIRUJANO': 24.3602611925,\n",
       " 'PRE__CONSULTA_INTEGRAL_DE_ESPECIALIDADES_EN_CIRUGIA,_GINE-OBSTETRICIA,_ORTOPEDIA_Y_TRAUMATOLOGIA_(EN_CDT)': 12.534997354285712,\n",
       " 'PRE__CONSULTA_DE_SALUD_MENTAL_POR_OTROS_PROFESIONALES': 27.478358548,\n",
       " 'TIP__CIRUJANO_DENTISTA': 35.386106243,\n",
       " 'PRE__CONSULTA_MEDICA_INTEGRAL_EN_C.R.S.': 21.864330360769234,\n",
       " 'ESP__ENFERMEDAD_RESPIRATORIA_PEDIÁTRICA_(BRONCOPULMONAR_INFANTIL)': 21.69448504111111,\n",
       " 'TIP__FONOAUDIÓLOGO_(A)': 29.40354754666667,\n",
       " 'ESP__ONCOLOGÍA_ADULTO': 33.578928473750004,\n",
       " 'ESP__ENDODONCIA': 14.143131688,\n",
       " 'ESP__CARDIOLOGÍA_ADULTO': 45.33702458733333,\n",
       " 'ESP__TRAUMATOLOGÍA_Y_ORTOPEDIA_PEDIÁTRICA': 13.38130976,\n",
       " 'PRE__CONSULTA_O_CONTROL_MÉDICO_(HOSP.TIPO_3)_': 24.07819740841666,\n",
       " 'TIP__TÉCNICO_PARAMÉDICO': 16.687469999999998,\n",
       " 'ESP__OTORRINOLARINGOLOGÍA': 24.610850146249998,\n",
       " 'PRE__CONSULTA_INTEGRAL_ESPECIALIDAD_UROLOGIA,_ORL,_MED_FISICA_Y_REH,_DERMATO,_PEDIATRIA_Y_SUBESPEC_EN_CDT': 17.14003287888889,\n",
       " 'PRE__CONSULTA_POR_FONOAUDIOLOGO': 19.3093893,\n",
       " 'PRE__CONSULTA_DE_PSIQUIATRIA': 14.002499101818183,\n",
       " 'ESP__ENFERMEDAD_RESPIRATORIA_DE_ADULTO_(BRONCOPULMONAR)': 15.250131334999999,\n",
       " 'NAC__OTHER': 10.40760135,\n",
       " 'TIP__KINESIÓLOGO_(A)': 16.15899774,\n",
       " 'ESP__ENDOCRINOLOGÍA_ADULTO': 18.242558856,\n",
       " 'ESP__DERMATOLOGÍA': 13.98761366375,\n",
       " 'ESP__UNIDAD_DE_PATOLOGÍA_CERVICAL_': 11.493283063333335,\n",
       " 'ESP__NEUROLOGÍA_ADULTO': 16.46006648222222,\n",
       " 'NAC__CHILE': 9.019124452222222,\n",
       " 'ESP__TRAUMATOLOGÍA_Y_ORTOPEDIA_ADULTO': 13.31726201,\n",
       " 'ESP__PERIODONCIA': 13.972236469999999,\n",
       " 'ESP__NEFROLOGÍA_ADULTO': 16.023949485714287,\n",
       " 'ESP__CIRUGÍA_ADULTO': 11.983098108333332,\n",
       " 'PRE__CONSULTA_INTEGRAL_DE_ESPECIALIDADES_EN_MEDIC_INTERNA_Y_SUBESP,_OFTALMO,_NEURO,_ONCO_HOSPITAL_1_Y_2': 10.834572137499999,\n",
       " 'ESP__CIRUGÍA_PEDIÁTRICA': 13.15629214,\n",
       " 'TIP__ASISTENTE_SOCIAL': 5.163654289999999,\n",
       " 'PRE__ATENCIÓN_KINESIOLÓGICA_INTEGRAL_AMBULATORIA': 3.8110218,\n",
       " 'ESP__PSIQUIATRÍA_INFANTIL': 12.264326625,\n",
       " 'ESP__UROLOGÍA_ADULTO': 12.3623194575,\n",
       " 'PRE__CONSULTA_O_CONTROL_POR_PSICOLOGO_CLINICO': 13.60995243,\n",
       " 'PRE__VENOSA_EN_ADULTOS': 20.292139775,\n",
       " 'ESP__NEUROLOGÍA_PEDIÁTRICA': 15.5869517325}"
      ]
     },
     "execution_count": 28,
     "metadata": {},
     "output_type": "execute_result"
    }
   ],
   "source": [
    "classifier._Booster.get_score(importance_type='gain')"
   ]
  },
  {
   "cell_type": "markdown",
   "metadata": {
    "ExecuteTime": {
     "end_time": "2021-10-30T14:27:22.041310Z",
     "start_time": "2021-10-30T14:27:22.039205Z"
    }
   },
   "source": [
    "### Probando hyper-parámetros"
   ]
  },
  {
   "cell_type": "code",
   "execution_count": 29,
   "metadata": {
    "ExecuteTime": {
     "end_time": "2021-10-30T20:10:32.471870Z",
     "start_time": "2021-10-30T16:27:19.878076Z"
    }
   },
   "outputs": [
    {
     "name": "stdout",
     "output_type": "stream",
     "text": [
      "Fitting 3 folds for each of 50 candidates, totalling 150 fits\n"
     ]
    },
    {
     "name": "stderr",
     "output_type": "stream",
     "text": [
      "[Parallel(n_jobs=-1)]: Using backend LokyBackend with 12 concurrent workers.\n",
      "[Parallel(n_jobs=-1)]: Done   1 tasks      | elapsed:   29.0s\n",
      "[Parallel(n_jobs=-1)]: Done   8 tasks      | elapsed:  2.7min\n",
      "[Parallel(n_jobs=-1)]: Done  17 tasks      | elapsed:  8.3min\n",
      "[Parallel(n_jobs=-1)]: Done  26 tasks      | elapsed: 21.9min\n",
      "[Parallel(n_jobs=-1)]: Done  37 tasks      | elapsed: 33.3min\n",
      "[Parallel(n_jobs=-1)]: Done  48 tasks      | elapsed: 59.0min\n",
      "[Parallel(n_jobs=-1)]: Done  61 tasks      | elapsed: 71.7min\n",
      "[Parallel(n_jobs=-1)]: Done  74 tasks      | elapsed: 75.1min\n",
      "[Parallel(n_jobs=-1)]: Done  89 tasks      | elapsed: 85.6min\n",
      "[Parallel(n_jobs=-1)]: Done 104 tasks      | elapsed: 180.4min\n",
      "[Parallel(n_jobs=-1)]: Done 121 tasks      | elapsed: 197.1min\n",
      "[Parallel(n_jobs=-1)]: Done 143 out of 150 | elapsed: 219.1min remaining: 10.7min\n",
      "[Parallel(n_jobs=-1)]: Done 150 out of 150 | elapsed: 222.5min finished\n"
     ]
    },
    {
     "name": "stdout",
     "output_type": "stream",
     "text": [
      "{'tree_method': 'auto', 'subsample': 1.0, 'scale_pos_weight': 6.624275693809088, 'n_estimators': 2000, 'min_child_weight': 10, 'max_depth': 2, 'lambda': 0.05555555555555555, 'gamma': 0.0, 'eval_metric': 'logloss', 'eta': 0.30000000000000004, 'colsample_bytree': 0.7, 'alpha': 0.0}\n"
     ]
    },
    {
     "data": {
      "text/plain": [
       "'ROC: 0.7198216339134968 - Precision: 0.23097752504738694 - % Positivos: 0.3693 - % f1score: 0.33933366484336147'"
      ]
     },
     "execution_count": 29,
     "metadata": {},
     "output_type": "execute_result"
    }
   ],
   "source": [
    "# Probando hyper-parámetros\n",
    "# https://xgboost.readthedocs.io/en/latest/parameter.html\n",
    "\n",
    "distributions_xgb = {'max_depth': [int(x) for x in np.linspace(2, 20, 10)],\n",
    "                    'min_child_weight': [int(x) for x in np.linspace(1, 10, 10)],\n",
    "                    'gamma': [x for x in np.linspace(0, 0.5, 6)],\n",
    "                    'eta': [x for x in np.linspace(0.1, 0.6, 6)],\n",
    "                    'n_estimators': [int(x) for x in np.linspace(200, 2000, 10)],\n",
    "                    'tree_method': ['auto', 'exact', 'approx', 'hist'],\n",
    "                    'alpha': [x for x in np.linspace(0, 0.5, 10)],\n",
    "                    'lambda':[x for x in np.linspace(0, 0.5, 10)],\n",
    "                    'subsample': [x for x in np.linspace(0.4, 1, 7)],\n",
    "                    'colsample_bytree': [x for x in np.linspace(0.6, 1, 5)],\n",
    "                    'scale_pos_weight': [df['TARGET'].value_counts().max()/df['TARGET'].value_counts().min(), 1],\n",
    "                    'eval_metric': ['logloss', 'auc', 'aucpr']\n",
    "                    }\n",
    "\n",
    "classifier = xgb.XGBClassifier(verbosity=0, seed=42)\n",
    "\n",
    "grid_search_cv_clf_xgb = RandomizedSearchCV(classifier, \n",
    "                                            distributions_xgb, \n",
    "                                            n_iter=50, \n",
    "                                            scoring='f1', \n",
    "                                            n_jobs=-1,\n",
    "                                            verbose=10,\n",
    "                                            cv=3, \n",
    "                                            random_state=0)  \n",
    "\n",
    "grid_search_cv_clf_xgb.fit(X_train, y_train)\n",
    "print(grid_search_cv_clf_xgb.best_params_)\n",
    "\n",
    "y_pred = grid_search_cv_clf_xgb.predict_proba(X_test)\n",
    "basic_metrics(y_pred, y_test)"
   ]
  },
  {
   "cell_type": "code",
   "execution_count": 30,
   "metadata": {
    "ExecuteTime": {
     "end_time": "2021-10-30T20:10:32.595245Z",
     "start_time": "2021-10-30T20:10:32.476268Z"
    }
   },
   "outputs": [
    {
     "data": {
      "text/plain": [
       "{'NSP_120D': 29.029190651153847,\n",
       " 'PREVIOUS_APP_365D': 12.635491592610501,\n",
       " 'NSP_365D': 32.68892364498757,\n",
       " 'ESP__HEMATOLOGÍA_ADULTO': 197.8370626921818,\n",
       " 'TIP__ENFERMERA_(O)': 40.80778966822369,\n",
       " 'EDAD': 13.031184361287048,\n",
       " 'TIP__ODONTÓLOGO/DENTISTA': 43.097186306117635,\n",
       " 'PRE__ODONTOLOGIA_ESPECIALIDAD_PRIMERAS_CONSULTAS': 31.77905596384209,\n",
       " 'PREVIOUS_APP_120D': 8.110553262997167,\n",
       " 'MINUTE_DAY': 11.507389653135737,\n",
       " 'PREVIOUS_APP_30D': 5.586187015917907,\n",
       " 'ESP__REHABILITACIÓN_PRÓTESIS_REMOVIBLE': 28.139299159703686,\n",
       " 'ESP__MED._INTERNA': 24.9926379413889,\n",
       " 'TIP__PSICÓLOGO_(A)': 20.09392937110638,\n",
       " 'ESP__ONCOLOGÍA_ADULTO': 17.687963074529407,\n",
       " 'PRE__CURACION_SIMPLE_AMBULATORIA': 53.857104913,\n",
       " 'TIP__CIRUJANO_DENTISTA': 36.239840494307686,\n",
       " 'NSP_30D': 11.394344006142859,\n",
       " 'NSP_90D': 9.776622472715738,\n",
       " 'TIP__NUTRICIONISTA': 19.88525851548215,\n",
       " 'PRE__OTHER': 18.765417711656244,\n",
       " 'ESP__OTHER': 11.639766354545456,\n",
       " 'PRE__ODONTOLOGIA_ESPECIALIDAD_CONSULTAS_REPETIDAS': 29.824631238823525,\n",
       " 'PREVIOUS_APP_60D': 6.909215085269782,\n",
       " 'NSP_60D': 7.853767739151514,\n",
       " 'ESP__ORTODONCIA': 8.2566521910625,\n",
       " 'PRE__CONSULTA_O_CONTROL_POR_ENFERMERA,_MATRONA_O_NUTRICIONISTA': 26.73232717493548,\n",
       " 'ESP__CARDIOLOGÍA_ADULTO': 13.532832319545458,\n",
       " 'ESP__OFTALMOLOGÍA': 20.217085605200005,\n",
       " 'TIP__TERAPEUTA_OCUPACIONAL': 8.863178395050003,\n",
       " 'TIP__TÉCNICO_PARAMÉDICO': 7.097479576885715,\n",
       " 'PRE__CONSULTA_MEDICA_INTEGRAL_EN_C.R.S.': 20.540380838647053,\n",
       " 'PRE__CONSULTA_POR_FONOAUDIOLOGO': 8.938486160200002,\n",
       " 'PRE__CONSULTA_O_CONTROL_MÉDICO_(HOSP.TIPO_3)_': 15.331973527285713,\n",
       " 'PRE__CONSULTA_INTEGRAL_DE_ESPECIALIDAD_UROLOGIA,_ORL,_MED_FISICA_REHAB,_DERMATO,_PEDIATRIA_HOSPITAL_1_Y_2': 16.116057446555555,\n",
       " 'PRE__E.C.G._DE_REPOSO_(INCLUYE_MINIMO_12_DERIVACIONES_Y_4_COMPLEJOS_POR_DERIVACION)': 12.281630951058823,\n",
       " 'PRE__CONSULTA_INTEGRAL_DE_ESPECIALIDADES_EN_MEDIC_INTERNA_Y_SUBESP,_OFTALMO,_NEUROLO,_ONCOLOGIA_EN_CDT': 11.283298039878787,\n",
       " 'TIP__MÉDICO': 7.617168075564513,\n",
       " 'ESP__OBSTETRICIA': 17.49298371026667,\n",
       " 'ESP__OTORRINOLARINGOLOGÍA': 14.572208964166663,\n",
       " 'TIP__MATRÓN_(A)': 6.584465751749999,\n",
       " 'DATE_OF_WEEK': 8.480095042834586,\n",
       " 'PRE__CONSULTA_DE_PSIQUIATRIA': 8.632309246363636,\n",
       " 'ESP__PSIQUIATRÍA_ADULTO': 9.778480251321426,\n",
       " 'PRE__CONSULTA_DE_SALUD_MENTAL_POR_OTROS_PROFESIONALES': 9.058404989375,\n",
       " 'ESP__DERMATOLOGÍA_ADULTO_': 9.861933608705883,\n",
       " 'ESP__GINECOLOGÍA_ADULTO': 8.510938865857142,\n",
       " 'ESP__ENFERMEDAD_RESPIRATORIA_DE_ADULTO_(BRONCOPULMONAR)': 5.99251793717647,\n",
       " 'ESP__DERMATOLOGÍA': 9.995165738181818,\n",
       " 'ESP__ENDOCRINOLOGÍA_ADULTO': 7.683939186882354,\n",
       " 'TIP__TECNÓLOGO_MÉDICO': 4.126272571324999,\n",
       " 'ESP__PERIODONCIA': 8.713032481125,\n",
       " 'PREVIOUS_APP_90D': 4.524782268899664,\n",
       " 'ESP__NEUROLOGÍA_ADULTO': 4.96251763845,\n",
       " 'TIP__OTHER': 13.315526318785716,\n",
       " 'TIP__KINESIÓLOGO_(A)': 4.86016745595122,\n",
       " 'ESP__REUMATOLOGÍA': 6.117605360476191,\n",
       " 'PRE__CONSULTA_INTEGRAL_ESPECIALIDAD_UROLOGIA,_ORL,_MED_FISICA_Y_REH,_DERMATO,_PEDIATRIA_Y_SUBESPEC_EN_CDT': 13.933333806083331,\n",
       " 'TIP__ASISTENTE_SOCIAL': 2.5102240441481483,\n",
       " 'SEX__HOMBRE': 9.651946500636365,\n",
       " 'ESP__TRAUMATOLOGÍA_Y_ORTOPEDIA_ADULTO': 11.764005246666667,\n",
       " 'TIP__MÉDICO_CIRUJANO': 6.625831765739131,\n",
       " 'PRE__CONSULTA_INTEGRAL_DE_ESPECIALIDADES_EN_MEDIC_INTERNA_Y_SUBESP,_OFTALMO,_NEURO,_ONCO_HOSPITAL_1_Y_2': 3.3251775864999997,\n",
       " 'ESP__TRAUMATOLOGÍA_Y_ORTOPEDIA_PEDIÁTRICA': 4.873732067500001,\n",
       " 'ESP__UNIDAD_DE_PATOLOGÍA_CERVICAL_': 4.881879776538462,\n",
       " 'ESP__ENDODONCIA': 11.469369612,\n",
       " 'PRE__CONSULTA_INTEGRAL_DE_ESPECIALIDADES_EN_CIRUGIA,_GINE-OBSTETRICIA,_ORTOPEDIA_Y_TRAUMATOLOGIA_(EN_CDT)': 8.061079513727273,\n",
       " 'NAC__CHILE': 9.6650951016,\n",
       " 'PRE__ATENCIÓN_KINESIOLÓGICA_INTEGRAL_AMBULATORIA': 11.167393850000002,\n",
       " 'ESP__GASTROENTEROLOGÍA_ADULTO': 3.1112025104666667,\n",
       " 'ESP__CIRUGÍA_ADULTO': 6.126182745,\n",
       " 'PRE__CONSULTA_O_CONTROL_POR_PSICOLOGO_CLINICO': 5.040827727727273,\n",
       " 'ESP__PSIQUIATRÍA_INFANTIL': 4.2751767250625,\n",
       " 'ESP__ENFERMEDAD_RESPIRATORIA_PEDIÁTRICA_(BRONCOPULMONAR_INFANTIL)': 9.022433672928571,\n",
       " 'ESP__UROLOGÍA_ADULTO': 3.8986205492352943,\n",
       " 'ESP__CIRUGÍA_PEDIÁTRICA': 4.769452359214286,\n",
       " 'NAC__OTHER': 4.443149278533332,\n",
       " 'PRE__VENOSA_EN_ADULTOS': 8.32769820946429,\n",
       " 'ESP__NEUROLOGÍA_PEDIÁTRICA': 1.5618664589999998,\n",
       " 'ESP__NEFROLOGÍA_ADULTO': 7.259078694562498,\n",
       " 'PRE__CONSULTA_INTEGRAL_DE_ESPECIALIDADES_EN_CIRUGIA,_GINE-OBSTETRICIA,_ORTOPEDIA_Y_TRAUMAT_HOSPITAL_1_Y_2': 7.848950884187501,\n",
       " 'SEX__MUJER': 5.573073507199999,\n",
       " 'NAC__HAITÍ': 4.18198055675,\n",
       " 'TIP__FONOAUDIÓLOGO_(A)': 3.3532125359999996}"
      ]
     },
     "execution_count": 30,
     "metadata": {},
     "output_type": "execute_result"
    }
   ],
   "source": [
    "grid_search_cv_clf_xgb.best_estimator_._Booster.get_score(importance_type='gain')"
   ]
  },
  {
   "cell_type": "code",
   "execution_count": 31,
   "metadata": {
    "ExecuteTime": {
     "end_time": "2021-10-30T20:43:15.268123Z",
     "start_time": "2021-10-30T20:43:15.264870Z"
    }
   },
   "outputs": [],
   "source": [
    "## Random forest"
   ]
  },
  {
   "cell_type": "code",
   "execution_count": 32,
   "metadata": {
    "ExecuteTime": {
     "end_time": "2021-10-30T20:43:38.247357Z",
     "start_time": "2021-10-30T20:43:22.185159Z"
    }
   },
   "outputs": [
    {
     "data": {
      "text/plain": [
       "'ROC: 0.6985621072127928 - Precision: 0.412 - % Positivos: 0.025 - % f1score: 0.13000946670874095'"
      ]
     },
     "execution_count": 32,
     "metadata": {},
     "output_type": "execute_result"
    }
   ],
   "source": [
    "clf = RandomForestClassifier(random_state=42)\n",
    "clf.fit(X_train, y_train)\n",
    "\n",
    "y_pred = clf.predict_proba(X_test)\n",
    "basic_metrics(y_pred, y_test)"
   ]
  },
  {
   "cell_type": "code",
   "execution_count": 33,
   "metadata": {
    "ExecuteTime": {
     "end_time": "2021-10-30T20:43:56.636879Z",
     "start_time": "2021-10-30T20:43:39.880701Z"
    }
   },
   "outputs": [
    {
     "data": {
      "text/plain": [
       "'ROC: 0.7018779698973372 - Precision: 0.40409683426443205 - % Positivos: 0.02685 - % f1score: 0.1353711790393013'"
      ]
     },
     "execution_count": 33,
     "metadata": {},
     "output_type": "execute_result"
    }
   ],
   "source": [
    "clf = RandomForestClassifier(random_state=42, class_weight=Counter(df['TARGET']))\n",
    "clf.fit(X_train, y_train)\n",
    "\n",
    "y_pred = clf.predict_proba(X_test)\n",
    "basic_metrics(y_pred, y_test)"
   ]
  },
  {
   "cell_type": "code",
   "execution_count": 34,
   "metadata": {
    "ExecuteTime": {
     "end_time": "2021-10-30T21:08:10.484329Z",
     "start_time": "2021-10-30T20:43:56.638853Z"
    }
   },
   "outputs": [
    {
     "name": "stdout",
     "output_type": "stream",
     "text": [
      "Fitting 3 folds for each of 50 candidates, totalling 150 fits\n"
     ]
    },
    {
     "name": "stderr",
     "output_type": "stream",
     "text": [
      "[Parallel(n_jobs=-1)]: Using backend LokyBackend with 12 concurrent workers.\n",
      "[Parallel(n_jobs=-1)]: Done   1 tasks      | elapsed:   10.5s\n",
      "[Parallel(n_jobs=-1)]: Done   8 tasks      | elapsed:   37.3s\n",
      "[Parallel(n_jobs=-1)]: Done  17 tasks      | elapsed:  2.7min\n",
      "[Parallel(n_jobs=-1)]: Done  26 tasks      | elapsed:  4.3min\n",
      "[Parallel(n_jobs=-1)]: Done  37 tasks      | elapsed:  5.2min\n",
      "[Parallel(n_jobs=-1)]: Done  48 tasks      | elapsed:  8.2min\n",
      "[Parallel(n_jobs=-1)]: Done  61 tasks      | elapsed:  9.5min\n",
      "[Parallel(n_jobs=-1)]: Done  74 tasks      | elapsed: 10.5min\n",
      "[Parallel(n_jobs=-1)]: Done  89 tasks      | elapsed: 13.4min\n",
      "[Parallel(n_jobs=-1)]: Done 104 tasks      | elapsed: 15.9min\n",
      "[Parallel(n_jobs=-1)]: Done 121 tasks      | elapsed: 18.9min\n",
      "[Parallel(n_jobs=-1)]: Done 143 out of 150 | elapsed: 21.5min remaining:  1.1min\n",
      "[Parallel(n_jobs=-1)]: Done 150 out of 150 | elapsed: 22.3min finished\n"
     ]
    },
    {
     "name": "stdout",
     "output_type": "stream",
     "text": [
      "{'n_estimators': 800, 'min_samples_split': 2, 'min_samples_leaf': 1, 'max_depth': 30}\n"
     ]
    },
    {
     "data": {
      "text/plain": [
       "'ROC: 0.7130248396336778 - Precision: 0.508 - % Positivos: 0.0125 - % f1score: 0.0870161014045906'"
      ]
     },
     "execution_count": 34,
     "metadata": {},
     "output_type": "execute_result"
    }
   ],
   "source": [
    "distributions_forest = {'n_estimators': [100, 300, 500, 800, 1200],\n",
    "                        'max_depth': [5, 8, 15, 25, 30],\n",
    "                        'min_samples_split': [2, 5, 10, 15, 100],\n",
    "                        'min_samples_leaf': [1, 2, 5, 10] ,\n",
    "                        }\n",
    "\n",
    "clf = RandomForestClassifier(random_state=42, class_weight=Counter(df['TARGET']))\n",
    "\n",
    "gridF = RandomizedSearchCV(clf, \n",
    "                           distributions_forest, \n",
    "                           cv = 3, \n",
    "                           scoring='f1',\n",
    "                           n_iter=50,\n",
    "                           verbose = 10, \n",
    "                           random_state=0,\n",
    "                           n_jobs = -1)\n",
    "                                            \n",
    "\n",
    "bestF = gridF.fit(X_train, y_train)\n",
    "print(bestF.best_params_)\n",
    "\n",
    "y_pred = bestF.predict_proba(X_test)\n",
    "basic_metrics(y_pred, y_test)"
   ]
  },
  {
   "cell_type": "markdown",
   "metadata": {
    "ExecuteTime": {
     "end_time": "2021-10-30T21:46:02.482336Z",
     "start_time": "2021-10-30T21:46:02.476441Z"
    }
   },
   "source": [
    "## Prueba utilizando el año de la pandemia"
   ]
  },
  {
   "cell_type": "code",
   "execution_count": 54,
   "metadata": {
    "ExecuteTime": {
     "end_time": "2021-10-30T21:54:30.793962Z",
     "start_time": "2021-10-30T21:54:25.229999Z"
    }
   },
   "outputs": [],
   "source": [
    "df = pd.read_csv('export_TRAINSET_FILTERED_2020_20211016.csv')"
   ]
  },
  {
   "cell_type": "code",
   "execution_count": 55,
   "metadata": {
    "ExecuteTime": {
     "end_time": "2021-10-30T21:54:31.504034Z",
     "start_time": "2021-10-30T21:54:30.795545Z"
    }
   },
   "outputs": [
    {
     "name": "stdout",
     "output_type": "stream",
     "text": [
      "<class 'pandas.core.frame.DataFrame'>\n",
      "RangeIndex: 897006 entries, 0 to 897005\n",
      "Data columns (total 57 columns):\n",
      " #   Column                   Non-Null Count   Dtype  \n",
      "---  ------                   --------------   -----  \n",
      " 0   IDPACIENTE               897006 non-null  int64  \n",
      " 1   EDAD                     896997 non-null  float64\n",
      " 2   SEXO                     897006 non-null  object \n",
      " 3   PUEBLO_ORIGINARIO        694218 non-null  object \n",
      " 4   PREVISION                892882 non-null  object \n",
      " 5   NACIONALIDAD             896974 non-null  object \n",
      " 6   IDCITA                   897006 non-null  object \n",
      " 7   TIPO_PROFESIONAL         820510 non-null  object \n",
      " 8   PRESTACION               897006 non-null  object \n",
      " 9   DATE_CITA                897006 non-null  object \n",
      " 10  DATE_OF_WEEK             897006 non-null  int64  \n",
      " 11  DATE_OF_MONTH            897006 non-null  int64  \n",
      " 12  DAYOFYEAR                897006 non-null  int64  \n",
      " 13  DAYOFMONTH               897006 non-null  int64  \n",
      " 14  COMUNA                   896867 non-null  object \n",
      " 15  ESPECIALIDAD             667347 non-null  object \n",
      " 16  DESCRIPCION_CITA         52734 non-null   object \n",
      " 17  ESTABLECIMIENTO          897006 non-null  object \n",
      " 18  MINUTE_DAY               897006 non-null  int64  \n",
      " 19  ATENCION_EN_PANDEMIA     897006 non-null  object \n",
      " 20  DIFF_FECHA_CITA_AG       897006 non-null  int64  \n",
      " 21  COMUNA_ESTABLECIMIENTO   897006 non-null  object \n",
      " 22  SAME_LOCALITY            897006 non-null  int64  \n",
      " 23  APP_DISTANCE             897006 non-null  int64  \n",
      " 24  APP_VIDEOCALL            897006 non-null  int64  \n",
      " 25  APP_CALL                 897006 non-null  int64  \n",
      " 26  PREVIOUS_APP_30D         897006 non-null  int64  \n",
      " 27  PREVIOUS_APP_60D         897006 non-null  int64  \n",
      " 28  PREVIOUS_APP_90D         897006 non-null  int64  \n",
      " 29  PREVIOUS_APP_120D        897006 non-null  int64  \n",
      " 30  PREVIOUS_APP_365D        897006 non-null  int64  \n",
      " 31  NSP_30D                  551840 non-null  float64\n",
      " 32  NSP_60D                  635927 non-null  float64\n",
      " 33  NSP_90D                  661521 non-null  float64\n",
      " 34  NSP_120D                 677460 non-null  float64\n",
      " 35  NSP_365D                 714833 non-null  float64\n",
      " 36  PREV_ESPC_SAME_APP_30D   897006 non-null  int64  \n",
      " 37  PREV_ESPC_SAME_APP_60D   897006 non-null  int64  \n",
      " 38  PREV_ESPC_SAME_APP_90D   897006 non-null  int64  \n",
      " 39  PREV_ESPC_SAME_APP_120D  897006 non-null  int64  \n",
      " 40  PREV_ESPC_SAME_APP_365D  897006 non-null  int64  \n",
      " 41  NSP_ESPC_SAME_30D        262934 non-null  float64\n",
      " 42  NSP_ESPC_SAME_60D        339104 non-null  float64\n",
      " 43  NSP_ESPC_SAME_90D        365091 non-null  float64\n",
      " 44  NSP_ESPC_SAME_120D       381595 non-null  float64\n",
      " 45  NSP_ESPC_SAME_365D       418664 non-null  float64\n",
      " 46  PREV_TP_SAME_APP_30D     897006 non-null  int64  \n",
      " 47  PREV_TP_SAME_APP_60D     897006 non-null  int64  \n",
      " 48  PREV_TP_SAME_APP_90D     897006 non-null  int64  \n",
      " 49  PREV_TP_SAME_APP_120D    897006 non-null  int64  \n",
      " 50  PREV_TP_SAME_APP_365D    897006 non-null  int64  \n",
      " 51  NSP_TP_SAME_30D          384271 non-null  float64\n",
      " 52  NSP_TP_SAME_60D          472133 non-null  float64\n",
      " 53  NSP_TP_SAME_90D          502005 non-null  float64\n",
      " 54  NSP_TP_SAME_120D         520158 non-null  float64\n",
      " 55  NSP_TP_SAME_365D         561184 non-null  float64\n",
      " 56  TARGET                   897006 non-null  int64  \n",
      "dtypes: float64(16), int64(27), object(14)\n",
      "memory usage: 390.1+ MB\n"
     ]
    }
   ],
   "source": [
    "df.info()"
   ]
  },
  {
   "cell_type": "code",
   "execution_count": 56,
   "metadata": {
    "ExecuteTime": {
     "end_time": "2021-10-30T21:54:31.940053Z",
     "start_time": "2021-10-30T21:54:31.506023Z"
    }
   },
   "outputs": [],
   "source": [
    "# Me quedo solo con los datos de atención en pandemia\n",
    "df = df.loc[df['ATENCION_EN_PANDEMIA'] == 'Si']"
   ]
  },
  {
   "cell_type": "code",
   "execution_count": 57,
   "metadata": {
    "ExecuteTime": {
     "end_time": "2021-10-30T21:54:32.251463Z",
     "start_time": "2021-10-30T21:54:31.941621Z"
    }
   },
   "outputs": [],
   "source": [
    "# Solo columnas númerica y el TARGET\n",
    "df = df[['EDAD', 'SEXO',\n",
    "         'MINUTE_DAY', 'DATE_OF_WEEK', \n",
    "         'APP_DISTANCE', 'APP_CALL', 'APP_VIDEOCALL',\n",
    "         'NACIONALIDAD', 'TIPO_PROFESIONAL', 'PRESTACION', 'ESPECIALIDAD',\n",
    "         'NSP_30D', 'NSP_60D', 'NSP_90D', 'NSP_120D', 'NSP_365D', \n",
    "         'PREVIOUS_APP_30D', 'PREVIOUS_APP_60D', 'PREVIOUS_APP_90D', 'PREVIOUS_APP_120D', 'PREVIOUS_APP_365D', \n",
    "         'TARGET']]\n",
    "\n",
    "# Nos quedamos con 10k ejemplo para poder probar más rápido\n",
    "#df = df.sample(100000, random_state=45)\n",
    "\n",
    "# Imputamos -1 a los pacientes que no tienen NSP pasado\n",
    "df = df.fillna(-1)"
   ]
  },
  {
   "cell_type": "code",
   "execution_count": 58,
   "metadata": {
    "ExecuteTime": {
     "end_time": "2021-10-30T21:54:34.275692Z",
     "start_time": "2021-10-30T21:54:32.253156Z"
    }
   },
   "outputs": [],
   "source": [
    "# https://medium.com/gett-engineering/handling-rare-categorical-values-in-pandas-d1e3f17475f0\n",
    "for cat in ['NACIONALIDAD', 'TIPO_PROFESIONAL', 'PRESTACION', 'ESPECIALIDAD']:\n",
    "    df[cat] = df[cat].str.replace(' ', '_')\n",
    "    df[cat] = df[cat].mask(df[cat].map(df[cat].value_counts(normalize=True)) < 0.01, 'Other')"
   ]
  },
  {
   "cell_type": "code",
   "execution_count": 59,
   "metadata": {
    "ExecuteTime": {
     "end_time": "2021-10-30T21:54:37.169865Z",
     "start_time": "2021-10-30T21:54:34.277140Z"
    }
   },
   "outputs": [],
   "source": [
    "# One hot encoder\n",
    "for cat in ['SEXO', 'NACIONALIDAD', 'TIPO_PROFESIONAL', 'PRESTACION', 'ESPECIALIDAD']:\n",
    "    df_dummies = pd.get_dummies(df[cat].str.upper(), prefix=cat[:3] + '_')\n",
    "    df = pd.concat([df, df_dummies], axis=1)"
   ]
  },
  {
   "cell_type": "code",
   "execution_count": 60,
   "metadata": {
    "ExecuteTime": {
     "end_time": "2021-10-30T21:54:37.899040Z",
     "start_time": "2021-10-30T21:54:37.171944Z"
    }
   },
   "outputs": [
    {
     "name": "stdout",
     "output_type": "stream",
     "text": [
      "len(X_train): 498352 - len(X_test): 124588\n"
     ]
    }
   ],
   "source": [
    "# Generamos el 80-20\n",
    "X_train, X_test, y_train, y_test = \\\n",
    "    train_test_split(df.drop(['TARGET', 'SEXO', 'NACIONALIDAD', 'TIPO_PROFESIONAL', 'PRESTACION', 'ESPECIALIDAD'],\n",
    "                             axis='columns'),\n",
    "                     df['TARGET'], \n",
    "                     test_size=0.2, \n",
    "                     random_state=42)\n",
    "\n",
    "print(f\"len(X_train): {len(X_train)} - len(X_test): {len(X_test)}\")"
   ]
  },
  {
   "cell_type": "code",
   "execution_count": 61,
   "metadata": {
    "ExecuteTime": {
     "end_time": "2021-10-30T21:55:22.879963Z",
     "start_time": "2021-10-30T21:54:37.901190Z"
    }
   },
   "outputs": [
    {
     "name": "stdout",
     "output_type": "stream",
     "text": [
      "XGBClassifier(base_score=0.5, booster='gbtree', colsample_bylevel=1,\n",
      "              colsample_bynode=1, colsample_bytree=1, eval_metric='logloss',\n",
      "              gamma=0, gpu_id=-1, importance_type='gain',\n",
      "              interaction_constraints='', learning_rate=0.300000012,\n",
      "              max_delta_step=0, max_depth=6, min_child_weight=1, missing=nan,\n",
      "              monotone_constraints='()', n_estimators=100, n_jobs=0,\n",
      "              num_parallel_tree=1, random_state=42, reg_alpha=0, reg_lambda=1,\n",
      "              scale_pos_weight=9.262264834766565, seed=42, subsample=1,\n",
      "              tree_method='exact', validate_parameters=1, verbosity=0)\n"
     ]
    },
    {
     "data": {
      "text/plain": [
       "'ROC: 0.7480747663262045 - Precision: 0.173921871193048 - % Positivos: 0.39531897132950206 - % f1score: 0.27962394724815565'"
      ]
     },
     "execution_count": 61,
     "metadata": {},
     "output_type": "execute_result"
    }
   ],
   "source": [
    "# Utilizando el peso de la clase postivia\n",
    "classifier = xgb.XGBClassifier(eval_metric='logloss', \n",
    "                               verbosity=0,\n",
    "                               scale_pos_weight=df['TARGET'].value_counts().max()/df['TARGET'].value_counts().min(),\n",
    "                               seed=42)\n",
    "\n",
    "parameters_used = classifier.fit(X_train, y_train)\n",
    "print(parameters_used)\n",
    "\n",
    "y_pred = classifier.predict_proba(X_test)\n",
    "basic_metrics(y_pred, y_test)"
   ]
  },
  {
   "cell_type": "markdown",
   "metadata": {
    "ExecuteTime": {
     "end_time": "2021-10-31T01:53:38.781496Z",
     "start_time": "2021-10-31T01:53:38.778935Z"
    }
   },
   "source": [
    "# Creando 24 puntos de tiempo"
   ]
  },
  {
   "cell_type": "code",
   "execution_count": 87,
   "metadata": {
    "ExecuteTime": {
     "end_time": "2021-10-31T01:55:17.430361Z",
     "start_time": "2021-10-31T01:55:17.425940Z"
    }
   },
   "outputs": [],
   "source": [
    "import dateutil.relativedelta\n",
    "import dateutil.parser as dparser"
   ]
  },
  {
   "cell_type": "code",
   "execution_count": 93,
   "metadata": {
    "ExecuteTime": {
     "end_time": "2021-10-31T01:57:33.193069Z",
     "start_time": "2021-10-31T01:57:08.778297Z"
    }
   },
   "outputs": [],
   "source": [
    "df_2018 = pd.read_csv('export_TRAINSET_FILTERED_2018_20211016.csv')\n",
    "df_2019 = pd.read_csv('export_TRAINSET_FILTERED_2019_20211016.csv')\n",
    "df_2020 = pd.read_csv('export_TRAINSET_FILTERED_2020_20211016.csv')"
   ]
  },
  {
   "cell_type": "code",
   "execution_count": 121,
   "metadata": {
    "ExecuteTime": {
     "end_time": "2021-10-31T02:20:29.568027Z",
     "start_time": "2021-10-31T02:20:24.699254Z"
    }
   },
   "outputs": [],
   "source": [
    "df = pd.concat([df_2018, df_2019, df_2020])"
   ]
  },
  {
   "cell_type": "code",
   "execution_count": 154,
   "metadata": {
    "ExecuteTime": {
     "end_time": "2021-10-31T19:00:08.931102Z",
     "start_time": "2021-10-31T19:00:03.328305Z"
    }
   },
   "outputs": [],
   "source": [
    "df = df[['EDAD', 'SEXO',\n",
    "         'DATE_CITA', 'MINUTE_DAY', 'DATE_OF_WEEK', \n",
    "         'APP_DISTANCE', 'APP_CALL', 'APP_VIDEOCALL',\n",
    "         'NACIONALIDAD', 'TIPO_PROFESIONAL', 'PRESTACION', 'ESPECIALIDAD',\n",
    "         'NSP_30D', 'NSP_60D', 'NSP_90D', 'NSP_120D', 'NSP_365D', \n",
    "         'PREVIOUS_APP_30D', 'PREVIOUS_APP_60D', 'PREVIOUS_APP_90D', 'PREVIOUS_APP_120D', 'PREVIOUS_APP_365D', \n",
    "         'TARGET']]"
   ]
  },
  {
   "cell_type": "code",
   "execution_count": 155,
   "metadata": {
    "ExecuteTime": {
     "end_time": "2021-10-31T19:00:11.073586Z",
     "start_time": "2021-10-31T19:00:08.935476Z"
    }
   },
   "outputs": [],
   "source": [
    "#Pareaseamos la fecha\n",
    "df['DATE_CITA'] = pd.to_datetime(df['DATE_CITA'])\n",
    "\n",
    "# Nos quedamos con 10k ejemplo para poder probar más rápido\n",
    "#df = df.sample(100000, random_state=45)\n",
    "\n",
    "# Imputamos -1 a los pacientes que no tienen NSP pasado\n",
    "df = df.fillna(-1)"
   ]
  },
  {
   "cell_type": "code",
   "execution_count": 124,
   "metadata": {
    "ExecuteTime": {
     "end_time": "2021-10-31T02:20:38.451755Z",
     "start_time": "2021-10-31T02:20:38.438310Z"
    }
   },
   "outputs": [],
   "source": [
    "lst_aux_data = []\n",
    "\n",
    "for x in range(24):\n",
    "    \n",
    "    pit = dparser.parse('2019-01-01', fuzzy=True) +  dateutil.relativedelta.relativedelta(months=x)\n",
    "    \n",
    "    start_pred_data = pit\n",
    "    end_pred_data = pit +  dateutil.relativedelta.relativedelta(months=1) -  dateutil.relativedelta.relativedelta(days=1)\n",
    "\n",
    "    \n",
    "    start_train_data = pit -  dateutil.relativedelta.relativedelta(months=12) \n",
    "    end_train_data = pit - dateutil.relativedelta.relativedelta(days=1)\n",
    "    \n",
    "    lst_aux_data.append({'pit':pit, \n",
    "                         'start_pred_data': start_pred_data,\n",
    "                         'end_pred_data': end_pred_data,\n",
    "                         'start_train_data': start_train_data,\n",
    "                         'end_train_data': end_train_data})\n",
    "    \n",
    "df_aux_dt_data = pd.DataFrame(lst_aux_data)    "
   ]
  },
  {
   "cell_type": "code",
   "execution_count": 125,
   "metadata": {
    "ExecuteTime": {
     "end_time": "2021-10-31T02:20:38.466214Z",
     "start_time": "2021-10-31T02:20:38.453862Z"
    }
   },
   "outputs": [
    {
     "data": {
      "text/html": [
       "<div>\n",
       "<style scoped>\n",
       "    .dataframe tbody tr th:only-of-type {\n",
       "        vertical-align: middle;\n",
       "    }\n",
       "\n",
       "    .dataframe tbody tr th {\n",
       "        vertical-align: top;\n",
       "    }\n",
       "\n",
       "    .dataframe thead th {\n",
       "        text-align: right;\n",
       "    }\n",
       "</style>\n",
       "<table border=\"1\" class=\"dataframe\">\n",
       "  <thead>\n",
       "    <tr style=\"text-align: right;\">\n",
       "      <th></th>\n",
       "      <th>pit</th>\n",
       "      <th>start_pred_data</th>\n",
       "      <th>end_pred_data</th>\n",
       "      <th>start_train_data</th>\n",
       "      <th>end_train_data</th>\n",
       "    </tr>\n",
       "  </thead>\n",
       "  <tbody>\n",
       "    <tr>\n",
       "      <th>13</th>\n",
       "      <td>2020-02-01</td>\n",
       "      <td>2020-02-01</td>\n",
       "      <td>2020-02-29</td>\n",
       "      <td>2019-02-01</td>\n",
       "      <td>2020-01-31</td>\n",
       "    </tr>\n",
       "    <tr>\n",
       "      <th>14</th>\n",
       "      <td>2020-03-01</td>\n",
       "      <td>2020-03-01</td>\n",
       "      <td>2020-03-31</td>\n",
       "      <td>2019-03-01</td>\n",
       "      <td>2020-02-29</td>\n",
       "    </tr>\n",
       "    <tr>\n",
       "      <th>23</th>\n",
       "      <td>2020-12-01</td>\n",
       "      <td>2020-12-01</td>\n",
       "      <td>2020-12-31</td>\n",
       "      <td>2019-12-01</td>\n",
       "      <td>2020-11-30</td>\n",
       "    </tr>\n",
       "    <tr>\n",
       "      <th>10</th>\n",
       "      <td>2019-11-01</td>\n",
       "      <td>2019-11-01</td>\n",
       "      <td>2019-11-30</td>\n",
       "      <td>2018-11-01</td>\n",
       "      <td>2019-10-31</td>\n",
       "    </tr>\n",
       "    <tr>\n",
       "      <th>19</th>\n",
       "      <td>2020-08-01</td>\n",
       "      <td>2020-08-01</td>\n",
       "      <td>2020-08-31</td>\n",
       "      <td>2019-08-01</td>\n",
       "      <td>2020-07-31</td>\n",
       "    </tr>\n",
       "  </tbody>\n",
       "</table>\n",
       "</div>"
      ],
      "text/plain": [
       "          pit start_pred_data end_pred_data start_train_data end_train_data\n",
       "13 2020-02-01      2020-02-01    2020-02-29       2019-02-01     2020-01-31\n",
       "14 2020-03-01      2020-03-01    2020-03-31       2019-03-01     2020-02-29\n",
       "23 2020-12-01      2020-12-01    2020-12-31       2019-12-01     2020-11-30\n",
       "10 2019-11-01      2019-11-01    2019-11-30       2018-11-01     2019-10-31\n",
       "19 2020-08-01      2020-08-01    2020-08-31       2019-08-01     2020-07-31"
      ]
     },
     "execution_count": 125,
     "metadata": {},
     "output_type": "execute_result"
    }
   ],
   "source": [
    "df_aux_dt_data.sample(5)"
   ]
  },
  {
   "cell_type": "code",
   "execution_count": 137,
   "metadata": {
    "ExecuteTime": {
     "end_time": "2021-10-31T18:38:13.954907Z",
     "start_time": "2021-10-31T13:01:00.587104Z"
    },
    "scrolled": false
   },
   "outputs": [
    {
     "name": "stdout",
     "output_type": "stream",
     "text": [
      "PIT:  2019-01-01 00:00:00\n",
      "[TRAIN] Start date: 2018-01-01 00:00:00 - End date: 2018-12-31 00:00:00 - N rows: 1452117\n",
      "ROC: 0.703629665298877 - Precision: 0.21831133459040436 - % Positivos: 0.33818551117129314 - % f1score: 0.3203689469638739\n",
      "\n",
      "PIT:  2019-02-01 00:00:00\n",
      "[TRAIN] Start date: 2018-02-01 00:00:00 - End date: 2019-01-31 00:00:00 - N rows: 1467292\n",
      "ROC: 0.7458506226326574 - Precision: 0.24012373708707005 - % Positivos: 0.35581855636789594 - % f1score: 0.3524976044661084\n",
      "\n",
      "PIT:  2019-03-01 00:00:00\n",
      "[TRAIN] Start date: 2018-03-01 00:00:00 - End date: 2019-02-28 00:00:00 - N rows: 1474018\n",
      "ROC: 0.6199735285887523 - Precision: 0.17401680407084533 - % Positivos: 0.40201714253998205 - % f1score: 0.26528157791875884\n",
      "\n",
      "PIT:  2019-04-01 00:00:00\n",
      "[TRAIN] Start date: 2018-04-01 00:00:00 - End date: 2019-03-31 00:00:00 - N rows: 1480680\n",
      "ROC: 0.7282223753002907 - Precision: 0.22245258857247394 - % Positivos: 0.3890813324475657 - % f1score: 0.3347966410205424\n",
      "\n",
      "PIT:  2019-05-01 00:00:00\n",
      "[TRAIN] Start date: 2018-05-01 00:00:00 - End date: 2019-04-30 00:00:00 - N rows: 1479425\n",
      "ROC: 0.6330006526455512 - Precision: 0.20011747787162504 - % Positivos: 0.3943370607028754 - % f1score: 0.29637628989680825\n",
      "\n",
      "PIT:  2019-06-01 00:00:00\n",
      "[TRAIN] Start date: 2018-06-01 00:00:00 - End date: 2019-05-31 00:00:00 - N rows: 1472292\n",
      "ROC: 0.6299498327397629 - Precision: 0.1924585341939701 - % Positivos: 0.4020366264268703 - % f1score: 0.28787925081731797\n",
      "\n",
      "PIT:  2019-07-01 00:00:00\n",
      "[TRAIN] Start date: 2018-07-01 00:00:00 - End date: 2019-06-30 00:00:00 - N rows: 1467199\n",
      "ROC: 0.7096456926937522 - Precision: 0.22085901929973004 - % Positivos: 0.37648754218969244 - % f1score: 0.3284695589645254\n",
      "\n",
      "PIT:  2019-08-01 00:00:00\n",
      "[TRAIN] Start date: 2018-08-01 00:00:00 - End date: 2019-07-31 00:00:00 - N rows: 1476338\n",
      "ROC: 0.6798639320064974 - Precision: 0.211726525313717 - % Positivos: 0.3489170887843765 - % f1score: 0.3091015335049511\n",
      "\n",
      "PIT:  2019-09-01 00:00:00\n",
      "[TRAIN] Start date: 2018-09-01 00:00:00 - End date: 2019-08-31 00:00:00 - N rows: 1470041\n",
      "ROC: 0.6033140789128963 - Precision: 0.17753891771682728 - % Positivos: 0.49110940793255414 - % f1score: 0.2767733596898046\n",
      "\n",
      "PIT:  2019-10-01 00:00:00\n",
      "[TRAIN] Start date: 2018-10-01 00:00:00 - End date: 2019-09-30 00:00:00 - N rows: 1468695\n",
      "ROC: 0.5858822575925234 - Precision: 0.2103786580653832 - % Positivos: 0.4866734253384786 - % f1score: 0.31168410966063936\n",
      "\n",
      "PIT:  2019-11-01 00:00:00\n",
      "[TRAIN] Start date: 2018-11-01 00:00:00 - End date: 2019-10-31 00:00:00 - N rows: 1449414\n",
      "ROC: 0.5747927354527363 - Precision: 0.20835415785629158 - % Positivos: 0.4613106322603529 - % f1score: 0.30429106834547526\n",
      "\n",
      "PIT:  2019-12-01 00:00:00\n",
      "[TRAIN] Start date: 2018-12-01 00:00:00 - End date: 2019-11-30 00:00:00 - N rows: 1436685\n",
      "ROC: 0.6080597219950091 - Precision: 0.17903381642512078 - % Positivos: 0.5716652858326429 - % f1score: 0.28437328149578606\n",
      "\n",
      "PIT:  2020-01-01 00:00:00\n",
      "[TRAIN] Start date: 2019-01-01 00:00:00 - End date: 2019-12-31 00:00:00 - N rows: 1437987\n",
      "ROC: 0.5721717539907055 - Precision: 0.17434888085320638 - % Positivos: 0.3488292258440511 - % f1score: 0.2527873639500929\n",
      "\n",
      "PIT:  2020-02-01 00:00:00\n",
      "[TRAIN] Start date: 2019-02-01 00:00:00 - End date: 2020-01-31 00:00:00 - N rows: 1436224\n",
      "ROC: 0.6442080013641832 - Precision: 0.17788004116424924 - % Positivos: 0.5129121891463913 - % f1score: 0.28243309902577385\n",
      "\n",
      "PIT:  2020-03-01 00:00:00\n",
      "[TRAIN] Start date: 2019-03-01 00:00:00 - End date: 2020-02-29 00:00:00 - N rows: 1437605\n",
      "ROC: 0.5771926277188825 - Precision: 0.15247284492720128 - % Positivos: 0.5150934973463618 - % f1score: 0.24324822564291637\n",
      "\n",
      "PIT:  2020-04-01 00:00:00\n",
      "[TRAIN] Start date: 2019-04-01 00:00:00 - End date: 2020-03-31 00:00:00 - N rows: 1412291\n",
      "ROC: 0.6320563909401131 - Precision: 0.09905757721675724 - % Positivos: 0.3247693304439132 - % f1score: 0.16588906168999484\n",
      "\n",
      "PIT:  2020-05-01 00:00:00\n",
      "[TRAIN] Start date: 2019-05-01 00:00:00 - End date: 2020-04-30 00:00:00 - N rows: 1330608\n",
      "ROC: 0.5570796279302681 - Precision: 0.1195907056064805 - % Positivos: 0.23589459921552852 - % f1score: 0.17497076023391814\n",
      "\n",
      "PIT:  2020-06-01 00:00:00\n",
      "[TRAIN] Start date: 2019-06-01 00:00:00 - End date: 2020-05-31 00:00:00 - N rows: 1245180\n",
      "ROC: 0.5920407393912925 - Precision: 0.1317124985247256 - % Positivos: 0.20365830208633784 - % f1score: 0.187657642508828\n",
      "\n",
      "PIT:  2020-07-01 00:00:00\n",
      "[TRAIN] Start date: 2019-07-01 00:00:00 - End date: 2020-06-30 00:00:00 - N rows: 1165014\n",
      "ROC: 0.6171266463032326 - Precision: 0.11401053280827442 - % Positivos: 0.3944861404855041 - % f1score: 0.18960823766126167\n",
      "\n",
      "PIT:  2020-08-01 00:00:00\n",
      "[TRAIN] Start date: 2019-08-01 00:00:00 - End date: 2020-07-31 00:00:00 - N rows: 1086598\n",
      "ROC: 0.6050076720230328 - Precision: 0.12089094973917364 - % Positivos: 0.3840368868749503 - % f1score: 0.19645440172233994\n",
      "\n",
      "PIT:  2020-09-01 00:00:00\n",
      "[TRAIN] Start date: 2019-09-01 00:00:00 - End date: 2020-08-31 00:00:00 - N rows: 1017026\n",
      "ROC: 0.5937021391447983 - Precision: 0.1290011197343527 - % Positivos: 0.34781966398517344 - % f1score: 0.20250325787192777\n",
      "\n",
      "PIT:  2020-10-01 00:00:00\n",
      "[TRAIN] Start date: 2019-10-01 00:00:00 - End date: 2020-09-30 00:00:00 - N rows: 987107\n",
      "ROC: 0.6479049813470295 - Precision: 0.1429210092486518 - % Positivos: 0.43456457331584825 - % f1score: 0.2326004410995657\n",
      "\n",
      "PIT:  2020-11-01 00:00:00\n",
      "[TRAIN] Start date: 2019-11-01 00:00:00 - End date: 2020-10-31 00:00:00 - N rows: 947151\n",
      "ROC: 0.6074014783458398 - Precision: 0.14140156232310652 - % Positivos: 0.48937372573353427 - % f1score: 0.23076638829354815\n",
      "\n",
      "PIT:  2020-12-01 00:00:00\n",
      "[TRAIN] Start date: 2019-12-01 00:00:00 - End date: 2020-11-30 00:00:00 - N rows: 924629\n",
      "ROC: 0.6398661512974324 - Precision: 0.15888970245623377 - % Positivos: 0.5563593269717432 - % f1score: 0.2607081095840539\n",
      "\n"
     ]
    }
   ],
   "source": [
    "list_df_pit_fi = []\n",
    "\n",
    "for _, pit, start_pred_data, end_pred_data, start_train_data, end_train_data in df_aux_dt_data.itertuples():\n",
    "    \n",
    "    print('PIT: ', pit)\n",
    "    \n",
    "    df_pit_train_data = df[(df['DATE_CITA'] >= start_train_data) & (df['DATE_CITA'] <= end_train_data)]\n",
    "    df_pit_predict_data = df[(df['DATE_CITA'] >= start_pred_data) & (df['DATE_CITA'] <= end_pred_data)]\n",
    "\n",
    "    print(f'[TRAIN] Start date: {start_train_data} - End date: {end_train_data} - N rows: {len(df_pit_train_data)}')\n",
    "    \n",
    "    # https://medium.com/gett-engineering/handling-rare-categorical-values-in-pandas-d1e3f17475f0\n",
    "    for cat in ['NACIONALIDAD', 'TIPO_PROFESIONAL', 'PRESTACION', 'ESPECIALIDAD']:\n",
    "        df_pit_train_data[cat] = df_pit_train_data[cat].str.replace(' ', '_')\n",
    "        df_pit_train_data[cat] = df_pit_train_data[cat].\\\n",
    "                                    mask(df_pit_train_data[cat].\\\n",
    "                                    map(df_pit_train_data[cat].value_counts(normalize=True)) < 0.01, 'Other')\n",
    "        \n",
    "        df_pit_predict_data[cat] = df_pit_predict_data[cat].str.replace(' ', '_')\n",
    "        df_pit_predict_data[cat] = df_pit_predict_data[cat].\\\n",
    "                                    mask(df_pit_predict_data[cat].\\\n",
    "                                    map(df_pit_predict_data[cat].value_counts(normalize=True)) < 0.01, 'Other')\n",
    "        \n",
    "        \n",
    "    # One hot encoder\n",
    "    for cat in ['SEXO', 'NACIONALIDAD', 'TIPO_PROFESIONAL', 'PRESTACION', 'ESPECIALIDAD']:\n",
    "        df_dummies = pd.get_dummies(df_pit_train_data[cat].str.upper(), prefix=cat[:3] + '_')\n",
    "        df_pit_train_data = pd.concat([df_pit_train_data, df_dummies], axis=1)\n",
    "\n",
    "        df_dummies = pd.get_dummies(df_pit_predict_data[cat].str.upper(), prefix=cat[:3] + '_')\n",
    "        df_pit_predict_data = pd.concat([df_pit_predict_data, df_dummies], axis=1)\n",
    "\n",
    "    \n",
    "    # Agregamos las columnas como 0 para que el predict y el train tengan las mismas columnas\n",
    "    for falta in set(df_pit_train_data.columns) - set(df_pit_predict_data.columns):\n",
    "        df_pit_predict_data[falta] = 0\n",
    "        \n",
    "    for falta in set(df_pit_predict_data.columns) - set(df_pit_train_data.columns):\n",
    "        df_pit_train_data[falta] = 0\n",
    "        \n",
    "    # Utilizando el peso de la clase postivia\n",
    "    weight = df_pit_train_data['TARGET'].value_counts().max()/df_pit_train_data['TARGET'].value_counts().min()\n",
    "    \n",
    "    classifier = xgb.XGBClassifier(eval_metric='logloss', \n",
    "                                   verbosity=0,\n",
    "                                   scale_pos_weight=weight,\n",
    "                                   seed=42)\n",
    "\n",
    "    X_train = df_pit_train_data.drop(['TARGET', 'SEXO', 'NACIONALIDAD', 'TIPO_PROFESIONAL',\n",
    "                                      'PRESTACION', 'ESPECIALIDAD', 'DATE_CITA'], axis='columns')\n",
    "    y_train = df_pit_train_data['TARGET']\n",
    "    \n",
    "    X_test = df_pit_predict_data.drop(['TARGET', 'SEXO', 'NACIONALIDAD', 'TIPO_PROFESIONAL',\n",
    "                                       'PRESTACION', 'ESPECIALIDAD', 'DATE_CITA'], axis='columns')\n",
    "    y_test = df_pit_predict_data['TARGET']\n",
    "    \n",
    "    classifier.fit(X_train, y_train)\n",
    "\n",
    "    y_pred = classifier.predict_proba(X_test)\n",
    "    print(basic_metrics(y_pred, y_test))\n",
    "    \n",
    "    # Creo un dataframe con las features importance\n",
    "    df_fi = pd.DataFrame([classifier._Booster.get_score(importance_type='gain')])\n",
    "    df_fi['PIT'] = pit\n",
    "\n",
    "    list_df_pit_fi.append(df_fi)\n",
    "\n",
    "    print()"
   ]
  },
  {
   "cell_type": "code",
   "execution_count": 141,
   "metadata": {
    "ExecuteTime": {
     "end_time": "2021-10-31T18:40:23.114686Z",
     "start_time": "2021-10-31T18:40:21.511401Z"
    }
   },
   "outputs": [],
   "source": [
    "df_fi = pd.concat(list_df_pit_fi)"
   ]
  },
  {
   "cell_type": "code",
   "execution_count": 144,
   "metadata": {
    "ExecuteTime": {
     "end_time": "2021-10-31T18:47:34.065937Z",
     "start_time": "2021-10-31T18:47:34.028573Z"
    }
   },
   "outputs": [
    {
     "data": {
      "text/html": [
       "<div>\n",
       "<style scoped>\n",
       "    .dataframe tbody tr th:only-of-type {\n",
       "        vertical-align: middle;\n",
       "    }\n",
       "\n",
       "    .dataframe tbody tr th {\n",
       "        vertical-align: top;\n",
       "    }\n",
       "\n",
       "    .dataframe thead th {\n",
       "        text-align: right;\n",
       "    }\n",
       "</style>\n",
       "<table border=\"1\" class=\"dataframe\">\n",
       "  <thead>\n",
       "    <tr style=\"text-align: right;\">\n",
       "      <th></th>\n",
       "      <th>NSP_365D</th>\n",
       "      <th>PRE__OTHER</th>\n",
       "      <th>EDAD</th>\n",
       "      <th>PRE__ODONTOLOGIA_ESPECIALIDAD_PRIMERAS_CONSULTAS</th>\n",
       "      <th>TIP__ENFERMERA_(O)</th>\n",
       "      <th>ESP__ORTODONCIA</th>\n",
       "      <th>ESP__HEMATOLOGÍA_ADULTO</th>\n",
       "      <th>MINUTE_DAY</th>\n",
       "      <th>ESP__CARDIOLOGÍA_ADULTO</th>\n",
       "      <th>TIP__ODONTÓLOGO/DENTISTA</th>\n",
       "      <th>...</th>\n",
       "      <th>SEX__INTERSEX (INDETERMINADO)</th>\n",
       "      <th>APP_DISTANCE</th>\n",
       "      <th>APP_VIDEOCALL</th>\n",
       "      <th>APP_CALL</th>\n",
       "      <th>ESP__INMUNOLOGÍA_ADULTO</th>\n",
       "      <th>PRE__CONSULTA_DE_PSIQUIATRIA_(A_DISTANCIA_POR_CONTINGENCIA_COVID-19)</th>\n",
       "      <th>ESP__DIABETES</th>\n",
       "      <th>PRE__DESPACHO_DE_RECETAS_A_CRONICOS</th>\n",
       "      <th>TIP__PSIQUIATRÍA</th>\n",
       "      <th>PRE__CONSULTA_MEDICA_ABREVIADA</th>\n",
       "    </tr>\n",
       "  </thead>\n",
       "  <tbody>\n",
       "    <tr>\n",
       "      <th>0</th>\n",
       "      <td>989.201386</td>\n",
       "      <td>113.545882</td>\n",
       "      <td>135.042898</td>\n",
       "      <td>599.800159</td>\n",
       "      <td>598.611095</td>\n",
       "      <td>132.899848</td>\n",
       "      <td>3127.267482</td>\n",
       "      <td>82.560135</td>\n",
       "      <td>244.257142</td>\n",
       "      <td>1773.457437</td>\n",
       "      <td>...</td>\n",
       "      <td>NaN</td>\n",
       "      <td>NaN</td>\n",
       "      <td>NaN</td>\n",
       "      <td>NaN</td>\n",
       "      <td>NaN</td>\n",
       "      <td>NaN</td>\n",
       "      <td>NaN</td>\n",
       "      <td>NaN</td>\n",
       "      <td>NaN</td>\n",
       "      <td>NaN</td>\n",
       "    </tr>\n",
       "    <tr>\n",
       "      <th>0</th>\n",
       "      <td>809.807938</td>\n",
       "      <td>171.709827</td>\n",
       "      <td>132.620323</td>\n",
       "      <td>784.247871</td>\n",
       "      <td>658.547411</td>\n",
       "      <td>89.679814</td>\n",
       "      <td>3213.533119</td>\n",
       "      <td>94.514865</td>\n",
       "      <td>394.562480</td>\n",
       "      <td>1286.936666</td>\n",
       "      <td>...</td>\n",
       "      <td>NaN</td>\n",
       "      <td>NaN</td>\n",
       "      <td>NaN</td>\n",
       "      <td>NaN</td>\n",
       "      <td>NaN</td>\n",
       "      <td>NaN</td>\n",
       "      <td>NaN</td>\n",
       "      <td>NaN</td>\n",
       "      <td>NaN</td>\n",
       "      <td>NaN</td>\n",
       "    </tr>\n",
       "    <tr>\n",
       "      <th>0</th>\n",
       "      <td>594.679347</td>\n",
       "      <td>132.628377</td>\n",
       "      <td>128.760637</td>\n",
       "      <td>NaN</td>\n",
       "      <td>603.549004</td>\n",
       "      <td>86.165308</td>\n",
       "      <td>2399.665930</td>\n",
       "      <td>72.136728</td>\n",
       "      <td>163.812555</td>\n",
       "      <td>1724.802255</td>\n",
       "      <td>...</td>\n",
       "      <td>30.834919</td>\n",
       "      <td>78.335372</td>\n",
       "      <td>34.272102</td>\n",
       "      <td>63.091041</td>\n",
       "      <td>NaN</td>\n",
       "      <td>NaN</td>\n",
       "      <td>NaN</td>\n",
       "      <td>NaN</td>\n",
       "      <td>NaN</td>\n",
       "      <td>NaN</td>\n",
       "    </tr>\n",
       "    <tr>\n",
       "      <th>0</th>\n",
       "      <td>799.204282</td>\n",
       "      <td>347.113341</td>\n",
       "      <td>138.545032</td>\n",
       "      <td>799.308983</td>\n",
       "      <td>718.285610</td>\n",
       "      <td>96.652725</td>\n",
       "      <td>4169.919348</td>\n",
       "      <td>127.590085</td>\n",
       "      <td>454.800072</td>\n",
       "      <td>1614.447268</td>\n",
       "      <td>...</td>\n",
       "      <td>NaN</td>\n",
       "      <td>NaN</td>\n",
       "      <td>NaN</td>\n",
       "      <td>NaN</td>\n",
       "      <td>NaN</td>\n",
       "      <td>NaN</td>\n",
       "      <td>NaN</td>\n",
       "      <td>NaN</td>\n",
       "      <td>NaN</td>\n",
       "      <td>NaN</td>\n",
       "    </tr>\n",
       "    <tr>\n",
       "      <th>0</th>\n",
       "      <td>807.340394</td>\n",
       "      <td>76.228079</td>\n",
       "      <td>147.865124</td>\n",
       "      <td>541.328132</td>\n",
       "      <td>655.770230</td>\n",
       "      <td>125.468774</td>\n",
       "      <td>2484.557490</td>\n",
       "      <td>77.428055</td>\n",
       "      <td>240.633043</td>\n",
       "      <td>1879.400669</td>\n",
       "      <td>...</td>\n",
       "      <td>18.269051</td>\n",
       "      <td>43.786395</td>\n",
       "      <td>NaN</td>\n",
       "      <td>NaN</td>\n",
       "      <td>NaN</td>\n",
       "      <td>NaN</td>\n",
       "      <td>NaN</td>\n",
       "      <td>NaN</td>\n",
       "      <td>NaN</td>\n",
       "      <td>NaN</td>\n",
       "    </tr>\n",
       "  </tbody>\n",
       "</table>\n",
       "<p>5 rows × 96 columns</p>\n",
       "</div>"
      ],
      "text/plain": [
       "     NSP_365D  PRE__OTHER        EDAD  \\\n",
       "0  989.201386  113.545882  135.042898   \n",
       "0  809.807938  171.709827  132.620323   \n",
       "0  594.679347  132.628377  128.760637   \n",
       "0  799.204282  347.113341  138.545032   \n",
       "0  807.340394   76.228079  147.865124   \n",
       "\n",
       "   PRE__ODONTOLOGIA_ESPECIALIDAD_PRIMERAS_CONSULTAS  TIP__ENFERMERA_(O)  \\\n",
       "0                                        599.800159          598.611095   \n",
       "0                                        784.247871          658.547411   \n",
       "0                                               NaN          603.549004   \n",
       "0                                        799.308983          718.285610   \n",
       "0                                        541.328132          655.770230   \n",
       "\n",
       "   ESP__ORTODONCIA  ESP__HEMATOLOGÍA_ADULTO  MINUTE_DAY  \\\n",
       "0       132.899848              3127.267482   82.560135   \n",
       "0        89.679814              3213.533119   94.514865   \n",
       "0        86.165308              2399.665930   72.136728   \n",
       "0        96.652725              4169.919348  127.590085   \n",
       "0       125.468774              2484.557490   77.428055   \n",
       "\n",
       "   ESP__CARDIOLOGÍA_ADULTO  TIP__ODONTÓLOGO/DENTISTA  ...  \\\n",
       "0               244.257142               1773.457437  ...   \n",
       "0               394.562480               1286.936666  ...   \n",
       "0               163.812555               1724.802255  ...   \n",
       "0               454.800072               1614.447268  ...   \n",
       "0               240.633043               1879.400669  ...   \n",
       "\n",
       "   SEX__INTERSEX (INDETERMINADO)  APP_DISTANCE  APP_VIDEOCALL   APP_CALL  \\\n",
       "0                            NaN           NaN            NaN        NaN   \n",
       "0                            NaN           NaN            NaN        NaN   \n",
       "0                      30.834919     78.335372      34.272102  63.091041   \n",
       "0                            NaN           NaN            NaN        NaN   \n",
       "0                      18.269051     43.786395            NaN        NaN   \n",
       "\n",
       "   ESP__INMUNOLOGÍA_ADULTO  \\\n",
       "0                      NaN   \n",
       "0                      NaN   \n",
       "0                      NaN   \n",
       "0                      NaN   \n",
       "0                      NaN   \n",
       "\n",
       "   PRE__CONSULTA_DE_PSIQUIATRIA_(A_DISTANCIA_POR_CONTINGENCIA_COVID-19)  \\\n",
       "0                                                NaN                      \n",
       "0                                                NaN                      \n",
       "0                                                NaN                      \n",
       "0                                                NaN                      \n",
       "0                                                NaN                      \n",
       "\n",
       "   ESP__DIABETES  PRE__DESPACHO_DE_RECETAS_A_CRONICOS  TIP__PSIQUIATRÍA  \\\n",
       "0            NaN                                  NaN               NaN   \n",
       "0            NaN                                  NaN               NaN   \n",
       "0            NaN                                  NaN               NaN   \n",
       "0            NaN                                  NaN               NaN   \n",
       "0            NaN                                  NaN               NaN   \n",
       "\n",
       "   PRE__CONSULTA_MEDICA_ABREVIADA  \n",
       "0                             NaN  \n",
       "0                             NaN  \n",
       "0                             NaN  \n",
       "0                             NaN  \n",
       "0                             NaN  \n",
       "\n",
       "[5 rows x 96 columns]"
      ]
     },
     "execution_count": 144,
     "metadata": {},
     "output_type": "execute_result"
    }
   ],
   "source": [
    "df_fi.sample(5)"
   ]
  },
  {
   "cell_type": "markdown",
   "metadata": {},
   "source": [
    "# Solo desde la pandemia"
   ]
  },
  {
   "cell_type": "code",
   "execution_count": 156,
   "metadata": {
    "ExecuteTime": {
     "end_time": "2021-10-31T19:00:11.086423Z",
     "start_time": "2021-10-31T19:00:11.075630Z"
    }
   },
   "outputs": [],
   "source": [
    "lst_aux_data = []\n",
    "\n",
    "for x in range(9):\n",
    "    \n",
    "    pit = dparser.parse('2020-04-01', fuzzy=True) +  dateutil.relativedelta.relativedelta(months=x)\n",
    "    \n",
    "    start_pred_data = pit\n",
    "    end_pred_data = pit +  dateutil.relativedelta.relativedelta(months=1) -  dateutil.relativedelta.relativedelta(days=1)\n",
    "\n",
    "    \n",
    "    start_train_data = dparser.parse('2020-03-01', fuzzy=True)\n",
    "    end_train_data = dparser.parse('2020-03-01', fuzzy=True) + dateutil.relativedelta.relativedelta(months=x + 1) -  dateutil.relativedelta.relativedelta(days=1)\n",
    "    \n",
    "    lst_aux_data.append({'pit':pit, \n",
    "                         'start_pred_data': start_pred_data,\n",
    "                         'end_pred_data': end_pred_data,\n",
    "                         'start_train_data': start_train_data,\n",
    "                         'end_train_data': end_train_data})\n",
    "    \n",
    "df_aux_dt_data = pd.DataFrame(lst_aux_data)    "
   ]
  },
  {
   "cell_type": "code",
   "execution_count": 157,
   "metadata": {
    "ExecuteTime": {
     "end_time": "2021-10-31T19:00:11.102194Z",
     "start_time": "2021-10-31T19:00:11.089349Z"
    }
   },
   "outputs": [
    {
     "data": {
      "text/html": [
       "<div>\n",
       "<style scoped>\n",
       "    .dataframe tbody tr th:only-of-type {\n",
       "        vertical-align: middle;\n",
       "    }\n",
       "\n",
       "    .dataframe tbody tr th {\n",
       "        vertical-align: top;\n",
       "    }\n",
       "\n",
       "    .dataframe thead th {\n",
       "        text-align: right;\n",
       "    }\n",
       "</style>\n",
       "<table border=\"1\" class=\"dataframe\">\n",
       "  <thead>\n",
       "    <tr style=\"text-align: right;\">\n",
       "      <th></th>\n",
       "      <th>pit</th>\n",
       "      <th>start_pred_data</th>\n",
       "      <th>end_pred_data</th>\n",
       "      <th>start_train_data</th>\n",
       "      <th>end_train_data</th>\n",
       "    </tr>\n",
       "  </thead>\n",
       "  <tbody>\n",
       "    <tr>\n",
       "      <th>0</th>\n",
       "      <td>2020-04-01</td>\n",
       "      <td>2020-04-01</td>\n",
       "      <td>2020-04-30</td>\n",
       "      <td>2020-03-01</td>\n",
       "      <td>2020-03-31</td>\n",
       "    </tr>\n",
       "    <tr>\n",
       "      <th>1</th>\n",
       "      <td>2020-05-01</td>\n",
       "      <td>2020-05-01</td>\n",
       "      <td>2020-05-31</td>\n",
       "      <td>2020-03-01</td>\n",
       "      <td>2020-04-30</td>\n",
       "    </tr>\n",
       "    <tr>\n",
       "      <th>2</th>\n",
       "      <td>2020-06-01</td>\n",
       "      <td>2020-06-01</td>\n",
       "      <td>2020-06-30</td>\n",
       "      <td>2020-03-01</td>\n",
       "      <td>2020-05-31</td>\n",
       "    </tr>\n",
       "    <tr>\n",
       "      <th>3</th>\n",
       "      <td>2020-07-01</td>\n",
       "      <td>2020-07-01</td>\n",
       "      <td>2020-07-31</td>\n",
       "      <td>2020-03-01</td>\n",
       "      <td>2020-06-30</td>\n",
       "    </tr>\n",
       "    <tr>\n",
       "      <th>4</th>\n",
       "      <td>2020-08-01</td>\n",
       "      <td>2020-08-01</td>\n",
       "      <td>2020-08-31</td>\n",
       "      <td>2020-03-01</td>\n",
       "      <td>2020-07-31</td>\n",
       "    </tr>\n",
       "    <tr>\n",
       "      <th>5</th>\n",
       "      <td>2020-09-01</td>\n",
       "      <td>2020-09-01</td>\n",
       "      <td>2020-09-30</td>\n",
       "      <td>2020-03-01</td>\n",
       "      <td>2020-08-31</td>\n",
       "    </tr>\n",
       "    <tr>\n",
       "      <th>6</th>\n",
       "      <td>2020-10-01</td>\n",
       "      <td>2020-10-01</td>\n",
       "      <td>2020-10-31</td>\n",
       "      <td>2020-03-01</td>\n",
       "      <td>2020-09-30</td>\n",
       "    </tr>\n",
       "    <tr>\n",
       "      <th>7</th>\n",
       "      <td>2020-11-01</td>\n",
       "      <td>2020-11-01</td>\n",
       "      <td>2020-11-30</td>\n",
       "      <td>2020-03-01</td>\n",
       "      <td>2020-10-31</td>\n",
       "    </tr>\n",
       "    <tr>\n",
       "      <th>8</th>\n",
       "      <td>2020-12-01</td>\n",
       "      <td>2020-12-01</td>\n",
       "      <td>2020-12-31</td>\n",
       "      <td>2020-03-01</td>\n",
       "      <td>2020-11-30</td>\n",
       "    </tr>\n",
       "  </tbody>\n",
       "</table>\n",
       "</div>"
      ],
      "text/plain": [
       "         pit start_pred_data end_pred_data start_train_data end_train_data\n",
       "0 2020-04-01      2020-04-01    2020-04-30       2020-03-01     2020-03-31\n",
       "1 2020-05-01      2020-05-01    2020-05-31       2020-03-01     2020-04-30\n",
       "2 2020-06-01      2020-06-01    2020-06-30       2020-03-01     2020-05-31\n",
       "3 2020-07-01      2020-07-01    2020-07-31       2020-03-01     2020-06-30\n",
       "4 2020-08-01      2020-08-01    2020-08-31       2020-03-01     2020-07-31\n",
       "5 2020-09-01      2020-09-01    2020-09-30       2020-03-01     2020-08-31\n",
       "6 2020-10-01      2020-10-01    2020-10-31       2020-03-01     2020-09-30\n",
       "7 2020-11-01      2020-11-01    2020-11-30       2020-03-01     2020-10-31\n",
       "8 2020-12-01      2020-12-01    2020-12-31       2020-03-01     2020-11-30"
      ]
     },
     "execution_count": 157,
     "metadata": {},
     "output_type": "execute_result"
    }
   ],
   "source": [
    "df_aux_dt_data"
   ]
  },
  {
   "cell_type": "code",
   "execution_count": 158,
   "metadata": {
    "ExecuteTime": {
     "end_time": "2021-10-31T19:05:55.020326Z",
     "start_time": "2021-10-31T19:00:11.105943Z"
    }
   },
   "outputs": [
    {
     "name": "stdout",
     "output_type": "stream",
     "text": [
      "PIT:  2020-04-01 00:00:00\n",
      "[TRAIN] Start date: 2020-03-01 00:00:00 - End date: 2020-03-31 00:00:00 - N rows: 100805\n",
      "ROC: 0.6079071097202934 - Precision: 0.09149310251555315 - % Positivos: 0.3303768905967248 - % f1score: 0.153645241880536\n",
      "\n",
      "PIT:  2020-05-01 00:00:00\n",
      "[TRAIN] Start date: 2020-03-01 00:00:00 - End date: 2020-04-30 00:00:00 - N rows: 145566\n",
      "ROC: 0.619079297631633 - Precision: 0.13517216184126404 - % Positivos: 0.2752941768078045 - % f1score: 0.20566981656475822\n",
      "\n",
      "PIT:  2020-06-01 00:00:00\n",
      "[TRAIN] Start date: 2020-03-01 00:00:00 - End date: 2020-05-31 00:00:00 - N rows: 185338\n",
      "ROC: 0.5863652069014583 - Precision: 0.11681921070760752 - % Positivos: 0.2442313239111624 - % f1score: 0.17479016345162715\n",
      "\n",
      "PIT:  2020-07-01 00:00:00\n",
      "[TRAIN] Start date: 2020-03-01 00:00:00 - End date: 2020-06-30 00:00:00 - N rows: 226942\n",
      "ROC: 0.645813920351078 - Precision: 0.1496592696138389 - % Positivos: 0.21422822811581727 - % f1score: 0.21799440061084246\n",
      "\n",
      "PIT:  2020-08-01 00:00:00\n",
      "[TRAIN] Start date: 2020-03-01 00:00:00 - End date: 2020-07-31 00:00:00 - N rows: 280371\n",
      "ROC: 0.5763723258537293 - Precision: 0.12500840562167978 - % Positivos: 0.2364416885284999 - % f1score: 0.1818626491880258\n",
      "\n",
      "PIT:  2020-09-01 00:00:00\n",
      "[TRAIN] Start date: 2020-03-01 00:00:00 - End date: 2020-08-31 00:00:00 - N rows: 343266\n",
      "ROC: 0.5757813850309845 - Precision: 0.1204644412191582 - % Positivos: 0.3701266434777937 - % f1score: 0.19158635812799354\n",
      "\n",
      "PIT:  2020-10-01 00:00:00\n",
      "[TRAIN] Start date: 2020-03-01 00:00:00 - End date: 2020-09-30 00:00:00 - N rows: 417727\n",
      "ROC: 0.6029158017632902 - Precision: 0.14107276453176332 - % Positivos: 0.37329399193744234 - % f1score: 0.22278155900860408\n",
      "\n",
      "PIT:  2020-11-01 00:00:00\n",
      "[TRAIN] Start date: 2020-03-01 00:00:00 - End date: 2020-10-31 00:00:00 - N rows: 500083\n",
      "ROC: 0.5811883355643227 - Precision: 0.14347695990424894 - % Positivos: 0.3703129155216736 - % f1score: 0.22107471357108277\n",
      "\n",
      "PIT:  2020-12-01 00:00:00\n",
      "[TRAIN] Start date: 2020-03-01 00:00:00 - End date: 2020-11-30 00:00:00 - N rows: 590331\n",
      "ROC: 0.6250337555532122 - Precision: 0.14920830604461224 - % Positivos: 0.6408581974397274 - % f1score: 0.25076076400129493\n",
      "\n"
     ]
    }
   ],
   "source": [
    "list_df_pit_fi = []\n",
    "\n",
    "for _, pit, start_pred_data, end_pred_data, start_train_data, end_train_data in df_aux_dt_data.itertuples():\n",
    "    \n",
    "    print('PIT: ', pit)\n",
    "    \n",
    "    df_pit_train_data = df[(df['DATE_CITA'] >= start_train_data) & (df['DATE_CITA'] <= end_train_data)]\n",
    "    df_pit_predict_data = df[(df['DATE_CITA'] >= start_pred_data) & (df['DATE_CITA'] <= end_pred_data)]\n",
    "\n",
    "    print(f'[TRAIN] Start date: {start_train_data} - End date: {end_train_data} - N rows: {len(df_pit_train_data)}')\n",
    "    \n",
    "    # https://medium.com/gett-engineering/handling-rare-categorical-values-in-pandas-d1e3f17475f0\n",
    "    for cat in ['NACIONALIDAD', 'TIPO_PROFESIONAL', 'PRESTACION', 'ESPECIALIDAD']:\n",
    "        df_pit_train_data[cat] = df_pit_train_data[cat].str.replace(' ', '_')\n",
    "        df_pit_train_data[cat] = df_pit_train_data[cat].\\\n",
    "                                    mask(df_pit_train_data[cat].\\\n",
    "                                    map(df_pit_train_data[cat].value_counts(normalize=True)) < 0.01, 'Other')\n",
    "        \n",
    "        df_pit_predict_data[cat] = df_pit_predict_data[cat].str.replace(' ', '_')\n",
    "        df_pit_predict_data[cat] = df_pit_predict_data[cat].\\\n",
    "                                    mask(df_pit_predict_data[cat].\\\n",
    "                                    map(df_pit_predict_data[cat].value_counts(normalize=True)) < 0.01, 'Other')\n",
    "        \n",
    "        \n",
    "    # One hot encoder\n",
    "    for cat in ['SEXO', 'NACIONALIDAD', 'TIPO_PROFESIONAL', 'PRESTACION', 'ESPECIALIDAD']:\n",
    "        df_dummies = pd.get_dummies(df_pit_train_data[cat].str.upper(), prefix=cat[:3] + '_')\n",
    "        df_pit_train_data = pd.concat([df_pit_train_data, df_dummies], axis=1)\n",
    "\n",
    "        df_dummies = pd.get_dummies(df_pit_predict_data[cat].str.upper(), prefix=cat[:3] + '_')\n",
    "        df_pit_predict_data = pd.concat([df_pit_predict_data, df_dummies], axis=1)\n",
    "\n",
    "    \n",
    "    # Agregamos las columnas como 0 para que el predict y el train tengan las mismas columnas\n",
    "    for falta in set(df_pit_train_data.columns) - set(df_pit_predict_data.columns):\n",
    "        df_pit_predict_data[falta] = 0\n",
    "        \n",
    "    for falta in set(df_pit_predict_data.columns) - set(df_pit_train_data.columns):\n",
    "        df_pit_train_data[falta] = 0\n",
    "        \n",
    "    # Utilizando el peso de la clase postivia\n",
    "    weight = df_pit_train_data['TARGET'].value_counts().max()/df_pit_train_data['TARGET'].value_counts().min()\n",
    "    \n",
    "    classifier = xgb.XGBClassifier(eval_metric='logloss', \n",
    "                                   verbosity=0,\n",
    "                                   scale_pos_weight=weight,\n",
    "                                   seed=42)\n",
    "\n",
    "    X_train = df_pit_train_data.drop(['TARGET', 'SEXO', 'NACIONALIDAD', 'TIPO_PROFESIONAL',\n",
    "                                      'PRESTACION', 'ESPECIALIDAD', 'DATE_CITA'], axis='columns')\n",
    "    y_train = df_pit_train_data['TARGET']\n",
    "    \n",
    "    X_test = df_pit_predict_data.drop(['TARGET', 'SEXO', 'NACIONALIDAD', 'TIPO_PROFESIONAL',\n",
    "                                       'PRESTACION', 'ESPECIALIDAD', 'DATE_CITA'], axis='columns')\n",
    "    y_test = df_pit_predict_data['TARGET']\n",
    "    \n",
    "    classifier.fit(X_train, y_train)\n",
    "\n",
    "    y_pred = classifier.predict_proba(X_test)\n",
    "    print(basic_metrics(y_pred, y_test))\n",
    "    \n",
    "    # Creo un dataframe con las features importance\n",
    "    df_fi = pd.DataFrame([classifier._Booster.get_score(importance_type='gain')])\n",
    "    df_fi['PIT'] = pit\n",
    "\n",
    "    list_df_pit_fi.append(df_fi)\n",
    "\n",
    "    print()"
   ]
  },
  {
   "cell_type": "code",
   "execution_count": 159,
   "metadata": {
    "ExecuteTime": {
     "end_time": "2021-10-31T19:05:55.075926Z",
     "start_time": "2021-10-31T19:05:55.023232Z"
    }
   },
   "outputs": [],
   "source": [
    "df_fi = pd.concat(list_df_pit_fi)"
   ]
  },
  {
   "cell_type": "code",
   "execution_count": 163,
   "metadata": {
    "ExecuteTime": {
     "end_time": "2021-10-31T19:07:17.924492Z",
     "start_time": "2021-10-31T19:07:17.900768Z"
    }
   },
   "outputs": [
    {
     "data": {
      "text/html": [
       "<div>\n",
       "<style scoped>\n",
       "    .dataframe tbody tr th:only-of-type {\n",
       "        vertical-align: middle;\n",
       "    }\n",
       "\n",
       "    .dataframe tbody tr th {\n",
       "        vertical-align: top;\n",
       "    }\n",
       "\n",
       "    .dataframe thead th {\n",
       "        text-align: right;\n",
       "    }\n",
       "</style>\n",
       "<table border=\"1\" class=\"dataframe\">\n",
       "  <thead>\n",
       "    <tr style=\"text-align: right;\">\n",
       "      <th></th>\n",
       "      <th>PREVIOUS_APP_365D</th>\n",
       "      <th>TIP__ODONTÓLOGO/DENTISTA</th>\n",
       "      <th>TIP__ENFERMERA_(O)</th>\n",
       "      <th>TIP__CIRUJANO_DENTISTA</th>\n",
       "      <th>EDAD</th>\n",
       "      <th>ESP__OTHER</th>\n",
       "      <th>ESP__NEUROLOGÍA_ADULTO</th>\n",
       "      <th>PRE__ODONTOLOGIA_ESPECIALIDAD_CONSULTAS_REPETIDAS</th>\n",
       "      <th>MINUTE_DAY</th>\n",
       "      <th>ESP__GINECOLOGÍA_ADULTO</th>\n",
       "      <th>...</th>\n",
       "      <th>PRE__CONSULTA_MEDICA_ABREVIADA</th>\n",
       "      <th>TIP__PSIQUIATRÍA</th>\n",
       "      <th>APP_CALL</th>\n",
       "      <th>ESP__DIABETES</th>\n",
       "      <th>ESP__INMUNOLOGÍA_ADULTO</th>\n",
       "      <th>PRE__VENOSA_EN_ADULTOS</th>\n",
       "      <th>PRE__CONSULTA_DE_PSIQUIATRIA_(A_DISTANCIA_POR_CONTINGENCIA_COVID-19)</th>\n",
       "      <th>PRE__CONSULTA_O_CONTROL_MÉDICO_(HOSP.TIPO_3)_(A_DISTANCIA_POR_CONTINGENCIA_COVID-19)</th>\n",
       "      <th>PRE__CONSULTA_DE_SALUD_MENTAL_POR_OTROS_PROFESIONALES_(VÍA_LLAMADA_TELEFÓNICA_POR_CONTINGENCIA_COVID-19)</th>\n",
       "      <th>PRE__CONSULTA_INTEGRAL_DE_ESPECIALIDADES_EN_MEDIC_INTERNA_Y_SUBESP,_OFTALMO,_NEUROLO,_ONCOLOGIA_EN_CDT_(A_DISTANCIA_POR_CONTINGENCIA_COVID-19)</th>\n",
       "    </tr>\n",
       "  </thead>\n",
       "  <tbody>\n",
       "    <tr>\n",
       "      <th>0</th>\n",
       "      <td>26.46167</td>\n",
       "      <td>267.476734</td>\n",
       "      <td>112.094873</td>\n",
       "      <td>61.951623</td>\n",
       "      <td>18.718742</td>\n",
       "      <td>37.236471</td>\n",
       "      <td>79.158881</td>\n",
       "      <td>68.612841</td>\n",
       "      <td>18.120722</td>\n",
       "      <td>28.297498</td>\n",
       "      <td>...</td>\n",
       "      <td>NaN</td>\n",
       "      <td>NaN</td>\n",
       "      <td>NaN</td>\n",
       "      <td>NaN</td>\n",
       "      <td>NaN</td>\n",
       "      <td>NaN</td>\n",
       "      <td>NaN</td>\n",
       "      <td>NaN</td>\n",
       "      <td>NaN</td>\n",
       "      <td>NaN</td>\n",
       "    </tr>\n",
       "  </tbody>\n",
       "</table>\n",
       "<p>1 rows × 94 columns</p>\n",
       "</div>"
      ],
      "text/plain": [
       "   PREVIOUS_APP_365D  TIP__ODONTÓLOGO/DENTISTA  TIP__ENFERMERA_(O)  \\\n",
       "0           26.46167                267.476734          112.094873   \n",
       "\n",
       "   TIP__CIRUJANO_DENTISTA       EDAD  ESP__OTHER  ESP__NEUROLOGÍA_ADULTO  \\\n",
       "0               61.951623  18.718742   37.236471               79.158881   \n",
       "\n",
       "   PRE__ODONTOLOGIA_ESPECIALIDAD_CONSULTAS_REPETIDAS  MINUTE_DAY  \\\n",
       "0                                          68.612841   18.120722   \n",
       "\n",
       "   ESP__GINECOLOGÍA_ADULTO  ...  PRE__CONSULTA_MEDICA_ABREVIADA  \\\n",
       "0                28.297498  ...                             NaN   \n",
       "\n",
       "   TIP__PSIQUIATRÍA  APP_CALL  ESP__DIABETES  ESP__INMUNOLOGÍA_ADULTO  \\\n",
       "0               NaN       NaN            NaN                      NaN   \n",
       "\n",
       "   PRE__VENOSA_EN_ADULTOS  \\\n",
       "0                     NaN   \n",
       "\n",
       "   PRE__CONSULTA_DE_PSIQUIATRIA_(A_DISTANCIA_POR_CONTINGENCIA_COVID-19)  \\\n",
       "0                                                NaN                      \n",
       "\n",
       "   PRE__CONSULTA_O_CONTROL_MÉDICO_(HOSP.TIPO_3)_(A_DISTANCIA_POR_CONTINGENCIA_COVID-19)  \\\n",
       "0                                                NaN                                      \n",
       "\n",
       "   PRE__CONSULTA_DE_SALUD_MENTAL_POR_OTROS_PROFESIONALES_(VÍA_LLAMADA_TELEFÓNICA_POR_CONTINGENCIA_COVID-19)  \\\n",
       "0                                                NaN                                                          \n",
       "\n",
       "   PRE__CONSULTA_INTEGRAL_DE_ESPECIALIDADES_EN_MEDIC_INTERNA_Y_SUBESP,_OFTALMO,_NEUROLO,_ONCOLOGIA_EN_CDT_(A_DISTANCIA_POR_CONTINGENCIA_COVID-19)  \n",
       "0                                                NaN                                                                                               \n",
       "\n",
       "[1 rows x 94 columns]"
      ]
     },
     "execution_count": 163,
     "metadata": {},
     "output_type": "execute_result"
    }
   ],
   "source": [
    "df_fi.sample()"
   ]
  },
  {
   "cell_type": "markdown",
   "metadata": {
    "ExecuteTime": {
     "end_time": "2021-10-31T18:58:24.185669Z",
     "start_time": "2021-10-31T18:53:57.428Z"
    }
   },
   "source": [
    "### Modelos especificos (24 PIT)"
   ]
  },
  {
   "cell_type": "code",
   "execution_count": 199,
   "metadata": {
    "ExecuteTime": {
     "end_time": "2021-10-31T19:33:15.137334Z",
     "start_time": "2021-10-31T19:33:15.135005Z"
    }
   },
   "outputs": [],
   "source": [
    "## Especialidad"
   ]
  },
  {
   "cell_type": "code",
   "execution_count": 193,
   "metadata": {
    "ExecuteTime": {
     "end_time": "2021-10-31T19:26:32.785697Z",
     "start_time": "2021-10-31T19:26:32.774058Z"
    }
   },
   "outputs": [],
   "source": [
    "lst_aux_data = []\n",
    "\n",
    "for x in range(24):\n",
    "    \n",
    "    pit = dparser.parse('2019-01-01', fuzzy=True) +  dateutil.relativedelta.relativedelta(months=x)\n",
    "    \n",
    "    start_pred_data = pit\n",
    "    end_pred_data = pit +  dateutil.relativedelta.relativedelta(months=1) -  dateutil.relativedelta.relativedelta(days=1)\n",
    "\n",
    "    \n",
    "    start_train_data = pit -  dateutil.relativedelta.relativedelta(months=12) \n",
    "    end_train_data = pit - dateutil.relativedelta.relativedelta(days=1)\n",
    "    \n",
    "    lst_aux_data.append({'pit':pit, \n",
    "                         'start_pred_data': start_pred_data,\n",
    "                         'end_pred_data': end_pred_data,\n",
    "                         'start_train_data': start_train_data,\n",
    "                         'end_train_data': end_train_data})\n",
    "    \n",
    "df_aux_dt_data = pd.DataFrame(lst_aux_data)    "
   ]
  },
  {
   "cell_type": "code",
   "execution_count": 194,
   "metadata": {
    "ExecuteTime": {
     "end_time": "2021-10-31T19:26:34.742265Z",
     "start_time": "2021-10-31T19:26:33.685467Z"
    }
   },
   "outputs": [
    {
     "data": {
      "text/html": [
       "<div>\n",
       "<style scoped>\n",
       "    .dataframe tbody tr th:only-of-type {\n",
       "        vertical-align: middle;\n",
       "    }\n",
       "\n",
       "    .dataframe tbody tr th {\n",
       "        vertical-align: top;\n",
       "    }\n",
       "\n",
       "    .dataframe thead th {\n",
       "        text-align: right;\n",
       "    }\n",
       "</style>\n",
       "<table border=\"1\" class=\"dataframe\">\n",
       "  <thead>\n",
       "    <tr style=\"text-align: right;\">\n",
       "      <th></th>\n",
       "      <th>index</th>\n",
       "      <th>ESPECIALIDAD</th>\n",
       "    </tr>\n",
       "  </thead>\n",
       "  <tbody>\n",
       "    <tr>\n",
       "      <th>0</th>\n",
       "      <td>Med. Interna</td>\n",
       "      <td>0.089182</td>\n",
       "    </tr>\n",
       "    <tr>\n",
       "      <th>1</th>\n",
       "      <td>Psiquiatría Adulto</td>\n",
       "      <td>0.082880</td>\n",
       "    </tr>\n",
       "    <tr>\n",
       "      <th>2</th>\n",
       "      <td>Hematología Adulto</td>\n",
       "      <td>0.056699</td>\n",
       "    </tr>\n",
       "  </tbody>\n",
       "</table>\n",
       "</div>"
      ],
      "text/plain": [
       "                index  ESPECIALIDAD\n",
       "0        Med. Interna      0.089182\n",
       "1  Psiquiatría Adulto      0.082880\n",
       "2  Hematología Adulto      0.056699"
      ]
     },
     "execution_count": 194,
     "metadata": {},
     "output_type": "execute_result"
    }
   ],
   "source": [
    "df_type = pd.DataFrame(df.loc[df['ESPECIALIDAD'] != -1]['ESPECIALIDAD'].value_counts(normalize=True)).reset_index()\n",
    "df_type = df_type.loc[df_type['ESPECIALIDAD'] >= 0.05]\n",
    "df_type"
   ]
  },
  {
   "cell_type": "code",
   "execution_count": 195,
   "metadata": {
    "ExecuteTime": {
     "end_time": "2021-10-31T19:26:34.747577Z",
     "start_time": "2021-10-31T19:26:34.744299Z"
    }
   },
   "outputs": [
    {
     "name": "stdout",
     "output_type": "stream",
     "text": [
      "Med. Interna\n",
      "Psiquiatría Adulto\n",
      "Hematología Adulto\n"
     ]
    }
   ],
   "source": [
    "for tp in  df_type['index']:\n",
    "    print(tp)"
   ]
  },
  {
   "cell_type": "code",
   "execution_count": 196,
   "metadata": {
    "ExecuteTime": {
     "end_time": "2021-10-31T19:33:14.877338Z",
     "start_time": "2021-10-31T19:26:34.907766Z"
    },
    "scrolled": false
   },
   "outputs": [
    {
     "name": "stdout",
     "output_type": "stream",
     "text": [
      "--------------------------------------------------\n",
      "TP:  Med. Interna\n",
      "PIT:  2019-01-01 00:00:00\n",
      "[TRAIN] Start date: 2018-01-01 00:00:00 - End date: 2018-12-31 00:00:00 - N rows: 76841\n",
      "ROC: 0.6438792136547745 - Precision: 0.1707933299646286 - % Positivos: 0.22868037901548416 - % f1score: 0.24671532846715327\n",
      "\n",
      "PIT:  2019-02-01 00:00:00\n",
      "[TRAIN] Start date: 2018-02-01 00:00:00 - End date: 2019-01-31 00:00:00 - N rows: 78797\n",
      "ROC: 0.5757680280129901 - Precision: 0.17452830188679244 - % Positivos: 0.22110203372153658 - % f1score: 0.22379032258064518\n",
      "\n",
      "PIT:  2019-03-01 00:00:00\n",
      "[TRAIN] Start date: 2018-03-01 00:00:00 - End date: 2019-02-28 00:00:00 - N rows: 78628\n",
      "ROC: 0.7150294706157252 - Precision: 0.21390086206896552 - % Positivos: 0.285275130648632 - % f1score: 0.30882924931933103\n",
      "\n",
      "PIT:  2019-04-01 00:00:00\n",
      "[TRAIN] Start date: 2018-04-01 00:00:00 - End date: 2019-03-31 00:00:00 - N rows: 78703\n",
      "ROC: 0.7133615431246337 - Precision: 0.20937363118703461 - % Positivos: 0.3417153120790301 - % f1score: 0.3087855297157623\n",
      "\n",
      "PIT:  2019-05-01 00:00:00\n",
      "[TRAIN] Start date: 2018-05-01 00:00:00 - End date: 2019-04-30 00:00:00 - N rows: 79047\n",
      "ROC: 0.7340020989151523 - Precision: 0.21651690201112536 - % Positivos: 0.3394335511982571 - % f1score: 0.32198536430162267\n",
      "\n",
      "PIT:  2019-06-01 00:00:00\n",
      "[TRAIN] Start date: 2018-06-01 00:00:00 - End date: 2019-05-31 00:00:00 - N rows: 79105\n",
      "ROC: 0.6190505815775406 - Precision: 0.15157639450282942 - % Positivos: 0.36206644226547635 - % f1score: 0.23270245113248528\n",
      "\n",
      "PIT:  2019-07-01 00:00:00\n",
      "[TRAIN] Start date: 2018-07-01 00:00:00 - End date: 2019-06-30 00:00:00 - N rows: 79411\n",
      "ROC: 0.6394184842160661 - Precision: 0.16980286738351255 - % Positivos: 0.2734958951108933 - % f1score: 0.24779339653481527\n",
      "\n",
      "PIT:  2019-08-01 00:00:00\n",
      "[TRAIN] Start date: 2018-08-01 00:00:00 - End date: 2019-07-31 00:00:00 - N rows: 80907\n",
      "ROC: 0.6979926632675383 - Precision: 0.20050125313283207 - % Positivos: 0.2513544160262064 - % f1score: 0.2824858757062147\n",
      "\n",
      "PIT:  2019-09-01 00:00:00\n",
      "[TRAIN] Start date: 2018-09-01 00:00:00 - End date: 2019-08-31 00:00:00 - N rows: 81762\n",
      "ROC: 0.5599971605929465 - Precision: 0.15280665280665282 - % Positivos: 0.1387967104313952 - % f1score: 0.17828987265009097\n",
      "\n",
      "PIT:  2019-10-01 00:00:00\n",
      "[TRAIN] Start date: 2018-10-01 00:00:00 - End date: 2019-09-30 00:00:00 - N rows: 83501\n",
      "ROC: 0.615579595175692 - Precision: 0.2073732718894009 - % Positivos: 0.07805755395683453 - % f1score: 0.18518518518518523\n",
      "\n",
      "PIT:  2019-11-01 00:00:00\n",
      "[TRAIN] Start date: 2018-11-01 00:00:00 - End date: 2019-10-31 00:00:00 - N rows: 84647\n",
      "ROC: 0.5610589528570261 - Precision: 0.12872628726287264 - % Positivos: 0.15349417637271215 - % f1score: 0.15793848711554448\n",
      "\n",
      "PIT:  2019-12-01 00:00:00\n",
      "[TRAIN] Start date: 2018-12-01 00:00:00 - End date: 2019-11-30 00:00:00 - N rows: 88352\n",
      "ROC: 0.535552960209405 - Precision: 0.12169103121295931 - % Positivos: 0.2918925152808211 - % f1score: 0.18426562967394555\n",
      "\n",
      "PIT:  2020-01-01 00:00:00\n",
      "[TRAIN] Start date: 2019-01-01 00:00:00 - End date: 2019-12-31 00:00:00 - N rows: 90968\n",
      "ROC: 0.6356380134477216 - Precision: 0.21465968586387435 - % Positivos: 0.01993112803923615 - % f1score: 0.08550573514077162\n",
      "\n",
      "PIT:  2020-02-01 00:00:00\n",
      "[TRAIN] Start date: 2019-02-01 00:00:00 - End date: 2020-01-31 00:00:00 - N rows: 91897\n",
      "ROC: 0.582819868490227 - Precision: 0.12935323383084577 - % Positivos: 0.049764793265659815 - % f1score: 0.09523809523809525\n",
      "\n",
      "PIT:  2020-03-01 00:00:00\n",
      "[TRAIN] Start date: 2019-03-01 00:00:00 - End date: 2020-02-29 00:00:00 - N rows: 94222\n",
      "ROC: 0.587600012380154 - Precision: 0.11283250511546332 - % Positivos: 0.3811699164345404 - % f1score: 0.18411638445027428\n",
      "\n",
      "PIT:  2020-04-01 00:00:00\n",
      "[TRAIN] Start date: 2019-04-01 00:00:00 - End date: 2020-03-31 00:00:00 - N rows: 96691\n",
      "ROC: 0.674789039303197 - Precision: 0.06986899563318777 - % Positivos: 0.09026409144659046 - % f1score: 0.1027287319422151\n",
      "\n",
      "PIT:  2020-05-01 00:00:00\n",
      "[TRAIN] Start date: 2019-05-01 00:00:00 - End date: 2020-04-30 00:00:00 - N rows: 95084\n",
      "ROC: 0.570284997269696 - Precision: 0.04516129032258064 - % Positivos: 0.046130952380952384 - % f1score: 0.03465346534653465\n",
      "\n",
      "PIT:  2020-06-01 00:00:00\n",
      "[TRAIN] Start date: 2019-06-01 00:00:00 - End date: 2020-05-31 00:00:00 - N rows: 91559\n",
      "ROC: 0.6047957530236431 - Precision: 0.09195402298850575 - % Positivos: 0.2443820224719101 - % f1score: 0.1487603305785124\n",
      "\n",
      "PIT:  2020-07-01 00:00:00\n",
      "[TRAIN] Start date: 2019-07-01 00:00:00 - End date: 2020-06-30 00:00:00 - N rows: 87930\n",
      "ROC: 0.5770149716856721 - Precision: 0.058095238095238096 - % Positivos: 0.2345320527138709 - % f1score: 0.0991869918699187\n",
      "\n",
      "PIT:  2020-08-01 00:00:00\n",
      "[TRAIN] Start date: 2019-08-01 00:00:00 - End date: 2020-07-31 00:00:00 - N rows: 84246\n",
      "ROC: 0.6024647765087457 - Precision: 0.09210526315789473 - % Positivos: 0.14346389806512505 - % f1score: 0.13008130081300812\n",
      "\n",
      "PIT:  2020-09-01 00:00:00\n",
      "[TRAIN] Start date: 2019-09-01 00:00:00 - End date: 2020-08-31 00:00:00 - N rows: 80547\n",
      "ROC: 0.5533829474165086 - Precision: 0.07083599234205488 - % Positivos: 0.3072549019607843 - % f1score: 0.12065217391304348\n",
      "\n",
      "PIT:  2020-10-01 00:00:00\n",
      "[TRAIN] Start date: 2019-10-01 00:00:00 - End date: 2020-09-30 00:00:00 - N rows: 78716\n",
      "ROC: 0.5856448643410852 - Precision: 0.07509505703422054 - % Positivos: 0.23171806167400882 - % f1score: 0.12229102167182662\n",
      "\n",
      "PIT:  2020-11-01 00:00:00\n",
      "[TRAIN] Start date: 2019-11-01 00:00:00 - End date: 2020-10-31 00:00:00 - N rows: 74916\n",
      "ROC: 0.5496905173339581 - Precision: 0.06896551724137931 - % Positivos: 0.005025125628140704 - % f1score: 0.009779951100244499\n",
      "\n",
      "PIT:  2020-12-01 00:00:00\n",
      "[TRAIN] Start date: 2019-12-01 00:00:00 - End date: 2020-11-30 00:00:00 - N rows: 71071\n",
      "ROC: 0.5454680857665932 - Precision: 0.1111111111111111 - % Positivos: 0.005110732538330494 - % f1score: 0.017045454545454544\n",
      "\n",
      "--------------------------------------------------\n",
      "TP:  Psiquiatría Adulto\n",
      "PIT:  2019-01-01 00:00:00\n",
      "[TRAIN] Start date: 2018-01-01 00:00:00 - End date: 2018-12-31 00:00:00 - N rows: 70582\n",
      "ROC: 0.5543076437115425 - Precision: 0.20202020202020202 - % Positivos: 0.33926240208877284 - % f1score: 0.27158098933074687\n",
      "\n",
      "PIT:  2019-02-01 00:00:00\n",
      "[TRAIN] Start date: 2018-02-01 00:00:00 - End date: 2019-01-31 00:00:00 - N rows: 70764\n",
      "ROC: 0.7381198303571771 - Precision: 0.3245261344055141 - % Positivos: 0.3351944551405468 - % f1score: 0.4254518072289156\n",
      "\n",
      "PIT:  2019-03-01 00:00:00\n",
      "[TRAIN] Start date: 2018-03-01 00:00:00 - End date: 2019-02-28 00:00:00 - N rows: 71558\n",
      "ROC: 0.6889259790889735 - Precision: 0.29020618556701033 - % Positivos: 0.31751227495908346 - % f1score: 0.38014854827819045\n",
      "\n",
      "PIT:  2019-04-01 00:00:00\n",
      "[TRAIN] Start date: 2018-04-01 00:00:00 - End date: 2019-03-31 00:00:00 - N rows: 72135\n",
      "ROC: 0.7487134241113664 - Precision: 0.28952857738840215 - % Positivos: 0.3600721045515998 - % f1score: 0.4018529241459177\n",
      "\n",
      "PIT:  2019-05-01 00:00:00\n",
      "[TRAIN] Start date: 2018-05-01 00:00:00 - End date: 2019-04-30 00:00:00 - N rows: 72815\n",
      "ROC: 0.7236597657683287 - Precision: 0.3322619525914022 - % Positivos: 0.36522377109317683 - % f1score: 0.4368726888536714\n",
      "\n",
      "PIT:  2019-06-01 00:00:00\n",
      "[TRAIN] Start date: 2018-06-01 00:00:00 - End date: 2019-05-31 00:00:00 - N rows: 73449\n",
      "ROC: 0.7429269350245138 - Precision: 0.323037323037323 - % Positivos: 0.3741573033707865 - % f1score: 0.43475750577367206\n",
      "\n",
      "PIT:  2019-07-01 00:00:00\n",
      "[TRAIN] Start date: 2018-07-01 00:00:00 - End date: 2019-06-30 00:00:00 - N rows: 73427\n",
      "ROC: 0.748212967701226 - Precision: 0.31860184813177983 - % Positivos: 0.36705500663618934 - % f1score: 0.43321496858781755\n",
      "\n",
      "PIT:  2019-08-01 00:00:00\n",
      "[TRAIN] Start date: 2018-08-01 00:00:00 - End date: 2019-07-31 00:00:00 - N rows: 74406\n",
      "ROC: 0.6882915713386477 - Precision: 0.2757009345794392 - % Positivos: 0.39282688506071733 - % f1score: 0.38149714001492163\n",
      "\n",
      "PIT:  2019-09-01 00:00:00\n",
      "[TRAIN] Start date: 2018-09-01 00:00:00 - End date: 2019-08-31 00:00:00 - N rows: 74833\n",
      "ROC: 0.7272232348299261 - Precision: 0.3066502463054187 - % Positivos: 0.3987559338680635 - % f1score: 0.41837020442453093\n",
      "\n",
      "PIT:  2019-10-01 00:00:00\n",
      "[TRAIN] Start date: 2018-10-01 00:00:00 - End date: 2019-09-30 00:00:00 - N rows: 75847\n",
      "ROC: 0.6690942109914442 - Precision: 0.2806451612903226 - % Positivos: 0.40664626147791866 - % f1score: 0.3833537331701346\n",
      "\n",
      "PIT:  2019-11-01 00:00:00\n"
     ]
    },
    {
     "name": "stdout",
     "output_type": "stream",
     "text": [
      "[TRAIN] Start date: 2018-11-01 00:00:00 - End date: 2019-10-31 00:00:00 - N rows: 75862\n",
      "ROC: 0.6277513650248725 - Precision: 0.2656918687589158 - % Positivos: 0.4939228465738947 - % f1score: 0.3738083291520321\n",
      "\n",
      "PIT:  2019-12-01 00:00:00\n",
      "[TRAIN] Start date: 2018-12-01 00:00:00 - End date: 2019-11-30 00:00:00 - N rows: 75129\n",
      "ROC: 0.61642478862186 - Precision: 0.25187865293626494 - % Positivos: 0.5461316309469524 - % f1score: 0.36743808363784003\n",
      "\n",
      "PIT:  2020-01-01 00:00:00\n",
      "[TRAIN] Start date: 2019-01-01 00:00:00 - End date: 2019-12-31 00:00:00 - N rows: 76223\n",
      "ROC: 0.5569720236051247 - Precision: 0.2514124293785311 - % Positivos: 0.252821025567776 - % f1score: 0.28709677419354845\n",
      "\n",
      "PIT:  2020-02-01 00:00:00\n",
      "[TRAIN] Start date: 2019-02-01 00:00:00 - End date: 2020-01-31 00:00:00 - N rows: 77096\n",
      "ROC: 0.5022374549437548 - Precision: 0.2094240837696335 - % Positivos: 0.034639100471527025 - % f1score: 0.06557377049180327\n",
      "\n",
      "PIT:  2020-03-01 00:00:00\n",
      "[TRAIN] Start date: 2019-03-01 00:00:00 - End date: 2020-02-29 00:00:00 - N rows: 77416\n",
      "ROC: 0.6912340883114643 - Precision: 0.25647668393782386 - % Positivos: 0.3437833986462415 - % f1score: 0.3550932568149211\n",
      "\n",
      "PIT:  2020-04-01 00:00:00\n",
      "[TRAIN] Start date: 2019-04-01 00:00:00 - End date: 2020-03-31 00:00:00 - N rows: 76920\n",
      "ROC: 0.6102873558133293 - Precision: 0.11507128309572301 - % Positivos: 0.19967466449776333 - % f1score: 0.16678966789667896\n",
      "\n",
      "PIT:  2020-05-01 00:00:00\n",
      "[TRAIN] Start date: 2019-05-01 00:00:00 - End date: 2020-04-30 00:00:00 - N rows: 75181\n",
      "ROC: 0.5184118642020056 - Precision: 0.10886075949367088 - % Positivos: 0.15239197530864199 - % f1score: 0.12990936555891242\n",
      "\n",
      "PIT:  2020-06-01 00:00:00\n",
      "[TRAIN] Start date: 2019-06-01 00:00:00 - End date: 2020-05-31 00:00:00 - N rows: 73550\n",
      "ROC: 0.6128447461903461 - Precision: 0.19423076923076923 - % Positivos: 0.08867667121418826 - % f1score: 0.18313689936536717\n",
      "\n",
      "PIT:  2020-07-01 00:00:00\n",
      "[TRAIN] Start date: 2019-07-01 00:00:00 - End date: 2020-06-30 00:00:00 - N rows: 73184\n",
      "ROC: 0.6203081767068274 - Precision: 0.17862595419847327 - % Positivos: 0.09562043795620438 - % f1score: 0.18281249999999996\n",
      "\n",
      "PIT:  2020-08-01 00:00:00\n",
      "[TRAIN] Start date: 2019-08-01 00:00:00 - End date: 2020-07-31 00:00:00 - N rows: 73253\n",
      "ROC: 0.6173209451260238 - Precision: 0.16327960756832516 - % Positivos: 0.2101620029455081 - % f1score: 0.21929411764705883\n",
      "\n",
      "PIT:  2020-09-01 00:00:00\n",
      "[TRAIN] Start date: 2019-09-01 00:00:00 - End date: 2020-08-31 00:00:00 - N rows: 72961\n",
      "ROC: 0.6385356974670751 - Precision: 0.21173671689135606 - % Positivos: 0.19441874807277212 - % f1score: 0.26435643564356437\n",
      "\n",
      "PIT:  2020-10-01 00:00:00\n",
      "[TRAIN] Start date: 2019-10-01 00:00:00 - End date: 2020-09-30 00:00:00 - N rows: 73338\n",
      "ROC: 0.6045848828579525 - Precision: 0.23550087873462214 - % Positivos: 0.18631303208906352 - % f1score: 0.2621026894865526\n",
      "\n",
      "PIT:  2020-11-01 00:00:00\n",
      "[TRAIN] Start date: 2019-11-01 00:00:00 - End date: 2020-10-31 00:00:00 - N rows: 72585\n",
      "ROC: 0.5528375240724404 - Precision: 0.1978305785123967 - % Positivos: 0.31603003591250406 - % f1score: 0.2623287671232877\n",
      "\n",
      "PIT:  2020-12-01 00:00:00\n",
      "[TRAIN] Start date: 2019-12-01 00:00:00 - End date: 2020-11-30 00:00:00 - N rows: 73034\n",
      "ROC: 0.5593766818295927 - Precision: 0.2082695252679939 - % Positivos: 0.46717939545698445 - % f1score: 0.29849108367626886\n",
      "\n",
      "--------------------------------------------------\n",
      "TP:  Hematología Adulto\n",
      "PIT:  2019-01-01 00:00:00\n",
      "[TRAIN] Start date: 2018-01-01 00:00:00 - End date: 2018-12-31 00:00:00 - N rows: 51323\n",
      "ROC: 0.8952619418742193 - Precision: 0.12162162162162163 - % Positivos: 0.01541987914148781 - % f1score: 0.1607142857142857\n",
      "\n",
      "PIT:  2019-02-01 00:00:00\n",
      "[TRAIN] Start date: 2018-02-01 00:00:00 - End date: 2019-01-31 00:00:00 - N rows: 53309\n",
      "ROC: 0.8945729432739212 - Precision: 0.1348314606741573 - % Positivos: 0.021899606299212598 - % f1score: 0.16901408450704225\n",
      "\n",
      "PIT:  2019-03-01 00:00:00\n",
      "[TRAIN] Start date: 2018-03-01 00:00:00 - End date: 2019-02-28 00:00:00 - N rows: 53251\n",
      "ROC: 0.8753198203320447 - Precision: 0.09375 - % Positivos: 0.021675321743057124 - % f1score: 0.140625\n",
      "\n",
      "PIT:  2019-04-01 00:00:00\n",
      "[TRAIN] Start date: 2018-04-01 00:00:00 - End date: 2019-03-31 00:00:00 - N rows: 53274\n",
      "ROC: 0.8292027546153924 - Precision: 0.06741573033707865 - % Positivos: 0.018241442918630866 - % f1score: 0.0923076923076923\n",
      "\n",
      "PIT:  2019-05-01 00:00:00\n",
      "[TRAIN] Start date: 2018-05-01 00:00:00 - End date: 2019-04-30 00:00:00 - N rows: 53534\n",
      "ROC: 0.86881120656504 - Precision: 0.1506849315068493 - % Positivos: 0.015349032800672834 - % f1score: 0.16923076923076924\n",
      "\n",
      "PIT:  2019-06-01 00:00:00\n",
      "[TRAIN] Start date: 2018-06-01 00:00:00 - End date: 2019-05-31 00:00:00 - N rows: 53534\n",
      "ROC: 0.9173384728340676 - Precision: 0.25 - % Positivos: 0.02 - % f1score: 0.3026315789473685\n",
      "\n",
      "PIT:  2019-07-01 00:00:00\n",
      "[TRAIN] Start date: 2018-07-01 00:00:00 - End date: 2019-06-30 00:00:00 - N rows: 53657\n",
      "ROC: 0.8769608664098699 - Precision: 0.030303030303030304 - % Positivos: 0.02558139534883721 - % f1score: 0.04597701149425287\n",
      "\n",
      "PIT:  2019-08-01 00:00:00\n",
      "[TRAIN] Start date: 2018-08-01 00:00:00 - End date: 2019-07-31 00:00:00 - N rows: 54149\n",
      "ROC: 0.8905195681511471 - Precision: 0.10843373493975904 - % Positivos: 0.03429043586035943 - % f1score: 0.16143497757847533\n",
      "\n",
      "PIT:  2019-09-01 00:00:00\n",
      "[TRAIN] Start date: 2018-09-01 00:00:00 - End date: 2019-08-31 00:00:00 - N rows: 54221\n",
      "ROC: 0.9173183039798719 - Precision: 0.08441558441558442 - % Positivos: 0.034715960324616775 - % f1score: 0.11926605504587157\n",
      "\n",
      "PIT:  2019-10-01 00:00:00\n",
      "[TRAIN] Start date: 2018-10-01 00:00:00 - End date: 2019-09-30 00:00:00 - N rows: 54778\n",
      "ROC: 0.8672067137318763 - Precision: 0.15328467153284672 - % Positivos: 0.056917324470294975 - % f1score: 0.2159383033419023\n",
      "\n",
      "PIT:  2019-11-01 00:00:00\n",
      "[TRAIN] Start date: 2018-11-01 00:00:00 - End date: 2019-10-31 00:00:00 - N rows: 54545\n",
      "ROC: 0.878437063547486 - Precision: 0.12228260869565218 - % Positivos: 0.08378870673952642 - % f1score: 0.1939655172413793\n",
      "\n",
      "PIT:  2019-12-01 00:00:00\n",
      "[TRAIN] Start date: 2018-12-01 00:00:00 - End date: 2019-11-30 00:00:00 - N rows: 55061\n",
      "ROC: 0.8675442882217759 - Precision: 0.07885304659498207 - % Positivos: 0.12928637627432807 - % f1score: 0.14125200642054575\n",
      "\n",
      "PIT:  2020-01-01 00:00:00\n",
      "[TRAIN] Start date: 2019-01-01 00:00:00 - End date: 2019-12-31 00:00:00 - N rows: 55486\n",
      "ROC: 0.9084875420875421 - Precision: 0.10648148148148148 - % Positivos: 0.04298507462686567 - % f1score: 0.15807560137457044\n",
      "\n",
      "PIT:  2020-02-01 00:00:00\n",
      "[TRAIN] Start date: 2019-02-01 00:00:00 - End date: 2020-01-31 00:00:00 - N rows: 55712\n",
      "ROC: 0.8941347270615564 - Precision: 0.13580246913580246 - % Positivos: 0.03891424453519097 - % f1score: 0.19555555555555557\n",
      "\n",
      "PIT:  2020-03-01 00:00:00\n",
      "[TRAIN] Start date: 2019-03-01 00:00:00 - End date: 2020-02-29 00:00:00 - N rows: 55811\n",
      "ROC: 0.8801002740955336 - Precision: 0.0942622950819672 - % Positivos: 0.06336016619059985 - % f1score: 0.15436241610738252\n",
      "\n",
      "PIT:  2020-04-01 00:00:00\n",
      "[TRAIN] Start date: 2019-04-01 00:00:00 - End date: 2020-03-31 00:00:00 - N rows: 55233\n",
      "ROC: 0.9371266720883928 - Precision: 0.04390243902439024 - % Positivos: 0.07438316400580551 - % f1score: 0.08256880733944953\n",
      "\n",
      "PIT:  2020-05-01 00:00:00\n",
      "[TRAIN] Start date: 2019-05-01 00:00:00 - End date: 2020-04-30 00:00:00 - N rows: 53110\n",
      "ROC: 0.883245955038815 - Precision: 0.0 - % Positivos: 0.000774593338497289 - % f1score: 0.0\n",
      "\n",
      "PIT:  2020-06-01 00:00:00\n",
      "[TRAIN] Start date: 2019-06-01 00:00:00 - End date: 2020-05-31 00:00:00 - N rows: 50936\n",
      "ROC: 0.8067836908134358 - Precision: 0.0 - % Positivos: 0.010518934081346423 - % f1score: 0.0\n",
      "\n",
      "PIT:  2020-07-01 00:00:00\n",
      "[TRAIN] Start date: 2019-07-01 00:00:00 - End date: 2020-06-30 00:00:00 - N rows: 49188\n",
      "ROC: 0.792759452936444 - Precision: 0.0 - % Positivos: 0.0018721583311045735 - % f1score: 0.0\n",
      "\n",
      "PIT:  2020-08-01 00:00:00\n",
      "[TRAIN] Start date: 2019-08-01 00:00:00 - End date: 2020-07-31 00:00:00 - N rows: 47767\n",
      "ROC: 0.7748163881567163 - Precision: 0.0 - % Positivos: 0.0043846828412744815 - % f1score: 0.0\n",
      "\n",
      "PIT:  2020-09-01 00:00:00\n",
      "[TRAIN] Start date: 2019-09-01 00:00:00 - End date: 2020-08-31 00:00:00 - N rows: 46347\n",
      "ROC: 0.7298347136688611 - Precision: 0.0 - % Positivos: 0.00357355568790947 - % f1score: 0.0\n",
      "\n",
      "PIT:  2020-10-01 00:00:00\n"
     ]
    },
    {
     "name": "stdout",
     "output_type": "stream",
     "text": [
      "[TRAIN] Start date: 2019-10-01 00:00:00 - End date: 2020-09-30 00:00:00 - N rows: 45269\n",
      "ROC: 0.6875759700794764 - Precision: 0.0 - % Positivos: 0.0033435497353023124 - % f1score: 0.0\n",
      "\n",
      "PIT:  2020-11-01 00:00:00\n",
      "[TRAIN] Start date: 2019-11-01 00:00:00 - End date: 2020-10-31 00:00:00 - N rows: 44044\n",
      "ROC: 0.5946958684627063 - Precision: 0.125 - % Positivos: 0.002176278563656148 - % f1score: 0.047619047619047616\n",
      "\n",
      "PIT:  2020-12-01 00:00:00\n",
      "[TRAIN] Start date: 2019-12-01 00:00:00 - End date: 2020-11-30 00:00:00 - N rows: 43328\n",
      "ROC: 0.8278996817468898 - Precision: 0.045454545454545456 - % Positivos: 0.0056453682319733125 - % f1score: 0.03571428571428571\n",
      "\n"
     ]
    }
   ],
   "source": [
    "list_df_pit_fi = []\n",
    "\n",
    "for tp in df_type['index']:\n",
    "    \n",
    "    print('-'*50)\n",
    "    print('TP: ', tp)\n",
    "\n",
    "    for _, pit, start_pred_data, end_pred_data, start_train_data, end_train_data in df_aux_dt_data.itertuples():\n",
    "\n",
    "        print('PIT: ', pit)\n",
    "\n",
    "        df_pit_train_data = df[(df['DATE_CITA'] >= start_train_data) & (df['DATE_CITA'] <= end_train_data) & (df['ESPECIALIDAD'] == tp)]\n",
    "        df_pit_predict_data = df[(df['DATE_CITA'] >= start_pred_data) & (df['DATE_CITA'] <= end_pred_data) & (df['ESPECIALIDAD'] == tp)]\n",
    "\n",
    "        print(f'[TRAIN] Start date: {start_train_data} - End date: {end_train_data} - N rows: {len(df_pit_train_data)}')\n",
    "\n",
    "        # https://medium.com/gett-engineering/handling-rare-categorical-values-in-pandas-d1e3f17475f0\n",
    "        for cat in ['NACIONALIDAD', 'TIPO_PROFESIONAL', 'PRESTACION', 'ESPECIALIDAD']:\n",
    "            df_pit_train_data[cat] = df_pit_train_data[cat].str.replace(' ', '_')\n",
    "            df_pit_train_data[cat] = df_pit_train_data[cat].\\\n",
    "                                        mask(df_pit_train_data[cat].\\\n",
    "                                        map(df_pit_train_data[cat].value_counts(normalize=True)) < 0.01, 'Other')\n",
    "\n",
    "            df_pit_predict_data[cat] = df_pit_predict_data[cat].str.replace(' ', '_')\n",
    "            df_pit_predict_data[cat] = df_pit_predict_data[cat].\\\n",
    "                                        mask(df_pit_predict_data[cat].\\\n",
    "                                        map(df_pit_predict_data[cat].value_counts(normalize=True)) < 0.01, 'Other')\n",
    "\n",
    "\n",
    "        # One hot encoder\n",
    "        for cat in ['SEXO', 'NACIONALIDAD', 'TIPO_PROFESIONAL', 'PRESTACION', 'ESPECIALIDAD']:\n",
    "            df_dummies = pd.get_dummies(df_pit_train_data[cat].str.upper(), prefix=cat[:3] + '_')\n",
    "            df_pit_train_data = pd.concat([df_pit_train_data, df_dummies], axis=1)\n",
    "\n",
    "            df_dummies = pd.get_dummies(df_pit_predict_data[cat].str.upper(), prefix=cat[:3] + '_')\n",
    "            df_pit_predict_data = pd.concat([df_pit_predict_data, df_dummies], axis=1)\n",
    "\n",
    "\n",
    "        # Agregamos las columnas como 0 para que el predict y el train tengan las mismas columnas\n",
    "        for falta in set(df_pit_train_data.columns) - set(df_pit_predict_data.columns):\n",
    "            df_pit_predict_data[falta] = 0\n",
    "\n",
    "        for falta in set(df_pit_predict_data.columns) - set(df_pit_train_data.columns):\n",
    "            df_pit_train_data[falta] = 0\n",
    "\n",
    "        # Utilizando el peso de la clase postivia\n",
    "        weight = df_pit_train_data['TARGET'].value_counts().max()/df_pit_train_data['TARGET'].value_counts().min()\n",
    "\n",
    "        classifier = xgb.XGBClassifier(eval_metric='logloss', \n",
    "                                       verbosity=0,\n",
    "                                       scale_pos_weight=weight,\n",
    "                                       seed=42)\n",
    "\n",
    "        X_train = df_pit_train_data.drop(['TARGET', 'SEXO', 'NACIONALIDAD', 'TIPO_PROFESIONAL',\n",
    "                                          'PRESTACION', 'ESPECIALIDAD', 'DATE_CITA'], axis='columns')\n",
    "        y_train = df_pit_train_data['TARGET']\n",
    "\n",
    "        X_test = df_pit_predict_data.drop(['TARGET', 'SEXO', 'NACIONALIDAD', 'TIPO_PROFESIONAL',\n",
    "                                           'PRESTACION', 'ESPECIALIDAD', 'DATE_CITA'], axis='columns')\n",
    "        y_test = df_pit_predict_data['TARGET']\n",
    "\n",
    "        classifier.fit(X_train, y_train)\n",
    "\n",
    "        y_pred = classifier.predict_proba(X_test)\n",
    "        print(basic_metrics(y_pred, y_test))\n",
    "\n",
    "        # Creo un dataframe con las features importance\n",
    "        df_fi = pd.DataFrame([classifier._Booster.get_score(importance_type='gain')])\n",
    "        df_fi['PIT'] = pit\n",
    "        df_fi['TP'] = tp\n",
    "\n",
    "        list_df_pit_fi.append(df_fi)\n",
    "\n",
    "        print()"
   ]
  },
  {
   "cell_type": "code",
   "execution_count": 197,
   "metadata": {
    "ExecuteTime": {
     "end_time": "2021-10-31T19:33:15.104720Z",
     "start_time": "2021-10-31T19:33:14.880274Z"
    }
   },
   "outputs": [],
   "source": [
    "df_fi = pd.concat(list_df_pit_fi)"
   ]
  },
  {
   "cell_type": "code",
   "execution_count": 198,
   "metadata": {
    "ExecuteTime": {
     "end_time": "2021-10-31T19:33:15.132648Z",
     "start_time": "2021-10-31T19:33:15.106943Z"
    }
   },
   "outputs": [
    {
     "data": {
      "text/html": [
       "<div>\n",
       "<style scoped>\n",
       "    .dataframe tbody tr th:only-of-type {\n",
       "        vertical-align: middle;\n",
       "    }\n",
       "\n",
       "    .dataframe tbody tr th {\n",
       "        vertical-align: top;\n",
       "    }\n",
       "\n",
       "    .dataframe thead th {\n",
       "        text-align: right;\n",
       "    }\n",
       "</style>\n",
       "<table border=\"1\" class=\"dataframe\">\n",
       "  <thead>\n",
       "    <tr style=\"text-align: right;\">\n",
       "      <th></th>\n",
       "      <th>NSP_365D</th>\n",
       "      <th>PREVIOUS_APP_90D</th>\n",
       "      <th>EDAD</th>\n",
       "      <th>MINUTE_DAY</th>\n",
       "      <th>PRE__CONSULTA_INTEGRAL_DE_ESPECIALIDADES_EN_MEDIC_INTERNA_Y_SUBESP,_OFTALMO,_NEUROLO,_ONCOLOGIA_EN_CDT</th>\n",
       "      <th>NSP_30D</th>\n",
       "      <th>TIP__MÉDICO</th>\n",
       "      <th>PREVIOUS_APP_365D</th>\n",
       "      <th>TIP__KINESIÓLOGO_(A)</th>\n",
       "      <th>TIP__ENFERMERA_(O)</th>\n",
       "      <th>...</th>\n",
       "      <th>TIP__PSIQUIATRÍA_ADULTOS</th>\n",
       "      <th>PRE__CONSULTA_DE_SALUD_MENTAL_POR_OTROS_PROFESIONALES</th>\n",
       "      <th>PRE__CONSULTA_SM_POR__ENFERMERA</th>\n",
       "      <th>TIP__ASISTENTE_SOCIAL</th>\n",
       "      <th>PRE__INTERCONSULTA_DE_ENLACE_PSIQUIATRIA_</th>\n",
       "      <th>PRE__CONSULTA_DE_SALUD_MENTAL_POR_OTROS_PROFESIONALES_(VÍA_LLAMADA_TELEFÓNICA_POR_CONTINGENCIA_COVID-19)</th>\n",
       "      <th>APP_VIDEOCALL</th>\n",
       "      <th>PRE__CONSULTA_O_CONTROL_POR_PSICOLOGO_CLINICO_(VÍA_LLAMADA_TELEFÓNICA_POR_CONTINGENCIA_COVID-19)</th>\n",
       "      <th>PRE__CONSULTA_SM_POR_TRABAJADOR_SOCIAL_(VÍA_LLAMADA_TELEFÓNICA_POR_CONTINGENCIA_COVID-19)</th>\n",
       "      <th>PRE__CONSULTA_SM_POR__TERAPEUTA_OCUPACIONAL_(VÍA_LLAMADA_TELEFÓNICA_POR_CONTINGENCIA_COVID-19)</th>\n",
       "    </tr>\n",
       "  </thead>\n",
       "  <tbody>\n",
       "    <tr>\n",
       "      <th>0</th>\n",
       "      <td>19.422307</td>\n",
       "      <td>12.417398</td>\n",
       "      <td>16.014704</td>\n",
       "      <td>15.371288</td>\n",
       "      <td>NaN</td>\n",
       "      <td>23.053983</td>\n",
       "      <td>14.32934</td>\n",
       "      <td>17.478815</td>\n",
       "      <td>14.141326</td>\n",
       "      <td>28.478526</td>\n",
       "      <td>...</td>\n",
       "      <td>11.800848</td>\n",
       "      <td>20.126839</td>\n",
       "      <td>11.309922</td>\n",
       "      <td>20.089227</td>\n",
       "      <td>36.118449</td>\n",
       "      <td>9.037653</td>\n",
       "      <td>5.58945</td>\n",
       "      <td>10.991445</td>\n",
       "      <td>NaN</td>\n",
       "      <td>NaN</td>\n",
       "    </tr>\n",
       "  </tbody>\n",
       "</table>\n",
       "<p>1 rows × 57 columns</p>\n",
       "</div>"
      ],
      "text/plain": [
       "    NSP_365D  PREVIOUS_APP_90D       EDAD  MINUTE_DAY  \\\n",
       "0  19.422307         12.417398  16.014704   15.371288   \n",
       "\n",
       "   PRE__CONSULTA_INTEGRAL_DE_ESPECIALIDADES_EN_MEDIC_INTERNA_Y_SUBESP,_OFTALMO,_NEUROLO,_ONCOLOGIA_EN_CDT  \\\n",
       "0                                                NaN                                                        \n",
       "\n",
       "     NSP_30D  TIP__MÉDICO  PREVIOUS_APP_365D  TIP__KINESIÓLOGO_(A)  \\\n",
       "0  23.053983     14.32934          17.478815             14.141326   \n",
       "\n",
       "   TIP__ENFERMERA_(O)  ...  TIP__PSIQUIATRÍA_ADULTOS  \\\n",
       "0           28.478526  ...                 11.800848   \n",
       "\n",
       "   PRE__CONSULTA_DE_SALUD_MENTAL_POR_OTROS_PROFESIONALES  \\\n",
       "0                                          20.126839       \n",
       "\n",
       "   PRE__CONSULTA_SM_POR__ENFERMERA  TIP__ASISTENTE_SOCIAL  \\\n",
       "0                        11.309922              20.089227   \n",
       "\n",
       "   PRE__INTERCONSULTA_DE_ENLACE_PSIQUIATRIA_  \\\n",
       "0                                  36.118449   \n",
       "\n",
       "   PRE__CONSULTA_DE_SALUD_MENTAL_POR_OTROS_PROFESIONALES_(VÍA_LLAMADA_TELEFÓNICA_POR_CONTINGENCIA_COVID-19)  \\\n",
       "0                                           9.037653                                                          \n",
       "\n",
       "   APP_VIDEOCALL  \\\n",
       "0        5.58945   \n",
       "\n",
       "   PRE__CONSULTA_O_CONTROL_POR_PSICOLOGO_CLINICO_(VÍA_LLAMADA_TELEFÓNICA_POR_CONTINGENCIA_COVID-19)  \\\n",
       "0                                          10.991445                                                  \n",
       "\n",
       "   PRE__CONSULTA_SM_POR_TRABAJADOR_SOCIAL_(VÍA_LLAMADA_TELEFÓNICA_POR_CONTINGENCIA_COVID-19)  \\\n",
       "0                                                NaN                                           \n",
       "\n",
       "   PRE__CONSULTA_SM_POR__TERAPEUTA_OCUPACIONAL_(VÍA_LLAMADA_TELEFÓNICA_POR_CONTINGENCIA_COVID-19)  \n",
       "0                                                NaN                                               \n",
       "\n",
       "[1 rows x 57 columns]"
      ]
     },
     "execution_count": 198,
     "metadata": {},
     "output_type": "execute_result"
    }
   ],
   "source": [
    "df_fi.sample()"
   ]
  },
  {
   "cell_type": "code",
   "execution_count": 201,
   "metadata": {
    "ExecuteTime": {
     "end_time": "2021-10-31T19:33:16.774049Z",
     "start_time": "2021-10-31T19:33:16.758153Z"
    }
   },
   "outputs": [],
   "source": [
    "df_fi.to_csv('tipo_especialidad.csv', index=False)"
   ]
  },
  {
   "cell_type": "markdown",
   "metadata": {},
   "source": [
    "## Tipo de profesional"
   ]
  },
  {
   "cell_type": "code",
   "execution_count": 202,
   "metadata": {
    "ExecuteTime": {
     "end_time": "2021-10-31T19:33:18.033004Z",
     "start_time": "2021-10-31T19:33:16.776244Z"
    }
   },
   "outputs": [
    {
     "data": {
      "text/html": [
       "<div>\n",
       "<style scoped>\n",
       "    .dataframe tbody tr th:only-of-type {\n",
       "        vertical-align: middle;\n",
       "    }\n",
       "\n",
       "    .dataframe tbody tr th {\n",
       "        vertical-align: top;\n",
       "    }\n",
       "\n",
       "    .dataframe thead th {\n",
       "        text-align: right;\n",
       "    }\n",
       "</style>\n",
       "<table border=\"1\" class=\"dataframe\">\n",
       "  <thead>\n",
       "    <tr style=\"text-align: right;\">\n",
       "      <th></th>\n",
       "      <th>index</th>\n",
       "      <th>TIPO_PROFESIONAL</th>\n",
       "    </tr>\n",
       "  </thead>\n",
       "  <tbody>\n",
       "    <tr>\n",
       "      <th>0</th>\n",
       "      <td>Médico</td>\n",
       "      <td>0.557169</td>\n",
       "    </tr>\n",
       "    <tr>\n",
       "      <th>1</th>\n",
       "      <td>Enfermera (o)</td>\n",
       "      <td>0.099498</td>\n",
       "    </tr>\n",
       "    <tr>\n",
       "      <th>2</th>\n",
       "      <td>Kinesiólogo (a)</td>\n",
       "      <td>0.057399</td>\n",
       "    </tr>\n",
       "  </tbody>\n",
       "</table>\n",
       "</div>"
      ],
      "text/plain": [
       "             index  TIPO_PROFESIONAL\n",
       "0           Médico          0.557169\n",
       "1    Enfermera (o)          0.099498\n",
       "2  Kinesiólogo (a)          0.057399"
      ]
     },
     "execution_count": 202,
     "metadata": {},
     "output_type": "execute_result"
    }
   ],
   "source": [
    "df_type = pd.DataFrame(df.loc[df['TIPO_PROFESIONAL'] != -1]['TIPO_PROFESIONAL'].value_counts(normalize=True)).reset_index()\n",
    "df_type = df_type.loc[df_type['TIPO_PROFESIONAL'] >= 0.05]\n",
    "df_type"
   ]
  },
  {
   "cell_type": "code",
   "execution_count": 203,
   "metadata": {
    "ExecuteTime": {
     "end_time": "2021-10-31T20:04:52.060083Z",
     "start_time": "2021-10-31T19:33:18.036084Z"
    },
    "scrolled": false
   },
   "outputs": [
    {
     "name": "stdout",
     "output_type": "stream",
     "text": [
      "--------------------------------------------------\n",
      "TP:  Médico\n",
      "PIT:  2019-01-01 00:00:00\n",
      "[TRAIN] Start date: 2018-01-01 00:00:00 - End date: 2018-12-31 00:00:00 - N rows: 653011\n",
      "ROC: 0.6795057749366786 - Precision: 0.19741885400999468 - % Positivos: 0.34023903067120076 - % f1score: 0.2921138590760616\n",
      "\n",
      "PIT:  2019-02-01 00:00:00\n",
      "[TRAIN] Start date: 2018-02-01 00:00:00 - End date: 2019-01-31 00:00:00 - N rows: 662775\n",
      "ROC: 0.6504589743468135 - Precision: 0.21658245291685807 - % Positivos: 0.29064773814556866 - % f1score: 0.29963459196102316\n",
      "\n",
      "PIT:  2019-03-01 00:00:00\n",
      "[TRAIN] Start date: 2018-03-01 00:00:00 - End date: 2019-02-28 00:00:00 - N rows: 665146\n",
      "ROC: 0.694052217686576 - Precision: 0.21047040075547424 - % Positivos: 0.29165303909248963 - % f1score: 0.3001809840481502\n",
      "\n",
      "PIT:  2019-04-01 00:00:00\n",
      "[TRAIN] Start date: 2018-04-01 00:00:00 - End date: 2019-03-31 00:00:00 - N rows: 667508\n",
      "ROC: 0.6353340246804979 - Precision: 0.1668195578387304 - % Positivos: 0.3652415734101722 - % f1score: 0.2540957837007021\n",
      "\n",
      "PIT:  2019-05-01 00:00:00\n",
      "[TRAIN] Start date: 2018-05-01 00:00:00 - End date: 2019-04-30 00:00:00 - N rows: 670462\n",
      "ROC: 0.6196557213456081 - Precision: 0.18555817441611314 - % Positivos: 0.32162362386506554 - % f1score: 0.2683607065385807\n",
      "\n",
      "PIT:  2019-06-01 00:00:00\n",
      "[TRAIN] Start date: 2018-06-01 00:00:00 - End date: 2019-05-31 00:00:00 - N rows: 670020\n",
      "ROC: 0.6858864265674188 - Precision: 0.21907134527721828 - % Positivos: 0.32698407196214707 - % f1score: 0.31348604368932037\n",
      "\n",
      "PIT:  2019-07-01 00:00:00\n",
      "[TRAIN] Start date: 2018-07-01 00:00:00 - End date: 2019-06-30 00:00:00 - N rows: 670443\n",
      "ROC: 0.7219349046327316 - Precision: 0.20860815153052595 - % Positivos: 0.3797565909893709 - % f1score: 0.3171970427515268\n",
      "\n",
      "PIT:  2019-08-01 00:00:00\n",
      "[TRAIN] Start date: 2018-08-01 00:00:00 - End date: 2019-07-31 00:00:00 - N rows: 678680\n",
      "ROC: 0.6226540891668269 - Precision: 0.14876377056913728 - % Positivos: 0.5764813155874072 - % f1score: 0.24684025139857727\n",
      "\n",
      "PIT:  2019-09-01 00:00:00\n",
      "[TRAIN] Start date: 2018-09-01 00:00:00 - End date: 2019-08-31 00:00:00 - N rows: 679867\n",
      "ROC: 0.5914884075137437 - Precision: 0.135578165374677 - % Positivos: 0.7119969336910694 - % f1score: 0.23160217946065245\n",
      "\n",
      "PIT:  2019-10-01 00:00:00\n",
      "[TRAIN] Start date: 2018-10-01 00:00:00 - End date: 2019-09-30 00:00:00 - N rows: 685844\n",
      "ROC: 0.6080334659535642 - Precision: 0.18433719266293744 - % Positivos: 0.6058384956100944 - % f1score: 0.2940749195807824\n",
      "\n",
      "PIT:  2019-11-01 00:00:00\n",
      "[TRAIN] Start date: 2018-11-01 00:00:00 - End date: 2019-10-31 00:00:00 - N rows: 685262\n",
      "ROC: 0.6295235495921083 - Precision: 0.19765940496140216 - % Positivos: 0.6050597563205399 - % f1score: 0.31363745341208776\n",
      "\n",
      "PIT:  2019-12-01 00:00:00\n",
      "[TRAIN] Start date: 2018-12-01 00:00:00 - End date: 2019-11-30 00:00:00 - N rows: 689393\n",
      "ROC: 0.5702192315939301 - Precision: 0.14266915447314152 - % Positivos: 0.9026522001205546 - % f1score: 0.24793924396279549\n",
      "\n",
      "PIT:  2020-01-01 00:00:00\n",
      "[TRAIN] Start date: 2019-01-01 00:00:00 - End date: 2019-12-31 00:00:00 - N rows: 696026\n",
      "ROC: 0.6475970739083577 - Precision: 0.16101432202864405 - % Positivos: 0.5008461813156955 - % f1score: 0.2604096162041563\n",
      "\n",
      "PIT:  2020-02-01 00:00:00\n",
      "[TRAIN] Start date: 2019-02-01 00:00:00 - End date: 2020-01-31 00:00:00 - N rows: 699855\n",
      "ROC: 0.5984646470293317 - Precision: 0.15639571518588533 - % Positivos: 0.4609709339478322 - % f1score: 0.24691603660962994\n",
      "\n",
      "PIT:  2020-03-01 00:00:00\n",
      "[TRAIN] Start date: 2019-03-01 00:00:00 - End date: 2020-02-29 00:00:00 - N rows: 706555\n",
      "ROC: 0.6458013546696799 - Precision: 0.16649672869402668 - % Positivos: 0.4094989561586639 - % f1score: 0.2581856512286712\n",
      "\n",
      "PIT:  2020-04-01 00:00:00\n",
      "[TRAIN] Start date: 2019-04-01 00:00:00 - End date: 2020-03-31 00:00:00 - N rows: 705942\n",
      "ROC: 0.6437811679744116 - Precision: 0.09154126766985864 - % Positivos: 0.33017163504968383 - % f1score: 0.15571068450649603\n",
      "\n",
      "PIT:  2020-05-01 00:00:00\n",
      "[TRAIN] Start date: 2019-05-01 00:00:00 - End date: 2020-04-30 00:00:00 - N rows: 672818\n",
      "ROC: 0.5772994401731324 - Precision: 0.1356531447711202 - % Positivos: 0.2440841168188218 - % f1score: 0.19939824945295404\n",
      "\n",
      "PIT:  2020-06-01 00:00:00\n",
      "[TRAIN] Start date: 2019-06-01 00:00:00 - End date: 2020-05-31 00:00:00 - N rows: 636792\n",
      "ROC: 0.6714353758043781 - Precision: 0.16488395560040364 - % Positivos: 0.21133668856094856 - % f1score: 0.23183881952326904\n",
      "\n",
      "PIT:  2020-07-01 00:00:00\n",
      "[TRAIN] Start date: 2019-07-01 00:00:00 - End date: 2020-06-30 00:00:00 - N rows: 602541\n",
      "ROC: 0.5882383439476819 - Precision: 0.12301587301587301 - % Positivos: 0.18690580540759222 - % f1score: 0.17532133676092546\n",
      "\n",
      "PIT:  2020-08-01 00:00:00\n",
      "[TRAIN] Start date: 2019-08-01 00:00:00 - End date: 2020-07-31 00:00:00 - N rows: 569921\n",
      "ROC: 0.5661426140854274 - Precision: 0.11452081316553726 - % Positivos: 0.2899404962389132 - % f1score: 0.17689719626168224\n",
      "\n",
      "PIT:  2020-09-01 00:00:00\n",
      "[TRAIN] Start date: 2019-09-01 00:00:00 - End date: 2020-08-31 00:00:00 - N rows: 543037\n",
      "ROC: 0.49562873841134786 - Precision: 0.11145572786393197 - % Positivos: 0.2365120681495504 - % f1score: 0.1595874221044338\n",
      "\n",
      "PIT:  2020-10-01 00:00:00\n",
      "[TRAIN] Start date: 2019-10-01 00:00:00 - End date: 2020-09-30 00:00:00 - N rows: 533117\n",
      "ROC: 0.49509135856898756 - Precision: 0.10656447850716427 - % Positivos: 0.3267568214977897 - % f1score: 0.16316326530612243\n",
      "\n",
      "PIT:  2020-11-01 00:00:00\n",
      "[TRAIN] Start date: 2019-11-01 00:00:00 - End date: 2020-10-31 00:00:00 - N rows: 515597\n",
      "ROC: 0.5853387010578633 - Precision: 0.14243845252051582 - % Positivos: 0.44113376429636997 - % f1score: 0.2274953190263575\n",
      "\n",
      "PIT:  2020-12-01 00:00:00\n",
      "[TRAIN] Start date: 2019-12-01 00:00:00 - End date: 2020-11-30 00:00:00 - N rows: 505711\n",
      "ROC: 0.6670898264704159 - Precision: 0.15601491245589508 - % Positivos: 0.6617909461394427 - % f1score: 0.26415307013836054\n",
      "\n",
      "--------------------------------------------------\n",
      "TP:  Enfermera (o)\n",
      "PIT:  2019-01-01 00:00:00\n",
      "[TRAIN] Start date: 2018-01-01 00:00:00 - End date: 2018-12-31 00:00:00 - N rows: 124872\n",
      "ROC: 0.5680791339810262 - Precision: 0.0667380442541042 - % Positivos: 0.2845825716026813 - % f1score: 0.11130952380952379\n",
      "\n",
      "PIT:  2019-02-01 00:00:00\n",
      "[TRAIN] Start date: 2018-02-01 00:00:00 - End date: 2019-01-31 00:00:00 - N rows: 124709\n",
      "ROC: 0.6037888259122497 - Precision: 0.08750963762528913 - % Positivos: 0.3178532042641833 - % f1score: 0.1460746460746461\n",
      "\n",
      "PIT:  2019-03-01 00:00:00\n",
      "[TRAIN] Start date: 2018-03-01 00:00:00 - End date: 2019-02-28 00:00:00 - N rows: 123608\n",
      "ROC: 0.5720535304571983 - Precision: 0.07519225291939619 - % Positivos: 0.38014291901255953 - % f1score: 0.13011335633316906\n",
      "\n",
      "PIT:  2019-04-01 00:00:00\n",
      "[TRAIN] Start date: 2018-04-01 00:00:00 - End date: 2019-03-31 00:00:00 - N rows: 120874\n",
      "ROC: 0.45108219144545725 - Precision: 0.049393414211438474 - % Positivos: 0.3645361693166263 - % f1score: 0.0855\n",
      "\n",
      "PIT:  2019-05-01 00:00:00\n",
      "[TRAIN] Start date: 2018-05-01 00:00:00 - End date: 2019-04-30 00:00:00 - N rows: 118875\n",
      "ROC: 0.4338329412706982 - Precision: 0.07675111773472429 - % Positivos: 0.1431924882629108 - % f1score: 0.10520939734422881\n",
      "\n",
      "PIT:  2019-06-01 00:00:00\n",
      "[TRAIN] Start date: 2018-06-01 00:00:00 - End date: 2019-05-31 00:00:00 - N rows: 116669\n",
      "ROC: 0.5018927740772607 - Precision: 0.08947700063011972 - % Positivos: 0.16198836378483208 - % f1score: 0.12483516483516482\n",
      "\n",
      "PIT:  2019-07-01 00:00:00\n",
      "[TRAIN] Start date: 2018-07-01 00:00:00 - End date: 2019-06-30 00:00:00 - N rows: 115521\n",
      "ROC: 0.5400527189902995 - Precision: 0.0966131907308378 - % Positivos: 0.26286196232780434 - % f1score: 0.1515236231478893\n",
      "\n",
      "PIT:  2019-08-01 00:00:00\n",
      "[TRAIN] Start date: 2018-08-01 00:00:00 - End date: 2019-07-31 00:00:00 - N rows: 115380\n",
      "ROC: 0.5356805983675915 - Precision: 0.09365708622398414 - % Positivos: 0.18204781235904374 - % f1score: 0.1369069177834118\n",
      "\n",
      "PIT:  2019-09-01 00:00:00\n",
      "[TRAIN] Start date: 2018-09-01 00:00:00 - End date: 2019-08-31 00:00:00 - N rows: 115254\n",
      "ROC: 0.5829305620134752 - Precision: 0.109963861641714 - % Positivos: 0.20359470254361992 - % f1score: 0.16160849772382396\n",
      "\n",
      "PIT:  2019-10-01 00:00:00\n",
      "[TRAIN] Start date: 2018-10-01 00:00:00 - End date: 2019-09-30 00:00:00 - N rows: 115848\n",
      "ROC: 0.643598382553304 - Precision: 0.09803921568627451 - % Positivos: 0.4280694905328909 - % f1score: 0.16965870980469522\n",
      "\n",
      "PIT:  2019-11-01 00:00:00\n"
     ]
    },
    {
     "name": "stdout",
     "output_type": "stream",
     "text": [
      "[TRAIN] Start date: 2018-11-01 00:00:00 - End date: 2019-10-31 00:00:00 - N rows: 115199\n",
      "ROC: 0.7038795185307695 - Precision: 0.11372798642053894 - % Positivos: 0.47257595507871253 - % f1score: 0.19658903355950852\n",
      "\n",
      "PIT:  2019-12-01 00:00:00\n",
      "[TRAIN] Start date: 2018-12-01 00:00:00 - End date: 2019-11-30 00:00:00 - N rows: 116087\n",
      "ROC: 0.5729163797055878 - Precision: 0.08903757076685538 - % Positivos: 0.18116550116550117 - % f1score: 0.12518089725036177\n",
      "\n",
      "PIT:  2020-01-01 00:00:00\n",
      "[TRAIN] Start date: 2019-01-01 00:00:00 - End date: 2019-12-31 00:00:00 - N rows: 118123\n",
      "ROC: 0.7321679273556446 - Precision: 0.13620414673046252 - % Positivos: 0.25267993874425726 - % f1score: 0.21713704551233154\n",
      "\n",
      "PIT:  2020-02-01 00:00:00\n",
      "[TRAIN] Start date: 2019-02-01 00:00:00 - End date: 2020-01-31 00:00:00 - N rows: 120684\n",
      "ROC: 0.5465543990390985 - Precision: 0.05341614906832298 - % Positivos: 0.1454775458570525 - % f1score: 0.07682000893255918\n",
      "\n",
      "PIT:  2020-03-01 00:00:00\n",
      "[TRAIN] Start date: 2019-03-01 00:00:00 - End date: 2020-02-29 00:00:00 - N rows: 123590\n",
      "ROC: 0.7234158326818918 - Precision: 0.1280141843971631 - % Positivos: 0.29332223840232996 - % f1score: 0.21142020497803804\n",
      "\n",
      "PIT:  2020-04-01 00:00:00\n",
      "[TRAIN] Start date: 2019-04-01 00:00:00 - End date: 2020-03-31 00:00:00 - N rows: 123968\n",
      "ROC: 0.5918314842026039 - Precision: 0.050221565731166914 - % Positivos: 0.2887609298357859 - % f1score: 0.08906352324819908\n",
      "\n",
      "PIT:  2020-05-01 00:00:00\n",
      "[TRAIN] Start date: 2019-05-01 00:00:00 - End date: 2020-04-30 00:00:00 - N rows: 119160\n",
      "ROC: 0.6075889820359281 - Precision: 0.07453416149068323 - % Positivos: 0.2183050847457627 - % f1score: 0.11842105263157897\n",
      "\n",
      "PIT:  2020-06-01 00:00:00\n",
      "[TRAIN] Start date: 2019-06-01 00:00:00 - End date: 2020-05-31 00:00:00 - N rows: 114213\n",
      "ROC: 0.47125569729839833 - Precision: 0.05876494023904383 - % Positivos: 0.23557015485687471 - % f1score: 0.09531502423263329\n",
      "\n",
      "PIT:  2020-07-01 00:00:00\n",
      "[TRAIN] Start date: 2019-07-01 00:00:00 - End date: 2020-06-30 00:00:00 - N rows: 108678\n",
      "ROC: 0.5181797609873644 - Precision: 0.04891304347826087 - % Positivos: 0.22022740873728305 - % f1score: 0.08256880733944955\n",
      "\n",
      "PIT:  2020-08-01 00:00:00\n",
      "[TRAIN] Start date: 2019-08-01 00:00:00 - End date: 2020-07-31 00:00:00 - N rows: 103020\n",
      "ROC: 0.5221833231597881 - Precision: 0.060828877005347594 - % Positivos: 0.27042660882140274 - % f1score: 0.10173281162660704\n",
      "\n",
      "PIT:  2020-09-01 00:00:00\n",
      "[TRAIN] Start date: 2019-09-01 00:00:00 - End date: 2020-08-31 00:00:00 - N rows: 97467\n",
      "ROC: 0.5900986417864055 - Precision: 0.07324058919803601 - % Positivos: 0.37370030581039754 - % f1score: 0.12686038270729977\n",
      "\n",
      "PIT:  2020-10-01 00:00:00\n",
      "[TRAIN] Start date: 2019-10-01 00:00:00 - End date: 2020-09-30 00:00:00 - N rows: 94493\n",
      "ROC: 0.5704165988522258 - Precision: 0.06204173716864072 - % Positivos: 0.2393681652490887 - % f1score: 0.10516252390057362\n",
      "\n",
      "PIT:  2020-11-01 00:00:00\n",
      "[TRAIN] Start date: 2019-11-01 00:00:00 - End date: 2020-10-31 00:00:00 - N rows: 91654\n",
      "ROC: 0.7289100287351193 - Precision: 0.1038961038961039 - % Positivos: 0.2987390882638215 - % f1score: 0.1769177608845888\n",
      "\n",
      "PIT:  2020-12-01 00:00:00\n",
      "[TRAIN] Start date: 2019-12-01 00:00:00 - End date: 2020-11-30 00:00:00 - N rows: 89929\n",
      "ROC: 0.6641128617937182 - Precision: 0.09354330708661417 - % Positivos: 0.4502268859897901 - % f1score: 0.1639525255313276\n",
      "\n",
      "--------------------------------------------------\n",
      "TP:  Kinesiólogo (a)\n",
      "PIT:  2019-01-01 00:00:00\n",
      "[TRAIN] Start date: 2018-01-01 00:00:00 - End date: 2018-12-31 00:00:00 - N rows: 77914\n",
      "ROC: 0.7228027176739883 - Precision: 0.2249789739276703 - % Positivos: 0.35058233819843726 - % f1score: 0.33354114713216954\n",
      "\n",
      "PIT:  2019-02-01 00:00:00\n",
      "[TRAIN] Start date: 2018-02-01 00:00:00 - End date: 2019-01-31 00:00:00 - N rows: 78643\n",
      "ROC: 0.7315163948380946 - Precision: 0.254217568353694 - % Positivos: 0.34497290788681517 - % f1score: 0.3638634471273939\n",
      "\n",
      "PIT:  2019-03-01 00:00:00\n",
      "[TRAIN] Start date: 2018-03-01 00:00:00 - End date: 2019-02-28 00:00:00 - N rows: 78349\n",
      "ROC: 0.7316554883972765 - Precision: 0.23730517848164906 - % Positivos: 0.30813323005422155 - % f1score: 0.3406712378202814\n",
      "\n",
      "PIT:  2019-04-01 00:00:00\n",
      "[TRAIN] Start date: 2018-04-01 00:00:00 - End date: 2019-03-31 00:00:00 - N rows: 78522\n",
      "ROC: 0.7449946364079806 - Precision: 0.2501095050372317 - % Positivos: 0.31278257295519934 - % f1score: 0.35698655829946857\n",
      "\n",
      "PIT:  2019-05-01 00:00:00\n",
      "[TRAIN] Start date: 2018-05-01 00:00:00 - End date: 2019-04-30 00:00:00 - N rows: 78824\n",
      "ROC: 0.7255665722379605 - Precision: 0.2662309368191721 - % Positivos: 0.3115666576160738 - % f1score: 0.36951920169337765\n",
      "\n",
      "PIT:  2019-06-01 00:00:00\n",
      "[TRAIN] Start date: 2018-06-01 00:00:00 - End date: 2019-05-31 00:00:00 - N rows: 79324\n",
      "ROC: 0.7304251415467305 - Precision: 0.2749003984063745 - % Positivos: 0.30962171052631576 - % f1score: 0.3759079903147699\n",
      "\n",
      "PIT:  2019-07-01 00:00:00\n",
      "[TRAIN] Start date: 2018-07-01 00:00:00 - End date: 2019-06-30 00:00:00 - N rows: 79856\n",
      "ROC: 0.7526701302293033 - Precision: 0.2844 - % Positivos: 0.32964135021097046 - % f1score: 0.39445214979195564\n",
      "\n",
      "PIT:  2019-08-01 00:00:00\n",
      "[TRAIN] Start date: 2018-08-01 00:00:00 - End date: 2019-07-31 00:00:00 - N rows: 80821\n",
      "ROC: 0.7554719968923972 - Precision: 0.26480836236933797 - % Positivos: 0.3318771681870744 - % f1score: 0.3766519823788546\n",
      "\n",
      "PIT:  2019-09-01 00:00:00\n",
      "[TRAIN] Start date: 2018-09-01 00:00:00 - End date: 2019-08-31 00:00:00 - N rows: 81089\n",
      "ROC: 0.7368158798270117 - Precision: 0.25482787573467675 - % Positivos: 0.35873493975903614 - % f1score: 0.3685488767455981\n",
      "\n",
      "PIT:  2019-10-01 00:00:00\n",
      "[TRAIN] Start date: 2018-10-01 00:00:00 - End date: 2019-09-30 00:00:00 - N rows: 82206\n",
      "ROC: 0.6881743078101336 - Precision: 0.3062142273098937 - % Positivos: 0.3390629331854727 - % f1score: 0.3948339483394834\n",
      "\n",
      "PIT:  2019-11-01 00:00:00\n",
      "[TRAIN] Start date: 2018-11-01 00:00:00 - End date: 2019-10-31 00:00:00 - N rows: 81728\n",
      "ROC: 0.718130239073383 - Precision: 0.32860262008733626 - % Positivos: 0.27140740740740743 - % f1score: 0.4018691588785047\n",
      "\n",
      "PIT:  2019-12-01 00:00:00\n",
      "[TRAIN] Start date: 2018-12-01 00:00:00 - End date: 2019-11-30 00:00:00 - N rows: 81706\n",
      "ROC: 0.6803926190663273 - Precision: 0.22497229405245658 - % Positivos: 0.42112632233976355 - % f1score: 0.3363711681855841\n",
      "\n",
      "PIT:  2020-01-01 00:00:00\n",
      "[TRAIN] Start date: 2019-01-01 00:00:00 - End date: 2019-12-31 00:00:00 - N rows: 82581\n",
      "ROC: 0.6901560017015163 - Precision: 0.24384659416141957 - % Positivos: 0.24804770694306402 - % f1score: 0.3238312428734321\n",
      "\n",
      "PIT:  2020-02-01 00:00:00\n",
      "[TRAIN] Start date: 2019-02-01 00:00:00 - End date: 2020-01-31 00:00:00 - N rows: 82841\n",
      "ROC: 0.683620113040613 - Precision: 0.2532467532467532 - % Positivos: 0.21828490432317504 - % f1score: 0.31547017189079873\n",
      "\n",
      "PIT:  2020-03-01 00:00:00\n",
      "[TRAIN] Start date: 2019-03-01 00:00:00 - End date: 2020-02-29 00:00:00 - N rows: 83502\n",
      "ROC: 0.669821469722754 - Precision: 0.2267777065983344 - % Positivos: 0.4207547169811321 - % f1score: 0.33130556855404775\n",
      "\n",
      "PIT:  2020-04-01 00:00:00\n",
      "[TRAIN] Start date: 2019-04-01 00:00:00 - End date: 2020-03-31 00:00:00 - N rows: 80757\n",
      "ROC: 0.6147196261682243 - Precision: 0.11702127659574468 - % Positivos: 0.4017094017094017 - % f1score: 0.1929824561403509\n",
      "\n",
      "PIT:  2020-05-01 00:00:00\n",
      "[TRAIN] Start date: 2019-05-01 00:00:00 - End date: 2020-04-30 00:00:00 - N rows: 73692\n",
      "ROC: 0.5111940298507462 - Precision: 0.05128205128205128 - % Positivos: 0.5512367491166078 - % f1score: 0.0935672514619883\n",
      "\n",
      "PIT:  2020-06-01 00:00:00\n",
      "[TRAIN] Start date: 2019-06-01 00:00:00 - End date: 2020-05-31 00:00:00 - N rows: 66609\n",
      "ROC: 0.5899425287356321 - Precision: 0.19642857142857142 - % Positivos: 0.28865979381443296 - % f1score: 0.2894736842105263\n",
      "\n",
      "PIT:  2020-07-01 00:00:00\n",
      "[TRAIN] Start date: 2019-07-01 00:00:00 - End date: 2020-06-30 00:00:00 - N rows: 59507\n",
      "ROC: 0.6362020202020202 - Precision: 0.13609467455621302 - % Positivos: 0.28403361344537814 - % f1score: 0.21495327102803738\n",
      "\n",
      "PIT:  2020-08-01 00:00:00\n",
      "[TRAIN] Start date: 2019-08-01 00:00:00 - End date: 2020-07-31 00:00:00 - N rows: 52518\n",
      "ROC: 0.6340905536440413 - Precision: 0.17813765182186234 - % Positivos: 0.2013039934800326 - % f1score: 0.2430939226519337\n",
      "\n",
      "PIT:  2020-09-01 00:00:00\n",
      "[TRAIN] Start date: 2019-09-01 00:00:00 - End date: 2020-08-31 00:00:00 - N rows: 45962\n"
     ]
    },
    {
     "name": "stdout",
     "output_type": "stream",
     "text": [
      "ROC: 0.6280832135331533 - Precision: 0.2375 - % Positivos: 0.16137165910237014 - % f1score: 0.2753623188405797\n",
      "\n",
      "PIT:  2020-10-01 00:00:00\n",
      "[TRAIN] Start date: 2019-10-01 00:00:00 - End date: 2020-09-30 00:00:00 - N rows: 41305\n",
      "ROC: 0.6063105266762551 - Precision: 0.24607329842931938 - % Positivos: 0.14475179992421372 - % f1score: 0.27011494252873564\n",
      "\n",
      "PIT:  2020-11-01 00:00:00\n",
      "[TRAIN] Start date: 2019-11-01 00:00:00 - End date: 2020-10-31 00:00:00 - N rows: 36730\n",
      "ROC: 0.5905315659572625 - Precision: 0.17857142857142858 - % Positivos: 0.28672 - % f1score: 0.245398773006135\n",
      "\n",
      "PIT:  2020-12-01 00:00:00\n",
      "[TRAIN] Start date: 2019-12-01 00:00:00 - End date: 2020-11-30 00:00:00 - N rows: 33105\n",
      "ROC: 0.654940146884739 - Precision: 0.2038765254845657 - % Positivos: 0.503433321286592 - % f1score: 0.31260319207484866\n",
      "\n"
     ]
    }
   ],
   "source": [
    "list_df_pit_fi = []\n",
    "\n",
    "for tp in df_type['index']:\n",
    "    \n",
    "    print('-'*50)\n",
    "    print('TP: ', tp)\n",
    "\n",
    "    for _, pit, start_pred_data, end_pred_data, start_train_data, end_train_data in df_aux_dt_data.itertuples():\n",
    "\n",
    "        print('PIT: ', pit)\n",
    "\n",
    "        df_pit_train_data = df[(df['DATE_CITA'] >= start_train_data) & (df['DATE_CITA'] <= end_train_data) & (df['TIPO_PROFESIONAL'] == tp)]\n",
    "        df_pit_predict_data = df[(df['DATE_CITA'] >= start_pred_data) & (df['DATE_CITA'] <= end_pred_data) & (df['TIPO_PROFESIONAL'] == tp)]\n",
    "\n",
    "        print(f'[TRAIN] Start date: {start_train_data} - End date: {end_train_data} - N rows: {len(df_pit_train_data)}')\n",
    "\n",
    "        # https://medium.com/gett-engineering/handling-rare-categorical-values-in-pandas-d1e3f17475f0\n",
    "        for cat in ['NACIONALIDAD', 'TIPO_PROFESIONAL', 'PRESTACION', 'ESPECIALIDAD']:\n",
    "            df_pit_train_data[cat] = df_pit_train_data[cat].str.replace(' ', '_')\n",
    "            df_pit_train_data[cat] = df_pit_train_data[cat].\\\n",
    "                                        mask(df_pit_train_data[cat].\\\n",
    "                                        map(df_pit_train_data[cat].value_counts(normalize=True)) < 0.01, 'Other')\n",
    "\n",
    "            df_pit_predict_data[cat] = df_pit_predict_data[cat].str.replace(' ', '_')\n",
    "            df_pit_predict_data[cat] = df_pit_predict_data[cat].\\\n",
    "                                        mask(df_pit_predict_data[cat].\\\n",
    "                                        map(df_pit_predict_data[cat].value_counts(normalize=True)) < 0.01, 'Other')\n",
    "\n",
    "\n",
    "        # One hot encoder\n",
    "        for cat in ['SEXO', 'NACIONALIDAD', 'TIPO_PROFESIONAL', 'PRESTACION', 'ESPECIALIDAD']:\n",
    "            df_dummies = pd.get_dummies(df_pit_train_data[cat].str.upper(), prefix=cat[:3] + '_')\n",
    "            df_pit_train_data = pd.concat([df_pit_train_data, df_dummies], axis=1)\n",
    "\n",
    "            df_dummies = pd.get_dummies(df_pit_predict_data[cat].str.upper(), prefix=cat[:3] + '_')\n",
    "            df_pit_predict_data = pd.concat([df_pit_predict_data, df_dummies], axis=1)\n",
    "\n",
    "\n",
    "        # Agregamos las columnas como 0 para que el predict y el train tengan las mismas columnas\n",
    "        for falta in set(df_pit_train_data.columns) - set(df_pit_predict_data.columns):\n",
    "            df_pit_predict_data[falta] = 0\n",
    "\n",
    "        for falta in set(df_pit_predict_data.columns) - set(df_pit_train_data.columns):\n",
    "            df_pit_train_data[falta] = 0\n",
    "\n",
    "        # Utilizando el peso de la clase postivia\n",
    "        weight = df_pit_train_data['TARGET'].value_counts().max()/df_pit_train_data['TARGET'].value_counts().min()\n",
    "\n",
    "        classifier = xgb.XGBClassifier(eval_metric='logloss', \n",
    "                                       verbosity=0,\n",
    "                                       scale_pos_weight=weight,\n",
    "                                       seed=42)\n",
    "\n",
    "        X_train = df_pit_train_data.drop(['TARGET', 'SEXO', 'NACIONALIDAD', 'TIPO_PROFESIONAL',\n",
    "                                          'PRESTACION', 'ESPECIALIDAD', 'DATE_CITA'], axis='columns')\n",
    "        y_train = df_pit_train_data['TARGET']\n",
    "\n",
    "        X_test = df_pit_predict_data.drop(['TARGET', 'SEXO', 'NACIONALIDAD', 'TIPO_PROFESIONAL',\n",
    "                                           'PRESTACION', 'ESPECIALIDAD', 'DATE_CITA'], axis='columns')\n",
    "        y_test = df_pit_predict_data['TARGET']\n",
    "\n",
    "        classifier.fit(X_train, y_train)\n",
    "\n",
    "        y_pred = classifier.predict_proba(X_test)\n",
    "        print(basic_metrics(y_pred, y_test))\n",
    "\n",
    "        # Creo un dataframe con las features importance\n",
    "        df_fi = pd.DataFrame([classifier._Booster.get_score(importance_type='gain')])\n",
    "        df_fi['PIT'] = pit\n",
    "        df_fi['TP'] = tp\n",
    "\n",
    "        list_df_pit_fi.append(df_fi)\n",
    "\n",
    "        print()"
   ]
  },
  {
   "cell_type": "code",
   "execution_count": 204,
   "metadata": {
    "ExecuteTime": {
     "end_time": "2021-10-31T20:04:52.389824Z",
     "start_time": "2021-10-31T20:04:52.065791Z"
    }
   },
   "outputs": [],
   "source": [
    "df_fi = pd.concat(list_df_pit_fi)"
   ]
  },
  {
   "cell_type": "code",
   "execution_count": 205,
   "metadata": {
    "ExecuteTime": {
     "end_time": "2021-10-31T20:04:52.425717Z",
     "start_time": "2021-10-31T20:04:52.391793Z"
    }
   },
   "outputs": [
    {
     "data": {
      "text/html": [
       "<div>\n",
       "<style scoped>\n",
       "    .dataframe tbody tr th:only-of-type {\n",
       "        vertical-align: middle;\n",
       "    }\n",
       "\n",
       "    .dataframe tbody tr th {\n",
       "        vertical-align: top;\n",
       "    }\n",
       "\n",
       "    .dataframe thead th {\n",
       "        text-align: right;\n",
       "    }\n",
       "</style>\n",
       "<table border=\"1\" class=\"dataframe\">\n",
       "  <thead>\n",
       "    <tr style=\"text-align: right;\">\n",
       "      <th></th>\n",
       "      <th>ESP__HEMATOLOGÍA_ADULTO</th>\n",
       "      <th>NSP_365D</th>\n",
       "      <th>PREVIOUS_APP_365D</th>\n",
       "      <th>EDAD</th>\n",
       "      <th>ESP__OBSTETRICIA</th>\n",
       "      <th>PRE__OTHER</th>\n",
       "      <th>ESP__CARDIOLOGÍA_ADULTO</th>\n",
       "      <th>ESP__REUMATOLOGÍA</th>\n",
       "      <th>ESP__INMUNOLOGÍA_ADULTO</th>\n",
       "      <th>MINUTE_DAY</th>\n",
       "      <th>...</th>\n",
       "      <th>PRE__CITODIAGNOSTICO_CORRIENTE,_EXFOLIATIVA_(PAPANICOLAU_Y_SIMILARES)_(POR_CADA_ÓRGANO)</th>\n",
       "      <th>ESP__CIRUGÍA_ABDOMINAL</th>\n",
       "      <th>PRE__CONSULTA_SM_POR__ENFERMERA</th>\n",
       "      <th>PRE__REACCION_CUTANEA_16_ALERGENOS_POR_ESCARIFICACION_(INCLUYE_EL_VALOR_DE_LOS_ANTIGENOS)</th>\n",
       "      <th>PRE__VENOSA_EN_ADULTOS</th>\n",
       "      <th>ESP__SALUD_MENTAL</th>\n",
       "      <th>PRE__CONSULTAS_Y_CONTROLES_POR_OTROS_PROFESIONALES_EN_ESPECIALIDAD_(NIVEL_SECUNDARIO)_-_PROFESIONAL_-_KINESIÓLOGO</th>\n",
       "      <th>PRE__ATENCIÓN_KINESIOLÓGICA_INTEGRAL_AMBULATORIA</th>\n",
       "      <th>PRE__INTERVENCION_PSICOSOCIAL_GRUPAL_(4_A_8_PACIENTES,_FAMILIARES_O_CUIDADORES)</th>\n",
       "      <th>NAC__VENEZUELA</th>\n",
       "    </tr>\n",
       "  </thead>\n",
       "  <tbody>\n",
       "    <tr>\n",
       "      <th>0</th>\n",
       "      <td>NaN</td>\n",
       "      <td>28.912444</td>\n",
       "      <td>14.379688</td>\n",
       "      <td>43.808694</td>\n",
       "      <td>NaN</td>\n",
       "      <td>16.137822</td>\n",
       "      <td>NaN</td>\n",
       "      <td>NaN</td>\n",
       "      <td>NaN</td>\n",
       "      <td>17.614209</td>\n",
       "      <td>...</td>\n",
       "      <td>NaN</td>\n",
       "      <td>NaN</td>\n",
       "      <td>NaN</td>\n",
       "      <td>NaN</td>\n",
       "      <td>NaN</td>\n",
       "      <td>NaN</td>\n",
       "      <td>21.794667</td>\n",
       "      <td>14.276705</td>\n",
       "      <td>18.702757</td>\n",
       "      <td>NaN</td>\n",
       "    </tr>\n",
       "  </tbody>\n",
       "</table>\n",
       "<p>1 rows × 84 columns</p>\n",
       "</div>"
      ],
      "text/plain": [
       "   ESP__HEMATOLOGÍA_ADULTO   NSP_365D  PREVIOUS_APP_365D       EDAD  \\\n",
       "0                      NaN  28.912444          14.379688  43.808694   \n",
       "\n",
       "   ESP__OBSTETRICIA  PRE__OTHER  ESP__CARDIOLOGÍA_ADULTO  ESP__REUMATOLOGÍA  \\\n",
       "0               NaN   16.137822                      NaN                NaN   \n",
       "\n",
       "   ESP__INMUNOLOGÍA_ADULTO  MINUTE_DAY  ...  \\\n",
       "0                      NaN   17.614209  ...   \n",
       "\n",
       "   PRE__CITODIAGNOSTICO_CORRIENTE,_EXFOLIATIVA_(PAPANICOLAU_Y_SIMILARES)_(POR_CADA_ÓRGANO)  \\\n",
       "0                                                NaN                                         \n",
       "\n",
       "   ESP__CIRUGÍA_ABDOMINAL  PRE__CONSULTA_SM_POR__ENFERMERA  \\\n",
       "0                     NaN                              NaN   \n",
       "\n",
       "   PRE__REACCION_CUTANEA_16_ALERGENOS_POR_ESCARIFICACION_(INCLUYE_EL_VALOR_DE_LOS_ANTIGENOS)  \\\n",
       "0                                                NaN                                           \n",
       "\n",
       "   PRE__VENOSA_EN_ADULTOS  ESP__SALUD_MENTAL  \\\n",
       "0                     NaN                NaN   \n",
       "\n",
       "   PRE__CONSULTAS_Y_CONTROLES_POR_OTROS_PROFESIONALES_EN_ESPECIALIDAD_(NIVEL_SECUNDARIO)_-_PROFESIONAL_-_KINESIÓLOGO  \\\n",
       "0                                          21.794667                                                                   \n",
       "\n",
       "   PRE__ATENCIÓN_KINESIOLÓGICA_INTEGRAL_AMBULATORIA  \\\n",
       "0                                         14.276705   \n",
       "\n",
       "   PRE__INTERVENCION_PSICOSOCIAL_GRUPAL_(4_A_8_PACIENTES,_FAMILIARES_O_CUIDADORES)  \\\n",
       "0                                          18.702757                                 \n",
       "\n",
       "   NAC__VENEZUELA  \n",
       "0             NaN  \n",
       "\n",
       "[1 rows x 84 columns]"
      ]
     },
     "execution_count": 205,
     "metadata": {},
     "output_type": "execute_result"
    }
   ],
   "source": [
    "df_fi.sample()"
   ]
  },
  {
   "cell_type": "code",
   "execution_count": 206,
   "metadata": {
    "ExecuteTime": {
     "end_time": "2021-10-31T20:04:52.449602Z",
     "start_time": "2021-10-31T20:04:52.427589Z"
    }
   },
   "outputs": [],
   "source": [
    "df_fi.to_csv('tipo_profesional.csv', index=False)"
   ]
  },
  {
   "cell_type": "markdown",
   "metadata": {
    "ExecuteTime": {
     "end_time": "2021-10-31T20:04:52.453940Z",
     "start_time": "2021-10-31T20:04:52.451407Z"
    }
   },
   "source": [
    "## Prestación"
   ]
  },
  {
   "cell_type": "code",
   "execution_count": 208,
   "metadata": {
    "ExecuteTime": {
     "end_time": "2021-10-31T20:04:53.903353Z",
     "start_time": "2021-10-31T20:04:52.455892Z"
    }
   },
   "outputs": [
    {
     "data": {
      "text/html": [
       "<div>\n",
       "<style scoped>\n",
       "    .dataframe tbody tr th:only-of-type {\n",
       "        vertical-align: middle;\n",
       "    }\n",
       "\n",
       "    .dataframe tbody tr th {\n",
       "        vertical-align: top;\n",
       "    }\n",
       "\n",
       "    .dataframe thead th {\n",
       "        text-align: right;\n",
       "    }\n",
       "</style>\n",
       "<table border=\"1\" class=\"dataframe\">\n",
       "  <thead>\n",
       "    <tr style=\"text-align: right;\">\n",
       "      <th></th>\n",
       "      <th>index</th>\n",
       "      <th>PRESTACION</th>\n",
       "    </tr>\n",
       "  </thead>\n",
       "  <tbody>\n",
       "    <tr>\n",
       "      <th>0</th>\n",
       "      <td>Consulta Integral De Especialidades En Medic I...</td>\n",
       "      <td>0.161245</td>\n",
       "    </tr>\n",
       "    <tr>\n",
       "      <th>1</th>\n",
       "      <td>Consulta O Control Por Enfermera, Matrona O Nu...</td>\n",
       "      <td>0.120949</td>\n",
       "    </tr>\n",
       "    <tr>\n",
       "      <th>2</th>\n",
       "      <td>Consulta Medica Integral En C.R.S.</td>\n",
       "      <td>0.108050</td>\n",
       "    </tr>\n",
       "    <tr>\n",
       "      <th>3</th>\n",
       "      <td>Consulta Integral De Especialidades En Cirugia...</td>\n",
       "      <td>0.060034</td>\n",
       "    </tr>\n",
       "  </tbody>\n",
       "</table>\n",
       "</div>"
      ],
      "text/plain": [
       "                                               index  PRESTACION\n",
       "0  Consulta Integral De Especialidades En Medic I...    0.161245\n",
       "1  Consulta O Control Por Enfermera, Matrona O Nu...    0.120949\n",
       "2                 Consulta Medica Integral En C.R.S.    0.108050\n",
       "3  Consulta Integral De Especialidades En Cirugia...    0.060034"
      ]
     },
     "execution_count": 208,
     "metadata": {},
     "output_type": "execute_result"
    }
   ],
   "source": [
    "df_type = pd.DataFrame(df.loc[df['PRESTACION'] != -1]['PRESTACION'].value_counts(normalize=True)).reset_index()\n",
    "df_type = df_type.loc[df_type['PRESTACION'] >= 0.05]\n",
    "df_type"
   ]
  },
  {
   "cell_type": "code",
   "execution_count": 209,
   "metadata": {
    "ExecuteTime": {
     "end_time": "2021-10-31T20:20:51.877268Z",
     "start_time": "2021-10-31T20:04:53.905164Z"
    },
    "scrolled": false
   },
   "outputs": [
    {
     "name": "stdout",
     "output_type": "stream",
     "text": [
      "--------------------------------------------------\n",
      "TP:  Consulta Integral De Especialidades En Medic Interna Y Subesp, Oftalmo, Neurolo, Oncologia En Cdt\n",
      "PIT:  2019-01-01 00:00:00\n",
      "[TRAIN] Start date: 2018-01-01 00:00:00 - End date: 2018-12-31 00:00:00 - N rows: 228770\n",
      "ROC: 0.6286584339943468 - Precision: 0.14182257091128544 - % Positivos: 0.07727823897024531 - % f1score: 0.1380323054331865\n",
      "\n",
      "PIT:  2019-02-01 00:00:00\n",
      "[TRAIN] Start date: 2018-02-01 00:00:00 - End date: 2019-01-31 00:00:00 - N rows: 232690\n",
      "ROC: 0.5870729464529956 - Precision: 0.17293233082706766 - % Positivos: 0.05744785881772183 - % f1score: 0.13993915688830944\n",
      "\n",
      "PIT:  2019-03-01 00:00:00\n",
      "[TRAIN] Start date: 2018-03-01 00:00:00 - End date: 2019-02-28 00:00:00 - N rows: 232745\n",
      "ROC: 0.5310936512677263 - Precision: 0.18099547511312217 - % Positivos: 0.033392092671871064 - % f1score: 0.10864644635581709\n",
      "\n",
      "PIT:  2019-04-01 00:00:00\n",
      "[TRAIN] Start date: 2018-04-01 00:00:00 - End date: 2019-03-31 00:00:00 - N rows: 232283\n",
      "ROC: 0.5509425309799737 - Precision: 0.12493326214628937 - % Positivos: 0.09066705392583987 - % f1score: 0.13793103448275862\n",
      "\n",
      "PIT:  2019-05-01 00:00:00\n",
      "[TRAIN] Start date: 2018-05-01 00:00:00 - End date: 2019-04-30 00:00:00 - N rows: 233578\n",
      "ROC: 0.5382714542526116 - Precision: 0.12154150197628459 - % Positivos: 0.10165745856353592 - % f1score: 0.13442622950819672\n",
      "\n",
      "PIT:  2019-06-01 00:00:00\n",
      "[TRAIN] Start date: 2018-06-01 00:00:00 - End date: 2019-05-31 00:00:00 - N rows: 233489\n",
      "ROC: 0.5586469951775709 - Precision: 0.1381703470031546 - % Positivos: 0.07820980953320833 - % f1score: 0.12886142983230361\n",
      "\n",
      "PIT:  2019-07-01 00:00:00\n",
      "[TRAIN] Start date: 2018-07-01 00:00:00 - End date: 2019-06-30 00:00:00 - N rows: 233789\n",
      "ROC: 0.7306091643988631 - Precision: 0.15159687721788503 - % Positivos: 0.3354602161801819 - % f1score: 0.24330789383756693\n",
      "\n",
      "PIT:  2019-08-01 00:00:00\n",
      "[TRAIN] Start date: 2018-08-01 00:00:00 - End date: 2019-07-31 00:00:00 - N rows: 235539\n",
      "ROC: 0.6668011964171108 - Precision: 0.12540226305408492 - % Positivos: 0.46071069874216847 - % f1score: 0.2126011967617036\n",
      "\n",
      "PIT:  2019-09-01 00:00:00\n",
      "[TRAIN] Start date: 2018-09-01 00:00:00 - End date: 2019-08-31 00:00:00 - N rows: 234207\n",
      "ROC: 0.5907615770441307 - Precision: 0.14355362946912242 - % Positivos: 0.10423489553924337 - % f1score: 0.15954244431065623\n",
      "\n",
      "PIT:  2019-10-01 00:00:00\n",
      "[TRAIN] Start date: 2018-10-01 00:00:00 - End date: 2019-09-30 00:00:00 - N rows: 235275\n",
      "ROC: 0.7229990443868846 - Precision: 0.1850896981415834 - % Positivos: 0.4403500473036897 - % f1score: 0.29342643051771117\n",
      "\n",
      "PIT:  2019-11-01 00:00:00\n",
      "[TRAIN] Start date: 2018-11-01 00:00:00 - End date: 2019-10-31 00:00:00 - N rows: 234683\n",
      "ROC: 0.6206325231977998 - Precision: 0.13900239537832887 - % Positivos: 0.7063097133757962 - % f1score: 0.2378828068483241\n",
      "\n",
      "PIT:  2019-12-01 00:00:00\n",
      "[TRAIN] Start date: 2018-12-01 00:00:00 - End date: 2019-11-30 00:00:00 - N rows: 235838\n",
      "ROC: 0.5154811165214148 - Precision: 0.09473815773028371 - % Positivos: 0.4279525032092426 - % f1score: 0.1560312885961301\n",
      "\n",
      "PIT:  2020-01-01 00:00:00\n",
      "[TRAIN] Start date: 2019-01-01 00:00:00 - End date: 2019-12-31 00:00:00 - N rows: 237889\n",
      "ROC: 0.7211426661775615 - Precision: 0.16060462919225318 - % Positivos: 0.300866928798143 - % f1score: 0.2502453385672228\n",
      "\n",
      "PIT:  2020-02-01 00:00:00\n",
      "[TRAIN] Start date: 2019-02-01 00:00:00 - End date: 2020-01-31 00:00:00 - N rows: 237556\n",
      "ROC: 0.6393231428154934 - Precision: 0.14948589506986554 - % Positivos: 0.2144028036854898 - % f1score: 0.21129122414756846\n",
      "\n",
      "PIT:  2020-03-01 00:00:00\n",
      "[TRAIN] Start date: 2019-03-01 00:00:00 - End date: 2020-02-29 00:00:00 - N rows: 239041\n",
      "ROC: 0.7360112605648319 - Precision: 0.17527786121958547 - % Positivos: 0.3636661568713131 - % f1score: 0.27713132272619334\n",
      "\n",
      "PIT:  2020-04-01 00:00:00\n",
      "[TRAIN] Start date: 2019-04-01 00:00:00 - End date: 2020-03-31 00:00:00 - N rows: 237494\n",
      "ROC: 0.7141468419616613 - Precision: 0.07990240927111925 - % Positivos: 0.3934485241180706 - % f1score: 0.14301310043668122\n",
      "\n",
      "PIT:  2020-05-01 00:00:00\n",
      "[TRAIN] Start date: 2019-05-01 00:00:00 - End date: 2020-04-30 00:00:00 - N rows: 225170\n",
      "ROC: 0.793374869304917 - Precision: 0.14778112882378286 - % Positivos: 0.31556764106050306 - % f1score: 0.2423172024019781\n",
      "\n",
      "PIT:  2020-06-01 00:00:00\n",
      "[TRAIN] Start date: 2019-06-01 00:00:00 - End date: 2020-05-31 00:00:00 - N rows: 212615\n",
      "ROC: 0.7429688118900437 - Precision: 0.11837606837606837 - % Positivos: 0.31715912171320143 - % f1score: 0.1984240687679083\n",
      "\n",
      "PIT:  2020-07-01 00:00:00\n",
      "[TRAIN] Start date: 2019-07-01 00:00:00 - End date: 2020-06-30 00:00:00 - N rows: 199727\n",
      "ROC: 0.6241098520325965 - Precision: 0.05927230046948357 - % Positivos: 0.18795499669093316 - % f1score: 0.09479117785077427\n",
      "\n",
      "PIT:  2020-08-01 00:00:00\n",
      "[TRAIN] Start date: 2019-08-01 00:00:00 - End date: 2020-07-31 00:00:00 - N rows: 187792\n",
      "ROC: 0.5041877573491931 - Precision: 0.0637539010254124 - % Positivos: 0.22362911266201396 - % f1score: 0.10177935943060498\n",
      "\n",
      "PIT:  2020-09-01 00:00:00\n",
      "[TRAIN] Start date: 2019-09-01 00:00:00 - End date: 2020-08-31 00:00:00 - N rows: 176913\n",
      "ROC: 0.4928661059806779 - Precision: 0.060798548094373864 - % Positivos: 0.21180088410532386 - % f1score: 0.09486725663716813\n",
      "\n",
      "PIT:  2020-10-01 00:00:00\n",
      "[TRAIN] Start date: 2019-10-01 00:00:00 - End date: 2020-09-30 00:00:00 - N rows: 169609\n",
      "ROC: 0.6209028075199986 - Precision: 0.07398932112890923 - % Positivos: 0.5745464107283723 - % f1score: 0.13373776368399284\n",
      "\n",
      "PIT:  2020-11-01 00:00:00\n",
      "[TRAIN] Start date: 2019-11-01 00:00:00 - End date: 2020-10-31 00:00:00 - N rows: 159878\n",
      "ROC: 0.5952525119237899 - Precision: 0.07697412076974121 - % Positivos: 0.6403501317243138 - % f1score: 0.1396917148362235\n",
      "\n",
      "PIT:  2020-12-01 00:00:00\n",
      "[TRAIN] Start date: 2019-12-01 00:00:00 - End date: 2020-11-30 00:00:00 - N rows: 151549\n",
      "ROC: 0.5815242317381968 - Precision: 0.0728807057920982 - % Positivos: 0.702064631956912 - % f1score: 0.13350509427333412\n",
      "\n",
      "--------------------------------------------------\n",
      "TP:  Consulta O Control Por Enfermera, Matrona O Nutricionista\n",
      "PIT:  2019-01-01 00:00:00\n",
      "[TRAIN] Start date: 2018-01-01 00:00:00 - End date: 2018-12-31 00:00:00 - N rows: 172465\n",
      "ROC: 0.7916291936955551 - Precision: 0.2069755600814664 - % Positivos: 0.2564805746000653 - % f1score: 0.31191252637636674\n",
      "\n",
      "PIT:  2019-02-01 00:00:00\n",
      "[TRAIN] Start date: 2018-02-01 00:00:00 - End date: 2019-01-31 00:00:00 - N rows: 173884\n",
      "ROC: 0.7255285926380997 - Precision: 0.22284434490481522 - % Positivos: 0.21960816460365604 - % f1score: 0.31191222570532917\n",
      "\n",
      "PIT:  2019-03-01 00:00:00\n",
      "[TRAIN] Start date: 2018-03-01 00:00:00 - End date: 2019-02-28 00:00:00 - N rows: 173817\n",
      "ROC: 0.8018876966914293 - Precision: 0.24308787298111142 - % Positivos: 0.25429864253393664 - % f1score: 0.35259082787373436\n",
      "\n",
      "PIT:  2019-04-01 00:00:00\n",
      "[TRAIN] Start date: 2018-04-01 00:00:00 - End date: 2019-03-31 00:00:00 - N rows: 172865\n",
      "ROC: 0.793440864678927 - Precision: 0.2352389878163074 - % Positivos: 0.29361585030269677 - % f1score: 0.3460875560151672\n",
      "\n",
      "PIT:  2019-05-01 00:00:00\n",
      "[TRAIN] Start date: 2018-05-01 00:00:00 - End date: 2019-04-30 00:00:00 - N rows: 171916\n",
      "ROC: 0.75082049774415 - Precision: 0.22922490470139772 - % Positivos: 0.27728842223944755 - % f1score: 0.33327175318677255\n",
      "\n",
      "PIT:  2019-06-01 00:00:00\n",
      "[TRAIN] Start date: 2018-06-01 00:00:00 - End date: 2019-05-31 00:00:00 - N rows: 170542\n",
      "ROC: 0.753917339816485 - Precision: 0.22739916550764952 - % Positivos: 0.3090922117933653 - % f1score: 0.33647744812210606\n",
      "\n",
      "PIT:  2019-07-01 00:00:00\n",
      "[TRAIN] Start date: 2018-07-01 00:00:00 - End date: 2019-06-30 00:00:00 - N rows: 169954\n",
      "ROC: 0.6094270929807405 - Precision: 0.14569281171709386 - % Positivos: 0.34046322419788727 - % f1score: 0.2257727340600269\n",
      "\n",
      "PIT:  2019-08-01 00:00:00\n",
      "[TRAIN] Start date: 2018-08-01 00:00:00 - End date: 2019-07-31 00:00:00 - N rows: 170615\n",
      "ROC: 0.7244321729885 - Precision: 0.20350291909924936 - % Positivos: 0.23714398734177214 - % f1score: 0.29204069419509276\n",
      "\n",
      "PIT:  2019-09-01 00:00:00\n",
      "[TRAIN] Start date: 2018-09-01 00:00:00 - End date: 2019-08-31 00:00:00 - N rows: 170526\n",
      "ROC: 0.8011142545451752 - Precision: 0.2344074844074844 - % Positivos: 0.30447855673366037 - % f1score: 0.3515198752922837\n",
      "\n",
      "PIT:  2019-10-01 00:00:00\n"
     ]
    },
    {
     "name": "stdout",
     "output_type": "stream",
     "text": [
      "[TRAIN] Start date: 2018-10-01 00:00:00 - End date: 2019-09-30 00:00:00 - N rows: 170926\n",
      "ROC: 0.8032004284875299 - Precision: 0.24145633236542327 - % Positivos: 0.30026827632461434 - % f1score: 0.357473544973545\n",
      "\n",
      "PIT:  2019-11-01 00:00:00\n",
      "[TRAIN] Start date: 2018-11-01 00:00:00 - End date: 2019-10-31 00:00:00 - N rows: 169672\n",
      "ROC: 0.6129657244479791 - Precision: 0.14566719829877725 - % Positivos: 0.2624712202609363 - % f1score: 0.21232080588919025\n",
      "\n",
      "PIT:  2019-12-01 00:00:00\n",
      "[TRAIN] Start date: 2018-12-01 00:00:00 - End date: 2019-11-30 00:00:00 - N rows: 169742\n",
      "ROC: 0.5646427471335511 - Precision: 0.10398104265402844 - % Positivos: 0.7160795493110704 - % f1score: 0.18361369152230314\n",
      "\n",
      "PIT:  2020-01-01 00:00:00\n",
      "[TRAIN] Start date: 2019-01-01 00:00:00 - End date: 2019-12-31 00:00:00 - N rows: 171586\n",
      "ROC: 0.7376051919524687 - Precision: 0.20107763899093803 - % Positivos: 0.23266282979087127 - % f1score: 0.2947935368043088\n",
      "\n",
      "PIT:  2020-02-01 00:00:00\n",
      "[TRAIN] Start date: 2019-02-01 00:00:00 - End date: 2020-01-31 00:00:00 - N rows: 173820\n",
      "ROC: 0.7769094673745868 - Precision: 0.20009361104610343 - % Positivos: 0.27897107788731473 - % f1score: 0.305684662138005\n",
      "\n",
      "PIT:  2020-03-01 00:00:00\n",
      "[TRAIN] Start date: 2019-03-01 00:00:00 - End date: 2020-02-29 00:00:00 - N rows: 176938\n",
      "ROC: 0.7082246864514573 - Precision: 0.1991657977059437 - % Positivos: 0.21612079326923078 - % f1score: 0.2815033161385409\n",
      "\n",
      "PIT:  2020-04-01 00:00:00\n",
      "[TRAIN] Start date: 2019-04-01 00:00:00 - End date: 2020-03-31 00:00:00 - N rows: 175885\n",
      "ROC: 0.7453929363465224 - Precision: 0.11618257261410789 - % Positivos: 0.2018425460636516 - % f1score: 0.18995929443690637\n",
      "\n",
      "PIT:  2020-05-01 00:00:00\n",
      "[TRAIN] Start date: 2019-05-01 00:00:00 - End date: 2020-04-30 00:00:00 - N rows: 167319\n",
      "ROC: 0.7473656184819882 - Precision: 0.1991701244813278 - % Positivos: 0.21952996902896701 - % f1score: 0.29020556227327693\n",
      "\n",
      "PIT:  2020-06-01 00:00:00\n",
      "[TRAIN] Start date: 2019-06-01 00:00:00 - End date: 2020-05-31 00:00:00 - N rows: 158617\n",
      "ROC: 0.7057227682227682 - Precision: 0.12926992632283993 - % Positivos: 0.2854684512428298 - % f1score: 0.20989668297988037\n",
      "\n",
      "PIT:  2020-07-01 00:00:00\n",
      "[TRAIN] Start date: 2019-07-01 00:00:00 - End date: 2020-06-30 00:00:00 - N rows: 149890\n",
      "ROC: 0.6729899877366573 - Precision: 0.10174880763116058 - % Positivos: 0.2839301835690641 - % f1score: 0.1693868548742832\n",
      "\n",
      "PIT:  2020-08-01 00:00:00\n",
      "[TRAIN] Start date: 2019-08-01 00:00:00 - End date: 2020-07-31 00:00:00 - N rows: 141295\n",
      "ROC: 0.6715723510376657 - Precision: 0.1743119266055046 - % Positivos: 0.15538132573057734 - % f1score: 0.231990231990232\n",
      "\n",
      "PIT:  2020-09-01 00:00:00\n",
      "[TRAIN] Start date: 2019-09-01 00:00:00 - End date: 2020-08-31 00:00:00 - N rows: 133142\n",
      "ROC: 0.6320157755448043 - Precision: 0.1285631180919139 - % Positivos: 0.19847592656737098 - % f1score: 0.19059939629150496\n",
      "\n",
      "PIT:  2020-10-01 00:00:00\n",
      "[TRAIN] Start date: 2019-10-01 00:00:00 - End date: 2020-09-30 00:00:00 - N rows: 129165\n",
      "ROC: 0.6522002319006216 - Precision: 0.12415488629379226 - % Positivos: 0.18130153777579675 - % f1score: 0.18686401480111012\n",
      "\n",
      "PIT:  2020-11-01 00:00:00\n",
      "[TRAIN] Start date: 2019-11-01 00:00:00 - End date: 2020-10-31 00:00:00 - N rows: 123229\n",
      "ROC: 0.6354841143525181 - Precision: 0.09248291571753986 - % Positivos: 0.4315768777034998 - % f1score: 0.16072842438638163\n",
      "\n",
      "PIT:  2020-12-01 00:00:00\n",
      "[TRAIN] Start date: 2019-12-01 00:00:00 - End date: 2020-11-30 00:00:00 - N rows: 119068\n",
      "ROC: 0.6738959082902332 - Precision: 0.13247607655502391 - % Positivos: 0.34609811633202237 - % f1score: 0.2154669260700389\n",
      "\n",
      "--------------------------------------------------\n",
      "TP:  Consulta Medica Integral En C.R.S.\n",
      "PIT:  2019-01-01 00:00:00\n",
      "[TRAIN] Start date: 2018-01-01 00:00:00 - End date: 2018-12-31 00:00:00 - N rows: 145953\n",
      "ROC: 0.6453969646244573 - Precision: 0.28075170842824604 - % Positivos: 0.12785787097713702 - % f1score: 0.26335470085470086\n",
      "\n",
      "PIT:  2019-02-01 00:00:00\n",
      "[TRAIN] Start date: 2018-02-01 00:00:00 - End date: 2019-01-31 00:00:00 - N rows: 147107\n",
      "ROC: 0.6196867153497846 - Precision: 0.2589665653495441 - % Positivos: 0.17608649111539285 - % f1score: 0.2660836976889444\n",
      "\n",
      "PIT:  2019-03-01 00:00:00\n",
      "[TRAIN] Start date: 2018-03-01 00:00:00 - End date: 2019-02-28 00:00:00 - N rows: 147121\n",
      "ROC: 0.6479865329567845 - Precision: 0.22241252752630292 - % Positivos: 0.31229464353939024 - % f1score: 0.3087111563932756\n",
      "\n",
      "PIT:  2019-04-01 00:00:00\n",
      "[TRAIN] Start date: 2018-04-01 00:00:00 - End date: 2019-03-31 00:00:00 - N rows: 147752\n",
      "ROC: 0.6332125539314941 - Precision: 0.218729817007535 - % Positivos: 0.3521607278241092 - % f1score: 0.3089084828215263\n",
      "\n",
      "PIT:  2019-05-01 00:00:00\n",
      "[TRAIN] Start date: 2018-05-01 00:00:00 - End date: 2019-04-30 00:00:00 - N rows: 148359\n",
      "ROC: 0.718782350591827 - Precision: 0.27050691244239633 - % Positivos: 0.3572310478228661 - % f1score: 0.3758002560819462\n",
      "\n",
      "PIT:  2019-06-01 00:00:00\n",
      "[TRAIN] Start date: 2018-06-01 00:00:00 - End date: 2019-05-31 00:00:00 - N rows: 146982\n",
      "ROC: 0.6967089571149342 - Precision: 0.26425902864259027 - % Positivos: 0.35688888888888887 - % f1score: 0.36560992419021365\n",
      "\n",
      "PIT:  2019-07-01 00:00:00\n",
      "[TRAIN] Start date: 2018-07-01 00:00:00 - End date: 2019-06-30 00:00:00 - N rows: 145751\n",
      "ROC: 0.6412703355099931 - Precision: 0.2282268870031264 - % Positivos: 0.33803880123801616 - % f1score: 0.31514030218933087\n",
      "\n",
      "PIT:  2019-08-01 00:00:00\n",
      "[TRAIN] Start date: 2018-08-01 00:00:00 - End date: 2019-07-31 00:00:00 - N rows: 146585\n",
      "ROC: 0.6936602179347474 - Precision: 0.24028268551236748 - % Positivos: 0.3774172038230718 - % f1score: 0.34396515385696214\n",
      "\n",
      "PIT:  2019-09-01 00:00:00\n",
      "[TRAIN] Start date: 2018-09-01 00:00:00 - End date: 2019-08-31 00:00:00 - N rows: 146461\n",
      "ROC: 0.6958729599234081 - Precision: 0.23840579710144927 - % Positivos: 0.39012438748586503 - % f1score: 0.3449239909138564\n",
      "\n",
      "PIT:  2019-10-01 00:00:00\n",
      "[TRAIN] Start date: 2018-10-01 00:00:00 - End date: 2019-09-30 00:00:00 - N rows: 147356\n",
      "ROC: 0.6352361483984339 - Precision: 0.2322868052609249 - % Positivos: 0.3687710240162716 - % f1score: 0.3264271873602623\n",
      "\n",
      "PIT:  2019-11-01 00:00:00\n",
      "[TRAIN] Start date: 2018-11-01 00:00:00 - End date: 2019-10-31 00:00:00 - N rows: 146378\n",
      "ROC: 0.6348460515717996 - Precision: 0.2553191489361702 - % Positivos: 0.15722492909606575 - % f1score: 0.2463186077643909\n",
      "\n",
      "PIT:  2019-12-01 00:00:00\n",
      "[TRAIN] Start date: 2018-12-01 00:00:00 - End date: 2019-11-30 00:00:00 - N rows: 147437\n",
      "ROC: 0.49338021415270017 - Precision: 0.16897081413210446 - % Positivos: 0.1021978021978022 - % f1score: 0.1332525741974561\n",
      "\n",
      "PIT:  2020-01-01 00:00:00\n",
      "[TRAIN] Start date: 2019-01-01 00:00:00 - End date: 2019-12-31 00:00:00 - N rows: 149382\n",
      "ROC: 0.5106545251629656 - Precision: 0.1504890895410083 - % Positivos: 0.09201689399709202 - % f1score: 0.11795930404010616\n",
      "\n",
      "PIT:  2020-02-01 00:00:00\n",
      "[TRAIN] Start date: 2019-02-01 00:00:00 - End date: 2020-01-31 00:00:00 - N rows: 150091\n",
      "ROC: 0.5636499187039237 - Precision: 0.18404907975460122 - % Positivos: 0.08765797257327239 - % f1score: 0.13057671381936886\n",
      "\n",
      "PIT:  2020-03-01 00:00:00\n",
      "[TRAIN] Start date: 2019-03-01 00:00:00 - End date: 2020-02-29 00:00:00 - N rows: 151906\n",
      "ROC: 0.5321997864806371 - Precision: 0.16466083150984684 - % Positivos: 0.1344414209016695 - % f1score: 0.1657945469567612\n",
      "\n",
      "PIT:  2020-04-01 00:00:00\n",
      "[TRAIN] Start date: 2019-04-01 00:00:00 - End date: 2020-03-31 00:00:00 - N rows: 152416\n",
      "ROC: 0.5727481684511431 - Precision: 0.10499490316004077 - % Positivos: 0.1214559861334654 - % f1score: 0.13975576662143827\n",
      "\n",
      "PIT:  2020-05-01 00:00:00\n",
      "[TRAIN] Start date: 2019-05-01 00:00:00 - End date: 2020-04-30 00:00:00 - N rows: 147303\n",
      "ROC: 0.6109287885905742 - Precision: 0.12376237623762376 - % Positivos: 0.11172566371681415 - % f1score: 0.14150943396226415\n",
      "\n",
      "PIT:  2020-06-01 00:00:00\n",
      "[TRAIN] Start date: 2019-06-01 00:00:00 - End date: 2020-05-31 00:00:00 - N rows: 140578\n",
      "ROC: 0.6485412078875774 - Precision: 0.17477203647416414 - % Positivos: 0.30547818012999073 - % f1score: 0.25372311086596805\n",
      "\n",
      "PIT:  2020-07-01 00:00:00\n",
      "[TRAIN] Start date: 2019-07-01 00:00:00 - End date: 2020-06-30 00:00:00 - N rows: 133636\n",
      "ROC: 0.5691941499320103 - Precision: 0.14343029087261785 - % Positivos: 0.14620912157207802 - % f1score: 0.17270531400966183\n",
      "\n",
      "PIT:  2020-08-01 00:00:00\n"
     ]
    },
    {
     "name": "stdout",
     "output_type": "stream",
     "text": [
      "[TRAIN] Start date: 2019-08-01 00:00:00 - End date: 2020-07-31 00:00:00 - N rows: 127208\n",
      "ROC: 0.6112129709696823 - Precision: 0.19682726204465334 - % Positivos: 0.20827214880078315 - % f1score: 0.2489780750650316\n",
      "\n",
      "PIT:  2020-09-01 00:00:00\n",
      "[TRAIN] Start date: 2019-09-01 00:00:00 - End date: 2020-08-31 00:00:00 - N rows: 121883\n",
      "ROC: 0.63551570531002 - Precision: 0.18549406115744252 - % Positivos: 0.3980484860678 - % f1score: 0.27993897787948135\n",
      "\n",
      "PIT:  2020-10-01 00:00:00\n",
      "[TRAIN] Start date: 2019-10-01 00:00:00 - End date: 2020-09-30 00:00:00 - N rows: 121212\n",
      "ROC: 0.7291434249278195 - Precision: 0.2214828897338403 - % Positivos: 0.3940074906367041 - % f1score: 0.334529791816224\n",
      "\n",
      "PIT:  2020-11-01 00:00:00\n",
      "[TRAIN] Start date: 2019-11-01 00:00:00 - End date: 2020-10-31 00:00:00 - N rows: 119109\n",
      "ROC: 0.5790243110599723 - Precision: 0.16638434029738378 - % Positivos: 0.46785840084536806 - % f1score: 0.25851732709460445\n",
      "\n",
      "PIT:  2020-12-01 00:00:00\n",
      "[TRAIN] Start date: 2019-12-01 00:00:00 - End date: 2020-11-30 00:00:00 - N rows: 116714\n",
      "ROC: 0.6395750458638843 - Precision: 0.20355375618533514 - % Positivos: 0.4496359223300971 - % f1score: 0.3076661567227605\n",
      "\n",
      "--------------------------------------------------\n",
      "TP:  Consulta Integral De Especialidades En Cirugia, Gine-Obstetricia, Ortopedia Y Traumatologia (En Cdt)\n",
      "PIT:  2019-01-01 00:00:00\n",
      "[TRAIN] Start date: 2018-01-01 00:00:00 - End date: 2018-12-31 00:00:00 - N rows: 84296\n",
      "ROC: 0.6408178564635213 - Precision: 0.2097130242825607 - % Positivos: 0.23664620608593445 - % f1score: 0.2771699489423778\n",
      "\n",
      "PIT:  2019-02-01 00:00:00\n",
      "[TRAIN] Start date: 2018-02-01 00:00:00 - End date: 2019-01-31 00:00:00 - N rows: 84949\n",
      "ROC: 0.5894284267851526 - Precision: 0.16042047531992687 - % Positivos: 0.35358758888170655 - % f1score: 0.2391008174386921\n",
      "\n",
      "PIT:  2019-03-01 00:00:00\n",
      "[TRAIN] Start date: 2018-03-01 00:00:00 - End date: 2019-02-28 00:00:00 - N rows: 85070\n",
      "ROC: 0.6507789713045773 - Precision: 0.17849305047549377 - % Positivos: 0.3840427026267734 - % f1score: 0.27156371730662215\n",
      "\n",
      "PIT:  2019-04-01 00:00:00\n",
      "[TRAIN] Start date: 2018-04-01 00:00:00 - End date: 2019-03-31 00:00:00 - N rows: 85095\n",
      "ROC: 0.546136346431141 - Precision: 0.15821347464042393 - % Positivos: 0.16537305958938409 - % f1score: 0.18373626373626376\n",
      "\n",
      "PIT:  2019-05-01 00:00:00\n",
      "[TRAIN] Start date: 2018-05-01 00:00:00 - End date: 2019-04-30 00:00:00 - N rows: 86006\n",
      "ROC: 0.6619674946014256 - Precision: 0.15828260173021466 - % Positivos: 0.40701617110067817 - % f1score: 0.250316696224981\n",
      "\n",
      "PIT:  2019-06-01 00:00:00\n",
      "[TRAIN] Start date: 2018-06-01 00:00:00 - End date: 2019-05-31 00:00:00 - N rows: 86146\n",
      "ROC: 0.5819528525043153 - Precision: 0.20121422376409367 - % Positivos: 0.15022801302931596 - % f1score: 0.21672115833722558\n",
      "\n",
      "PIT:  2019-07-01 00:00:00\n",
      "[TRAIN] Start date: 2018-07-01 00:00:00 - End date: 2019-06-30 00:00:00 - N rows: 86093\n",
      "ROC: 0.6148770562221344 - Precision: 0.1520912547528517 - % Positivos: 0.43875119161105813 - % f1score: 0.24122334697393927\n",
      "\n",
      "PIT:  2019-08-01 00:00:00\n",
      "[TRAIN] Start date: 2018-08-01 00:00:00 - End date: 2019-07-31 00:00:00 - N rows: 87804\n",
      "ROC: 0.6721698346934186 - Precision: 0.15563808237677246 - % Positivos: 0.3815535231225042 - % f1score: 0.24851752021563342\n",
      "\n",
      "PIT:  2019-09-01 00:00:00\n",
      "[TRAIN] Start date: 2018-09-01 00:00:00 - End date: 2019-08-31 00:00:00 - N rows: 87917\n",
      "ROC: 0.5233092797302656 - Precision: 0.11050545094152626 - % Positivos: 0.30155409444112374 - % f1score: 0.16549165120593692\n",
      "\n",
      "PIT:  2019-10-01 00:00:00\n",
      "[TRAIN] Start date: 2018-10-01 00:00:00 - End date: 2019-09-30 00:00:00 - N rows: 88451\n",
      "ROC: 0.5243969923891686 - Precision: 0.1490280777537797 - % Positivos: 0.17078568793803026 - % f1score: 0.16513761467889906\n",
      "\n",
      "PIT:  2019-11-01 00:00:00\n",
      "[TRAIN] Start date: 2018-11-01 00:00:00 - End date: 2019-10-31 00:00:00 - N rows: 88179\n",
      "ROC: 0.5519502135655752 - Precision: 0.1978277734678045 - % Positivos: 0.20037307632519819 - % f1score: 0.22737405260811414\n",
      "\n",
      "PIT:  2019-12-01 00:00:00\n",
      "[TRAIN] Start date: 2018-12-01 00:00:00 - End date: 2019-11-30 00:00:00 - N rows: 87699\n",
      "ROC: 0.5520882977816989 - Precision: 0.15 - % Positivos: 0.12745262451786013 - % f1score: 0.15724137931034485\n",
      "\n",
      "PIT:  2020-01-01 00:00:00\n",
      "[TRAIN] Start date: 2019-01-01 00:00:00 - End date: 2019-12-31 00:00:00 - N rows: 87671\n",
      "ROC: 0.572705869428513 - Precision: 0.18479685452162517 - % Positivos: 0.09798381918582252 - % f1score: 0.16725978647686832\n",
      "\n",
      "PIT:  2020-02-01 00:00:00\n",
      "[TRAIN] Start date: 2019-02-01 00:00:00 - End date: 2020-01-31 00:00:00 - N rows: 87801\n",
      "ROC: 0.6900804285633271 - Precision: 0.2197891321978913 - % Positivos: 0.35522904062229904 - % f1score: 0.3211851851851852\n",
      "\n",
      "PIT:  2020-03-01 00:00:00\n",
      "[TRAIN] Start date: 2019-03-01 00:00:00 - End date: 2020-02-29 00:00:00 - N rows: 88555\n",
      "ROC: 0.5456471907957523 - Precision: 0.16666666666666666 - % Positivos: 0.30748422001803427 - % f1score: 0.23024983119513842\n",
      "\n",
      "PIT:  2020-04-01 00:00:00\n",
      "[TRAIN] Start date: 2019-04-01 00:00:00 - End date: 2020-03-31 00:00:00 - N rows: 88090\n",
      "ROC: 0.5855634775586536 - Precision: 0.1457663451232583 - % Positivos: 0.30430528375733856 - % f1score: 0.21266614542611417\n",
      "\n",
      "PIT:  2020-05-01 00:00:00\n",
      "[TRAIN] Start date: 2019-05-01 00:00:00 - End date: 2020-04-30 00:00:00 - N rows: 83168\n",
      "ROC: 0.5781755079292699 - Precision: 0.1372093023255814 - % Positivos: 0.34916768168899714 - % f1score: 0.2088495575221239\n",
      "\n",
      "PIT:  2020-06-01 00:00:00\n",
      "[TRAIN] Start date: 2019-06-01 00:00:00 - End date: 2020-05-31 00:00:00 - N rows: 77963\n",
      "ROC: 0.5734444391002518 - Precision: 0.12019826517967781 - % Positivos: 0.2987782302850796 - % f1score: 0.18267419962335216\n",
      "\n",
      "PIT:  2020-07-01 00:00:00\n",
      "[TRAIN] Start date: 2019-07-01 00:00:00 - End date: 2020-06-30 00:00:00 - N rows: 72989\n",
      "ROC: 0.6196472518457752 - Precision: 0.16374269005847952 - % Positivos: 0.22611570247933885 - % f1score: 0.23603793466807163\n",
      "\n",
      "PIT:  2020-08-01 00:00:00\n",
      "[TRAIN] Start date: 2019-08-01 00:00:00 - End date: 2020-07-31 00:00:00 - N rows: 67622\n",
      "ROC: 0.5883723590542312 - Precision: 0.12362030905077263 - % Positivos: 0.24896949711459193 - % f1score: 0.17905675459632295\n",
      "\n",
      "PIT:  2020-09-01 00:00:00\n",
      "[TRAIN] Start date: 2019-09-01 00:00:00 - End date: 2020-08-31 00:00:00 - N rows: 63498\n",
      "ROC: 0.6060161878887157 - Precision: 0.10950080515297907 - % Positivos: 0.3080357142857143 - % f1score: 0.17369093231162194\n",
      "\n",
      "PIT:  2020-10-01 00:00:00\n",
      "[TRAIN] Start date: 2019-10-01 00:00:00 - End date: 2020-09-30 00:00:00 - N rows: 60838\n",
      "ROC: 0.6009144617455728 - Precision: 0.11931818181818182 - % Positivos: 0.36109971276159214 - % f1score: 0.19030357951971\n",
      "\n",
      "PIT:  2020-11-01 00:00:00\n",
      "[TRAIN] Start date: 2019-11-01 00:00:00 - End date: 2020-10-31 00:00:00 - N rows: 57579\n",
      "ROC: 0.5837202840070866 - Precision: 0.1377091377091377 - % Positivos: 0.4206821873308067 - % f1score: 0.21896316507503408\n",
      "\n",
      "PIT:  2020-12-01 00:00:00\n",
      "[TRAIN] Start date: 2019-12-01 00:00:00 - End date: 2020-11-30 00:00:00 - N rows: 56687\n",
      "ROC: 0.5678569076506154 - Precision: 0.12028869286287089 - % Positivos: 0.5346195069667738 - % f1score: 0.2012747400201275\n",
      "\n"
     ]
    }
   ],
   "source": [
    "list_df_pit_fi = []\n",
    "\n",
    "for tp in df_type['index']:\n",
    "    \n",
    "    print('-'*50)\n",
    "    print('TP: ', tp)\n",
    "\n",
    "    for _, pit, start_pred_data, end_pred_data, start_train_data, end_train_data in df_aux_dt_data.itertuples():\n",
    "\n",
    "        print('PIT: ', pit)\n",
    "\n",
    "        df_pit_train_data = df[(df['DATE_CITA'] >= start_train_data) & (df['DATE_CITA'] <= end_train_data) & (df['PRESTACION'] == tp)]\n",
    "        df_pit_predict_data = df[(df['DATE_CITA'] >= start_pred_data) & (df['DATE_CITA'] <= end_pred_data) & (df['PRESTACION'] == tp)]\n",
    "\n",
    "        print(f'[TRAIN] Start date: {start_train_data} - End date: {end_train_data} - N rows: {len(df_pit_train_data)}')\n",
    "\n",
    "        # https://medium.com/gett-engineering/handling-rare-categorical-values-in-pandas-d1e3f17475f0\n",
    "        for cat in ['NACIONALIDAD', 'TIPO_PROFESIONAL', 'PRESTACION', 'ESPECIALIDAD']:\n",
    "            df_pit_train_data[cat] = df_pit_train_data[cat].str.replace(' ', '_')\n",
    "            df_pit_train_data[cat] = df_pit_train_data[cat].\\\n",
    "                                        mask(df_pit_train_data[cat].\\\n",
    "                                        map(df_pit_train_data[cat].value_counts(normalize=True)) < 0.01, 'Other')\n",
    "\n",
    "            df_pit_predict_data[cat] = df_pit_predict_data[cat].str.replace(' ', '_')\n",
    "            df_pit_predict_data[cat] = df_pit_predict_data[cat].\\\n",
    "                                        mask(df_pit_predict_data[cat].\\\n",
    "                                        map(df_pit_predict_data[cat].value_counts(normalize=True)) < 0.01, 'Other')\n",
    "\n",
    "\n",
    "        # One hot encoder\n",
    "        for cat in ['SEXO', 'NACIONALIDAD', 'TIPO_PROFESIONAL', 'PRESTACION', 'ESPECIALIDAD']:\n",
    "            df_dummies = pd.get_dummies(df_pit_train_data[cat].str.upper(), prefix=cat[:3] + '_')\n",
    "            df_pit_train_data = pd.concat([df_pit_train_data, df_dummies], axis=1)\n",
    "\n",
    "            df_dummies = pd.get_dummies(df_pit_predict_data[cat].str.upper(), prefix=cat[:3] + '_')\n",
    "            df_pit_predict_data = pd.concat([df_pit_predict_data, df_dummies], axis=1)\n",
    "\n",
    "\n",
    "        # Agregamos las columnas como 0 para que el predict y el train tengan las mismas columnas\n",
    "        for falta in set(df_pit_train_data.columns) - set(df_pit_predict_data.columns):\n",
    "            df_pit_predict_data[falta] = 0\n",
    "\n",
    "        for falta in set(df_pit_predict_data.columns) - set(df_pit_train_data.columns):\n",
    "            df_pit_train_data[falta] = 0\n",
    "\n",
    "        # Utilizando el peso de la clase postivia\n",
    "        weight = df_pit_train_data['TARGET'].value_counts().max()/df_pit_train_data['TARGET'].value_counts().min()\n",
    "\n",
    "        classifier = xgb.XGBClassifier(eval_metric='logloss', \n",
    "                                       verbosity=0,\n",
    "                                       scale_pos_weight=weight,\n",
    "                                       seed=42)\n",
    "\n",
    "        X_train = df_pit_train_data.drop(['TARGET', 'SEXO', 'NACIONALIDAD', 'TIPO_PROFESIONAL',\n",
    "                                          'PRESTACION', 'ESPECIALIDAD', 'DATE_CITA'], axis='columns')\n",
    "        y_train = df_pit_train_data['TARGET']\n",
    "\n",
    "        X_test = df_pit_predict_data.drop(['TARGET', 'SEXO', 'NACIONALIDAD', 'TIPO_PROFESIONAL',\n",
    "                                           'PRESTACION', 'ESPECIALIDAD', 'DATE_CITA'], axis='columns')\n",
    "        y_test = df_pit_predict_data['TARGET']\n",
    "\n",
    "        classifier.fit(X_train, y_train)\n",
    "\n",
    "        y_pred = classifier.predict_proba(X_test)\n",
    "        print(basic_metrics(y_pred, y_test))\n",
    "\n",
    "        # Creo un dataframe con las features importance\n",
    "        df_fi = pd.DataFrame([classifier._Booster.get_score(importance_type='gain')])\n",
    "        df_fi['PIT'] = pit\n",
    "        df_fi['TP'] = tp\n",
    "\n",
    "        list_df_pit_fi.append(df_fi)\n",
    "\n",
    "        print()"
   ]
  },
  {
   "cell_type": "code",
   "execution_count": 210,
   "metadata": {
    "ExecuteTime": {
     "end_time": "2021-10-31T20:20:52.316745Z",
     "start_time": "2021-10-31T20:20:51.879775Z"
    }
   },
   "outputs": [],
   "source": [
    "df_fi = pd.concat(list_df_pit_fi)"
   ]
  },
  {
   "cell_type": "code",
   "execution_count": 211,
   "metadata": {
    "ExecuteTime": {
     "end_time": "2021-10-31T20:20:52.344242Z",
     "start_time": "2021-10-31T20:20:52.318479Z"
    }
   },
   "outputs": [
    {
     "data": {
      "text/html": [
       "<div>\n",
       "<style scoped>\n",
       "    .dataframe tbody tr th:only-of-type {\n",
       "        vertical-align: middle;\n",
       "    }\n",
       "\n",
       "    .dataframe tbody tr th {\n",
       "        vertical-align: top;\n",
       "    }\n",
       "\n",
       "    .dataframe thead th {\n",
       "        text-align: right;\n",
       "    }\n",
       "</style>\n",
       "<table border=\"1\" class=\"dataframe\">\n",
       "  <thead>\n",
       "    <tr style=\"text-align: right;\">\n",
       "      <th></th>\n",
       "      <th>ESP__HEMATOLOGÍA_ADULTO</th>\n",
       "      <th>NSP_365D</th>\n",
       "      <th>PREVIOUS_APP_365D</th>\n",
       "      <th>ESP__CARDIOLOGÍA_ADULTO</th>\n",
       "      <th>ESP__ENFERMEDAD_RESPIRATORIA_DE_ADULTO_(BRONCOPULMONAR)</th>\n",
       "      <th>EDAD</th>\n",
       "      <th>MINUTE_DAY</th>\n",
       "      <th>TIP__MÉDICO_CIRUJANO</th>\n",
       "      <th>ESP__ONCOLOGÍA_ADULTO</th>\n",
       "      <th>ESP__INMUNOLOGÍA_ADULTO</th>\n",
       "      <th>...</th>\n",
       "      <th>ESP__ANESTESIOLOGÍA</th>\n",
       "      <th>ESP__CIRUGÍA_VASCULAR_PERIFÉRICA</th>\n",
       "      <th>ESP__UNIDAD_DE_PATOLOGÍA_CERVICAL_</th>\n",
       "      <th>ESP__UNIDAD_DE_PATOLOGÍA_MAMARIA</th>\n",
       "      <th>ESP__CIRUGÍA_ABDOMINAL_ADULTO_</th>\n",
       "      <th>ESP__CIRUGÍA_MÁXILO_FACIAL</th>\n",
       "      <th>ESP__ANESTESIOLOGÍA_ADULTO</th>\n",
       "      <th>ESP__COLOPROCTOLOGÍA</th>\n",
       "      <th>ESP__CIRUGÍA_PLÁSTICA_Y_REPARADORA</th>\n",
       "      <th>ESP__CIRUGÍA_TÓRAX_</th>\n",
       "    </tr>\n",
       "  </thead>\n",
       "  <tbody>\n",
       "    <tr>\n",
       "      <th>0</th>\n",
       "      <td>2818.21984</td>\n",
       "      <td>106.52081</td>\n",
       "      <td>54.060921</td>\n",
       "      <td>89.190901</td>\n",
       "      <td>135.405992</td>\n",
       "      <td>30.296699</td>\n",
       "      <td>53.841548</td>\n",
       "      <td>42.519914</td>\n",
       "      <td>120.956796</td>\n",
       "      <td>108.452364</td>\n",
       "      <td>...</td>\n",
       "      <td>NaN</td>\n",
       "      <td>NaN</td>\n",
       "      <td>NaN</td>\n",
       "      <td>NaN</td>\n",
       "      <td>NaN</td>\n",
       "      <td>NaN</td>\n",
       "      <td>NaN</td>\n",
       "      <td>NaN</td>\n",
       "      <td>NaN</td>\n",
       "      <td>NaN</td>\n",
       "    </tr>\n",
       "  </tbody>\n",
       "</table>\n",
       "<p>1 rows × 75 columns</p>\n",
       "</div>"
      ],
      "text/plain": [
       "   ESP__HEMATOLOGÍA_ADULTO   NSP_365D  PREVIOUS_APP_365D  \\\n",
       "0               2818.21984  106.52081          54.060921   \n",
       "\n",
       "   ESP__CARDIOLOGÍA_ADULTO  \\\n",
       "0                89.190901   \n",
       "\n",
       "   ESP__ENFERMEDAD_RESPIRATORIA_DE_ADULTO_(BRONCOPULMONAR)       EDAD  \\\n",
       "0                                         135.405992        30.296699   \n",
       "\n",
       "   MINUTE_DAY  TIP__MÉDICO_CIRUJANO  ESP__ONCOLOGÍA_ADULTO  \\\n",
       "0   53.841548             42.519914             120.956796   \n",
       "\n",
       "   ESP__INMUNOLOGÍA_ADULTO  ...  ESP__ANESTESIOLOGÍA  \\\n",
       "0               108.452364  ...                  NaN   \n",
       "\n",
       "   ESP__CIRUGÍA_VASCULAR_PERIFÉRICA  ESP__UNIDAD_DE_PATOLOGÍA_CERVICAL_  \\\n",
       "0                               NaN                                 NaN   \n",
       "\n",
       "   ESP__UNIDAD_DE_PATOLOGÍA_MAMARIA  ESP__CIRUGÍA_ABDOMINAL_ADULTO_  \\\n",
       "0                               NaN                             NaN   \n",
       "\n",
       "   ESP__CIRUGÍA_MÁXILO_FACIAL  ESP__ANESTESIOLOGÍA_ADULTO  \\\n",
       "0                         NaN                         NaN   \n",
       "\n",
       "   ESP__COLOPROCTOLOGÍA  ESP__CIRUGÍA_PLÁSTICA_Y_REPARADORA  \\\n",
       "0                   NaN                                 NaN   \n",
       "\n",
       "   ESP__CIRUGÍA_TÓRAX_  \n",
       "0                  NaN  \n",
       "\n",
       "[1 rows x 75 columns]"
      ]
     },
     "execution_count": 211,
     "metadata": {},
     "output_type": "execute_result"
    }
   ],
   "source": [
    "df_fi.sample()"
   ]
  },
  {
   "cell_type": "code",
   "execution_count": 2,
   "metadata": {
    "ExecuteTime": {
     "end_time": "2021-11-01T21:33:24.562520Z",
     "start_time": "2021-11-01T21:33:24.560350Z"
    }
   },
   "outputs": [],
   "source": [
    "### Versus una heuristica (TOP NSP365)"
   ]
  },
  {
   "cell_type": "code",
   "execution_count": 3,
   "metadata": {
    "ExecuteTime": {
     "end_time": "2021-11-01T21:33:45.194181Z",
     "start_time": "2021-11-01T21:33:45.191660Z"
    }
   },
   "outputs": [],
   "source": [
    "import dateutil.relativedelta\n",
    "import dateutil.parser as dparser"
   ]
  },
  {
   "cell_type": "code",
   "execution_count": 7,
   "metadata": {
    "ExecuteTime": {
     "end_time": "2021-11-01T21:34:52.405937Z",
     "start_time": "2021-11-01T21:34:28.967400Z"
    }
   },
   "outputs": [],
   "source": [
    "df_2018 = pd.read_csv('export_TRAINSET_FILTERED_2018_20211016.csv')\n",
    "df_2019 = pd.read_csv('export_TRAINSET_FILTERED_2019_20211016.csv')\n",
    "df_2020 = pd.read_csv('export_TRAINSET_FILTERED_2020_20211016.csv')"
   ]
  },
  {
   "cell_type": "code",
   "execution_count": 8,
   "metadata": {
    "ExecuteTime": {
     "end_time": "2021-11-01T21:34:55.880001Z",
     "start_time": "2021-11-01T21:34:52.407439Z"
    }
   },
   "outputs": [],
   "source": [
    "df = pd.concat([df_2018, df_2019, df_2020])"
   ]
  },
  {
   "cell_type": "code",
   "execution_count": 9,
   "metadata": {
    "ExecuteTime": {
     "end_time": "2021-11-01T21:35:01.798878Z",
     "start_time": "2021-11-01T21:34:55.882102Z"
    }
   },
   "outputs": [],
   "source": [
    "df = df[['EDAD', 'SEXO',\n",
    "         'DATE_CITA', 'MINUTE_DAY', 'DATE_OF_WEEK', \n",
    "         'APP_DISTANCE', 'APP_CALL', 'APP_VIDEOCALL',\n",
    "         'NACIONALIDAD', 'TIPO_PROFESIONAL', 'PRESTACION', 'ESPECIALIDAD',\n",
    "         'NSP_30D', 'NSP_60D', 'NSP_90D', 'NSP_120D', 'NSP_365D', \n",
    "         'PREVIOUS_APP_30D', 'PREVIOUS_APP_60D', 'PREVIOUS_APP_90D', 'PREVIOUS_APP_120D', 'PREVIOUS_APP_365D', \n",
    "         'TARGET']]\n"
   ]
  },
  {
   "cell_type": "code",
   "execution_count": 10,
   "metadata": {
    "ExecuteTime": {
     "end_time": "2021-11-01T21:35:04.183866Z",
     "start_time": "2021-11-01T21:35:01.800572Z"
    }
   },
   "outputs": [],
   "source": [
    "#Pareaseamos la fecha\n",
    "df['DATE_CITA'] = pd.to_datetime(df['DATE_CITA'])\n",
    "\n",
    "# Nos quedamos con 10k ejemplo para poder probar más rápido\n",
    "#df = df.sample(100000, random_state=45)\n",
    "\n",
    "# Imputamos -1 a los pacientes que no tienen NSP pasado\n",
    "df = df.fillna(-1)"
   ]
  },
  {
   "cell_type": "code",
   "execution_count": 11,
   "metadata": {
    "ExecuteTime": {
     "end_time": "2021-11-01T21:35:04.203426Z",
     "start_time": "2021-11-01T21:35:04.185542Z"
    }
   },
   "outputs": [],
   "source": [
    "lst_aux_data = []\n",
    "\n",
    "for x in range(24):\n",
    "    \n",
    "    pit = dparser.parse('2019-01-01', fuzzy=True) +  dateutil.relativedelta.relativedelta(months=x)\n",
    "    \n",
    "    start_pred_data = pit\n",
    "    end_pred_data = pit +  dateutil.relativedelta.relativedelta(months=1) -  dateutil.relativedelta.relativedelta(days=1)\n",
    "\n",
    "    \n",
    "    start_train_data = pit -  dateutil.relativedelta.relativedelta(months=12) \n",
    "    end_train_data = pit - dateutil.relativedelta.relativedelta(days=1)\n",
    "    \n",
    "    lst_aux_data.append({'pit':pit, \n",
    "                         'start_pred_data': start_pred_data,\n",
    "                         'end_pred_data': end_pred_data,\n",
    "                         'start_train_data': start_train_data,\n",
    "                         'end_train_data': end_train_data})\n",
    "    \n",
    "df_aux_dt_data = pd.DataFrame(lst_aux_data)    "
   ]
  },
  {
   "cell_type": "code",
   "execution_count": 22,
   "metadata": {
    "ExecuteTime": {
     "end_time": "2021-11-01T21:35:15.579880Z",
     "start_time": "2021-11-01T21:35:15.554928Z"
    }
   },
   "outputs": [
    {
     "data": {
      "text/html": [
       "<div>\n",
       "<style scoped>\n",
       "    .dataframe tbody tr th:only-of-type {\n",
       "        vertical-align: middle;\n",
       "    }\n",
       "\n",
       "    .dataframe tbody tr th {\n",
       "        vertical-align: top;\n",
       "    }\n",
       "\n",
       "    .dataframe thead th {\n",
       "        text-align: right;\n",
       "    }\n",
       "</style>\n",
       "<table border=\"1\" class=\"dataframe\">\n",
       "  <thead>\n",
       "    <tr style=\"text-align: right;\">\n",
       "      <th></th>\n",
       "      <th>pit</th>\n",
       "      <th>start_pred_data</th>\n",
       "      <th>end_pred_data</th>\n",
       "      <th>start_train_data</th>\n",
       "      <th>end_train_data</th>\n",
       "    </tr>\n",
       "  </thead>\n",
       "  <tbody>\n",
       "    <tr>\n",
       "      <th>0</th>\n",
       "      <td>2019-01-01</td>\n",
       "      <td>2019-01-01</td>\n",
       "      <td>2019-01-31</td>\n",
       "      <td>2018-01-01</td>\n",
       "      <td>2018-12-31</td>\n",
       "    </tr>\n",
       "    <tr>\n",
       "      <th>3</th>\n",
       "      <td>2019-04-01</td>\n",
       "      <td>2019-04-01</td>\n",
       "      <td>2019-04-30</td>\n",
       "      <td>2018-04-01</td>\n",
       "      <td>2019-03-31</td>\n",
       "    </tr>\n",
       "    <tr>\n",
       "      <th>16</th>\n",
       "      <td>2020-05-01</td>\n",
       "      <td>2020-05-01</td>\n",
       "      <td>2020-05-31</td>\n",
       "      <td>2019-05-01</td>\n",
       "      <td>2020-04-30</td>\n",
       "    </tr>\n",
       "    <tr>\n",
       "      <th>13</th>\n",
       "      <td>2020-02-01</td>\n",
       "      <td>2020-02-01</td>\n",
       "      <td>2020-02-29</td>\n",
       "      <td>2019-02-01</td>\n",
       "      <td>2020-01-31</td>\n",
       "    </tr>\n",
       "    <tr>\n",
       "      <th>2</th>\n",
       "      <td>2019-03-01</td>\n",
       "      <td>2019-03-01</td>\n",
       "      <td>2019-03-31</td>\n",
       "      <td>2018-03-01</td>\n",
       "      <td>2019-02-28</td>\n",
       "    </tr>\n",
       "  </tbody>\n",
       "</table>\n",
       "</div>"
      ],
      "text/plain": [
       "          pit start_pred_data end_pred_data start_train_data end_train_data\n",
       "0  2019-01-01      2019-01-01    2019-01-31       2018-01-01     2018-12-31\n",
       "3  2019-04-01      2019-04-01    2019-04-30       2018-04-01     2019-03-31\n",
       "16 2020-05-01      2020-05-01    2020-05-31       2019-05-01     2020-04-30\n",
       "13 2020-02-01      2020-02-01    2020-02-29       2019-02-01     2020-01-31\n",
       "2  2019-03-01      2019-03-01    2019-03-31       2018-03-01     2019-02-28"
      ]
     },
     "execution_count": 22,
     "metadata": {},
     "output_type": "execute_result"
    }
   ],
   "source": [
    "df_aux_dt_data.sample(5)"
   ]
  },
  {
   "cell_type": "code",
   "execution_count": 133,
   "metadata": {
    "ExecuteTime": {
     "end_time": "2021-11-01T22:31:09.296981Z",
     "start_time": "2021-11-01T22:29:32.472489Z"
    }
   },
   "outputs": [
    {
     "name": "stdout",
     "output_type": "stream",
     "text": [
      "PIT:  2019-01-01 00:00:00\n",
      "[TRAIN] Start date: 2018-01-01 00:00:00 - End date: 2018-12-31 00:00:00 - N rows: 1452117\n",
      "ROC: 0.6921464843257872 - Precision: 0.20799326337608498 - % Positivos: 0.36461400387334475 - % f1score: 0.3112338858195211\n",
      "\n"
     ]
    }
   ],
   "source": [
    "list_df_pit_fi = []\n",
    "\n",
    "for _, pit, start_pred_data, end_pred_data, start_train_data, end_train_data in df_aux_dt_data.itertuples():\n",
    "    \n",
    "    print('PIT: ', pit)\n",
    "    \n",
    "    df_pit_train_data = df[(df['DATE_CITA'] >= start_train_data) & (df['DATE_CITA'] <= end_train_data)]\n",
    "    df_pit_predict_data = df[(df['DATE_CITA'] >= start_pred_data) & (df['DATE_CITA'] <= end_pred_data)]\n",
    "\n",
    "    print(f'[TRAIN] Start date: {start_train_data} - End date: {end_train_data} - N rows: {len(df_pit_train_data)}')\n",
    "    \n",
    "    # https://medium.com/gett-engineering/handling-rare-categorical-values-in-pandas-d1e3f17475f0\n",
    "    for cat in ['NACIONALIDAD', 'TIPO_PROFESIONAL', 'PRESTACION', 'ESPECIALIDAD']:\n",
    "        df_pit_train_data[cat] = df_pit_train_data[cat].str.replace(' ', '_')\n",
    "        df_pit_train_data[cat] = df_pit_train_data[cat].\\\n",
    "                                    mask(df_pit_train_data[cat].\\\n",
    "                                    map(df_pit_train_data[cat].value_counts(normalize=True)) < 0.01, 'Other')\n",
    "        \n",
    "        df_pit_predict_data[cat] = df_pit_predict_data[cat].str.replace(' ', '_')\n",
    "        df_pit_predict_data[cat] = df_pit_predict_data[cat].\\\n",
    "                                    mask(df_pit_predict_data[cat].\\\n",
    "                                    map(df_pit_predict_data[cat].value_counts(normalize=True)) < 0.01, 'Other')\n",
    "        \n",
    "        \n",
    "    # One hot encoder\n",
    "    for cat in ['SEXO', 'NACIONALIDAD', 'TIPO_PROFESIONAL', 'PRESTACION', 'ESPECIALIDAD']:\n",
    "        df_dummies = pd.get_dummies(df_pit_train_data[cat].str.upper(), prefix=cat[:3] + '_')\n",
    "        df_pit_train_data = pd.concat([df_pit_train_data, df_dummies], axis=1)\n",
    "\n",
    "        df_dummies = pd.get_dummies(df_pit_predict_data[cat].str.upper(), prefix=cat[:3] + '_')\n",
    "        df_pit_predict_data = pd.concat([df_pit_predict_data, df_dummies], axis=1)\n",
    "\n",
    "    \n",
    "    # Agregamos las columnas como 0 para que el predict y el train tengan las mismas columnas\n",
    "    for falta in set(df_pit_train_data.columns) - set(df_pit_predict_data.columns):\n",
    "        df_pit_predict_data[falta] = 0\n",
    "        \n",
    "    for falta in set(df_pit_predict_data.columns) - set(df_pit_train_data.columns):\n",
    "        df_pit_train_data[falta] = 0\n",
    "        \n",
    "    # Utilizando el peso de la clase postivia\n",
    "    weight = df_pit_train_data['TARGET'].value_counts().max()/df_pit_train_data['TARGET'].value_counts().min()\n",
    "    \n",
    "    classifier = xgb.XGBClassifier(eval_metric='logloss', \n",
    "                                   verbosity=0,\n",
    "                                   scale_pos_weight=weight,\n",
    "                                   seed=42)\n",
    "\n",
    "    X_train = df_pit_train_data.drop(['TARGET', 'SEXO', 'NACIONALIDAD', 'TIPO_PROFESIONAL',\n",
    "                                      'PRESTACION', 'ESPECIALIDAD', 'DATE_CITA'], axis='columns')\n",
    "    y_train = df_pit_train_data['TARGET']\n",
    "    \n",
    "    X_test = df_pit_predict_data.drop(['TARGET', 'SEXO', 'NACIONALIDAD', 'TIPO_PROFESIONAL',\n",
    "                                       'PRESTACION', 'ESPECIALIDAD', 'DATE_CITA'], axis='columns')\n",
    "    y_test = df_pit_predict_data['TARGET']\n",
    "    \n",
    "    classifier.fit(X_train, y_train)\n",
    "\n",
    "    y_pred = classifier.predict_proba(X_test)\n",
    "    print(basic_metrics(y_pred, y_test))\n",
    "    \n",
    "    # Creo un dataframe con las features importance\n",
    "    df_fi = pd.DataFrame([classifier._Booster.get_score(importance_type='gain')])\n",
    "    df_fi['PIT'] = pit\n",
    "\n",
    "    list_df_pit_fi.append(df_fi)\n",
    "\n",
    "    print()\n",
    "    break"
   ]
  },
  {
   "cell_type": "code",
   "execution_count": 135,
   "metadata": {
    "ExecuteTime": {
     "end_time": "2021-11-01T22:32:02.082444Z",
     "start_time": "2021-11-01T22:31:55.880977Z"
    }
   },
   "outputs": [
    {
     "name": "stdout",
     "output_type": "stream",
     "text": [
      "0.1\n",
      "N Seleccionado:  121472\n",
      "- Precisión M: 0.126 - Precisión H: 0.118\n",
      "- Recall M: 0.981 - Recall H: 0.918\n",
      "- F1 M: 0.223 - F1 H: 0.209 - Lift: 0.068\n",
      "\n",
      "0.2\n",
      "N Seleccionado:  109833\n",
      "- Precisión M: 0.135 - Precisión H: 0.116\n",
      "- Recall M: 0.953 - Recall H: 0.816\n",
      "- F1 M: 0.237 - F1 H: 0.203 - Lift: 0.168\n",
      "\n",
      "0.3\n",
      "N Seleccionado:  90917\n",
      "- Precisión M: 0.151 - Precisión H: 0.125\n",
      "- Recall M: 0.882 - Recall H: 0.731\n",
      "- F1 M: 0.258 - F1 H: 0.214 - Lift: 0.206\n",
      "\n",
      "0.4\n",
      "N Seleccionado:  68454\n",
      "- Precisión M: 0.176 - Precisión H: 0.142\n",
      "- Recall M: 0.774 - Recall H: 0.623\n",
      "- F1 M: 0.287 - F1 H: 0.231 - Lift: 0.242\n",
      "\n",
      "0.5\n",
      "N Seleccionado:  46314\n",
      "- Precisión M: 0.208 - Precisión H: 0.174\n",
      "- Recall M: 0.618 - Recall H: 0.516\n",
      "- F1 M: 0.311 - F1 H: 0.26 - Lift: 0.197\n",
      "\n",
      "0.6\n",
      "N Seleccionado:  27021\n",
      "- Precisión M: 0.247 - Precisión H: 0.214\n",
      "- Recall M: 0.428 - Recall H: 0.371\n",
      "- F1 M: 0.313 - F1 H: 0.271 - Lift: 0.154\n",
      "\n",
      "0.7\n",
      "N Seleccionado:  11790\n",
      "- Precisión M: 0.295 - Precisión H: 0.265\n",
      "- Recall M: 0.223 - Recall H: 0.2\n",
      "- F1 M: 0.254 - F1 H: 0.228 - Lift: 0.115\n",
      "\n",
      "0.8\n",
      "N Seleccionado:  2506\n",
      "- Precisión M: 0.387 - Precisión H: 0.362\n",
      "- Recall M: 0.062 - Recall H: 0.058\n",
      "- F1 M: 0.107 - F1 H: 0.1 - Lift: 0.07\n",
      "\n",
      "0.9\n",
      "N Seleccionado:  119\n",
      "- Precisión M: 0.521 - Precisión H: 0.242\n",
      "- Recall M: 0.004 - Recall H: 0.002\n",
      "- F1 M: 0.008 - F1 H: 0.004 - Lift: 1.138\n",
      "\n"
     ]
    }
   ],
   "source": [
    "for prob in [round(int(x)*0.1, 1) for x in np.linspace(1, 9, 9)]:\n",
    "    \n",
    "    print(prob)\n",
    "    predictions = [1 if x[1] >= prob else 0 for x in y_pred]\n",
    "    \n",
    "    n_top = sum(predictions)\n",
    "    prec_modelo = precision_score(y_test, predictions)\n",
    "    rec_modelo = recall_score(y_test, predictions)\n",
    "    f1_modelo = f1_score(y_test, predictions)\n",
    "    \n",
    "\n",
    "    df_team = df_pit_predict_data[['TARGET', 'NSP_365D']].sort_values('NSP_365D', ascending=False).reset_index(drop=True).reset_index()\n",
    "    df_team['PRED'] = df_team['index'].apply(lambda x: 1 if x <= n_top else 0)\n",
    "    \n",
    "    prec_heur = precision_score(df_team['TARGET'], df_team['PRED'])\n",
    "    rec_heur = recall_score(df_team['TARGET'], df_team['PRED'])\n",
    "    f1_heur = f1_score(df_team['TARGET'], df_team['PRED'])\n",
    "    \n",
    "    print('N Seleccionado: ', n_top)\n",
    "    print(f'- Precisión M: {round(prec_modelo, 3)} - Precisión H: {round(prec_heur, 3)}')\n",
    "    print(f'- Recall M: {round(rec_modelo, 3)} - Recall H: {round(rec_heur, 3)}')\n",
    "    print(f'- F1 M: {round(f1_modelo, 3)} - F1 H: {round(f1_heur, 3)} - Lift: {round(f1_modelo/f1_heur - 1, 3)}')\n",
    "    print()\n",
    "\n",
    "    "
   ]
  }
 ],
 "metadata": {
  "kernelspec": {
   "display_name": "Python 3",
   "language": "python",
   "name": "python3"
  },
  "language_info": {
   "codemirror_mode": {
    "name": "ipython",
    "version": 3
   },
   "file_extension": ".py",
   "mimetype": "text/x-python",
   "name": "python",
   "nbconvert_exporter": "python",
   "pygments_lexer": "ipython3",
   "version": "3.8.6"
  }
 },
 "nbformat": 4,
 "nbformat_minor": 4
}
